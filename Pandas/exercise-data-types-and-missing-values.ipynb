{
 "cells": [
  {
   "cell_type": "markdown",
   "id": "189dc36b",
   "metadata": {
    "papermill": {
     "duration": 0.006712,
     "end_time": "2023-03-26T19:18:38.746850",
     "exception": false,
     "start_time": "2023-03-26T19:18:38.740138",
     "status": "completed"
    },
    "tags": []
   },
   "source": [
    "**This notebook is an exercise in the [Pandas](https://www.kaggle.com/learn/pandas) course.  You can reference the tutorial at [this link](https://www.kaggle.com/residentmario/data-types-and-missing-values).**\n",
    "\n",
    "---\n"
   ]
  },
  {
   "cell_type": "markdown",
   "id": "b9b5dc80",
   "metadata": {
    "papermill": {
     "duration": 0.004964,
     "end_time": "2023-03-26T19:18:38.757334",
     "exception": false,
     "start_time": "2023-03-26T19:18:38.752370",
     "status": "completed"
    },
    "tags": []
   },
   "source": [
    "# Introduction\n",
    "\n",
    "Run the following cell to load your data and some utility functions."
   ]
  },
  {
   "cell_type": "code",
   "execution_count": 1,
   "id": "f112b82a",
   "metadata": {
    "execution": {
     "iopub.execute_input": "2023-03-26T19:18:38.771170Z",
     "iopub.status.busy": "2023-03-26T19:18:38.770491Z",
     "iopub.status.idle": "2023-03-26T19:18:41.957665Z",
     "shell.execute_reply": "2023-03-26T19:18:41.956017Z"
    },
    "papermill": {
     "duration": 3.198622,
     "end_time": "2023-03-26T19:18:41.961351",
     "exception": false,
     "start_time": "2023-03-26T19:18:38.762729",
     "status": "completed"
    },
    "tags": []
   },
   "outputs": [
    {
     "name": "stdout",
     "output_type": "stream",
     "text": [
      "Setup complete.\n"
     ]
    }
   ],
   "source": [
    "import pandas as pd\n",
    "\n",
    "reviews = pd.read_csv(\"../input/wine-reviews/winemag-data-130k-v2.csv\", index_col=0)\n",
    "\n",
    "from learntools.core import binder; binder.bind(globals())\n",
    "from learntools.pandas.data_types_and_missing_data import *\n",
    "print(\"Setup complete.\")"
   ]
  },
  {
   "cell_type": "markdown",
   "id": "23cedf74",
   "metadata": {
    "papermill": {
     "duration": 0.004758,
     "end_time": "2023-03-26T19:18:41.971358",
     "exception": false,
     "start_time": "2023-03-26T19:18:41.966600",
     "status": "completed"
    },
    "tags": []
   },
   "source": [
    "# Exercises"
   ]
  },
  {
   "cell_type": "markdown",
   "id": "e6cf1519",
   "metadata": {
    "papermill": {
     "duration": 0.00462,
     "end_time": "2023-03-26T19:18:41.981401",
     "exception": false,
     "start_time": "2023-03-26T19:18:41.976781",
     "status": "completed"
    },
    "tags": []
   },
   "source": [
    "## 1. \n",
    "What is the data type of the `points` column in the dataset?"
   ]
  },
  {
   "cell_type": "code",
   "execution_count": 2,
   "id": "ed25b73f",
   "metadata": {
    "execution": {
     "iopub.execute_input": "2023-03-26T19:18:41.994660Z",
     "iopub.status.busy": "2023-03-26T19:18:41.993218Z",
     "iopub.status.idle": "2023-03-26T19:18:42.009594Z",
     "shell.execute_reply": "2023-03-26T19:18:42.008269Z"
    },
    "papermill": {
     "duration": 0.025836,
     "end_time": "2023-03-26T19:18:42.012389",
     "exception": false,
     "start_time": "2023-03-26T19:18:41.986553",
     "status": "completed"
    },
    "tags": []
   },
   "outputs": [
    {
     "data": {
      "application/javascript": [
       "parent.postMessage({\"jupyterEvent\": \"custom.exercise_interaction\", \"data\": {\"outcomeType\": 1, \"valueTowardsCompletion\": 0.25, \"interactionType\": 1, \"questionType\": 1, \"questionId\": \"1_PointsDtype\", \"learnToolsVersion\": \"0.3.4\", \"failureMessage\": \"\", \"exceptionClass\": \"\", \"trace\": \"\"}}, \"*\")"
      ],
      "text/plain": [
       "<IPython.core.display.Javascript object>"
      ]
     },
     "metadata": {},
     "output_type": "display_data"
    },
    {
     "data": {
      "text/markdown": [
       "<span style=\"color:#33cc33\">Correct</span>"
      ],
      "text/plain": [
       "Correct"
      ]
     },
     "metadata": {},
     "output_type": "display_data"
    }
   ],
   "source": [
    "# Your code here\n",
    "dtype = reviews.points.dtype\n",
    "\n",
    "# Check your answer\n",
    "q1.check()"
   ]
  },
  {
   "cell_type": "code",
   "execution_count": 3,
   "id": "097b89d5",
   "metadata": {
    "execution": {
     "iopub.execute_input": "2023-03-26T19:18:42.025606Z",
     "iopub.status.busy": "2023-03-26T19:18:42.024144Z",
     "iopub.status.idle": "2023-03-26T19:18:42.030483Z",
     "shell.execute_reply": "2023-03-26T19:18:42.028948Z"
    },
    "papermill": {
     "duration": 0.015841,
     "end_time": "2023-03-26T19:18:42.033324",
     "exception": false,
     "start_time": "2023-03-26T19:18:42.017483",
     "status": "completed"
    },
    "tags": []
   },
   "outputs": [],
   "source": [
    "#q1.hint()\n",
    "#q1.solution()"
   ]
  },
  {
   "cell_type": "markdown",
   "id": "6bee370a",
   "metadata": {
    "papermill": {
     "duration": 0.00488,
     "end_time": "2023-03-26T19:18:42.043418",
     "exception": false,
     "start_time": "2023-03-26T19:18:42.038538",
     "status": "completed"
    },
    "tags": []
   },
   "source": [
    "## 2. \n",
    "Create a Series from entries in the `points` column, but convert the entries to strings. Hint: strings are `str` in native Python."
   ]
  },
  {
   "cell_type": "code",
   "execution_count": 4,
   "id": "781846f1",
   "metadata": {
    "execution": {
     "iopub.execute_input": "2023-03-26T19:18:42.056247Z",
     "iopub.status.busy": "2023-03-26T19:18:42.055762Z",
     "iopub.status.idle": "2023-03-26T19:18:42.155032Z",
     "shell.execute_reply": "2023-03-26T19:18:42.153183Z"
    },
    "papermill": {
     "duration": 0.109662,
     "end_time": "2023-03-26T19:18:42.158208",
     "exception": false,
     "start_time": "2023-03-26T19:18:42.048546",
     "status": "completed"
    },
    "tags": []
   },
   "outputs": [
    {
     "data": {
      "application/javascript": [
       "parent.postMessage({\"jupyterEvent\": \"custom.exercise_interaction\", \"data\": {\"outcomeType\": 1, \"valueTowardsCompletion\": 0.25, \"interactionType\": 1, \"questionType\": 1, \"questionId\": \"2_StrPoints\", \"learnToolsVersion\": \"0.3.4\", \"failureMessage\": \"\", \"exceptionClass\": \"\", \"trace\": \"\"}}, \"*\")"
      ],
      "text/plain": [
       "<IPython.core.display.Javascript object>"
      ]
     },
     "metadata": {},
     "output_type": "display_data"
    },
    {
     "data": {
      "text/markdown": [
       "<span style=\"color:#33cc33\">Correct</span>"
      ],
      "text/plain": [
       "Correct"
      ]
     },
     "metadata": {},
     "output_type": "display_data"
    }
   ],
   "source": [
    "point_strings = reviews.points.astype(str)\n",
    "\n",
    "# Check your answer\n",
    "q2.check()"
   ]
  },
  {
   "cell_type": "code",
   "execution_count": 5,
   "id": "09d1da74",
   "metadata": {
    "execution": {
     "iopub.execute_input": "2023-03-26T19:18:42.172521Z",
     "iopub.status.busy": "2023-03-26T19:18:42.172085Z",
     "iopub.status.idle": "2023-03-26T19:18:42.188184Z",
     "shell.execute_reply": "2023-03-26T19:18:42.186820Z"
    },
    "papermill": {
     "duration": 0.026679,
     "end_time": "2023-03-26T19:18:42.191238",
     "exception": false,
     "start_time": "2023-03-26T19:18:42.164559",
     "status": "completed"
    },
    "tags": []
   },
   "outputs": [
    {
     "data": {
      "application/javascript": [
       "parent.postMessage({\"jupyterEvent\": \"custom.exercise_interaction\", \"data\": {\"interactionType\": 2, \"questionType\": 1, \"questionId\": \"2_StrPoints\", \"learnToolsVersion\": \"0.3.4\", \"valueTowardsCompletion\": 0.0, \"failureMessage\": \"\", \"exceptionClass\": \"\", \"trace\": \"\", \"outcomeType\": 4}}, \"*\")"
      ],
      "text/plain": [
       "<IPython.core.display.Javascript object>"
      ]
     },
     "metadata": {},
     "output_type": "display_data"
    },
    {
     "data": {
      "text/markdown": [
       "<span style=\"color:#3366cc\">Hint:</span> Convert a column of one type to another by using the `astype` function."
      ],
      "text/plain": [
       "Hint: Convert a column of one type to another by using the `astype` function."
      ]
     },
     "metadata": {},
     "output_type": "display_data"
    },
    {
     "data": {
      "application/javascript": [
       "parent.postMessage({\"jupyterEvent\": \"custom.exercise_interaction\", \"data\": {\"interactionType\": 3, \"questionType\": 1, \"questionId\": \"2_StrPoints\", \"learnToolsVersion\": \"0.3.4\", \"valueTowardsCompletion\": 0.0, \"failureMessage\": \"\", \"exceptionClass\": \"\", \"trace\": \"\", \"outcomeType\": 4}}, \"*\")"
      ],
      "text/plain": [
       "<IPython.core.display.Javascript object>"
      ]
     },
     "metadata": {},
     "output_type": "display_data"
    },
    {
     "data": {
      "text/markdown": [
       "<span style=\"color:#33cc99\">Solution:</span> \n",
       "```python\n",
       "point_strings = reviews.points.astype(str)\n",
       "```"
      ],
      "text/plain": [
       "Solution: \n",
       "```python\n",
       "point_strings = reviews.points.astype(str)\n",
       "```"
      ]
     },
     "metadata": {},
     "output_type": "display_data"
    }
   ],
   "source": [
    "q2.hint()\n",
    "q2.solution()"
   ]
  },
  {
   "cell_type": "markdown",
   "id": "37a40a1e",
   "metadata": {
    "papermill": {
     "duration": 0.005846,
     "end_time": "2023-03-26T19:18:42.203747",
     "exception": false,
     "start_time": "2023-03-26T19:18:42.197901",
     "status": "completed"
    },
    "tags": []
   },
   "source": [
    "## 3.\n",
    "Sometimes the price column is null. How many reviews in the dataset are missing a price?"
   ]
  },
  {
   "cell_type": "code",
   "execution_count": 6,
   "id": "53e04b2f",
   "metadata": {
    "execution": {
     "iopub.execute_input": "2023-03-26T19:18:42.218260Z",
     "iopub.status.busy": "2023-03-26T19:18:42.217842Z",
     "iopub.status.idle": "2023-03-26T19:18:42.229996Z",
     "shell.execute_reply": "2023-03-26T19:18:42.228476Z"
    },
    "papermill": {
     "duration": 0.02249,
     "end_time": "2023-03-26T19:18:42.232470",
     "exception": false,
     "start_time": "2023-03-26T19:18:42.209980",
     "status": "completed"
    },
    "tags": []
   },
   "outputs": [
    {
     "data": {
      "application/javascript": [
       "parent.postMessage({\"jupyterEvent\": \"custom.exercise_interaction\", \"data\": {\"outcomeType\": 1, \"valueTowardsCompletion\": 0.25, \"interactionType\": 1, \"questionType\": 1, \"questionId\": \"3_CountMissingPrices\", \"learnToolsVersion\": \"0.3.4\", \"failureMessage\": \"\", \"exceptionClass\": \"\", \"trace\": \"\"}}, \"*\")"
      ],
      "text/plain": [
       "<IPython.core.display.Javascript object>"
      ]
     },
     "metadata": {},
     "output_type": "display_data"
    },
    {
     "data": {
      "text/markdown": [
       "<span style=\"color:#33cc33\">Correct</span>"
      ],
      "text/plain": [
       "Correct"
      ]
     },
     "metadata": {},
     "output_type": "display_data"
    }
   ],
   "source": [
    "n_missing_prices = reviews.price.isnull().sum()\n",
    "\n",
    "# Check your answer\n",
    "q3.check()"
   ]
  },
  {
   "cell_type": "code",
   "execution_count": 7,
   "id": "9be267e9",
   "metadata": {
    "execution": {
     "iopub.execute_input": "2023-03-26T19:18:42.248298Z",
     "iopub.status.busy": "2023-03-26T19:18:42.247489Z",
     "iopub.status.idle": "2023-03-26T19:18:42.261641Z",
     "shell.execute_reply": "2023-03-26T19:18:42.260477Z"
    },
    "papermill": {
     "duration": 0.025249,
     "end_time": "2023-03-26T19:18:42.264199",
     "exception": false,
     "start_time": "2023-03-26T19:18:42.238950",
     "status": "completed"
    },
    "tags": []
   },
   "outputs": [
    {
     "data": {
      "application/javascript": [
       "parent.postMessage({\"jupyterEvent\": \"custom.exercise_interaction\", \"data\": {\"interactionType\": 2, \"questionType\": 1, \"questionId\": \"3_CountMissingPrices\", \"learnToolsVersion\": \"0.3.4\", \"valueTowardsCompletion\": 0.0, \"failureMessage\": \"\", \"exceptionClass\": \"\", \"trace\": \"\", \"outcomeType\": 4}}, \"*\")"
      ],
      "text/plain": [
       "<IPython.core.display.Javascript object>"
      ]
     },
     "metadata": {},
     "output_type": "display_data"
    },
    {
     "data": {
      "text/markdown": [
       "<span style=\"color:#3366cc\">Hint:</span> Use `pd.isnull()`."
      ],
      "text/plain": [
       "Hint: Use `pd.isnull()`."
      ]
     },
     "metadata": {},
     "output_type": "display_data"
    },
    {
     "data": {
      "application/javascript": [
       "parent.postMessage({\"jupyterEvent\": \"custom.exercise_interaction\", \"data\": {\"interactionType\": 3, \"questionType\": 1, \"questionId\": \"3_CountMissingPrices\", \"learnToolsVersion\": \"0.3.4\", \"valueTowardsCompletion\": 0.0, \"failureMessage\": \"\", \"exceptionClass\": \"\", \"trace\": \"\", \"outcomeType\": 4}}, \"*\")"
      ],
      "text/plain": [
       "<IPython.core.display.Javascript object>"
      ]
     },
     "metadata": {},
     "output_type": "display_data"
    },
    {
     "data": {
      "text/markdown": [
       "<span style=\"color:#33cc99\">Solution:</span> \n",
       "```python\n",
       "missing_price_reviews = reviews[reviews.price.isnull()]\n",
       "n_missing_prices = len(missing_price_reviews)\n",
       "# Cute alternative solution: if we sum a boolean series, True is treated as 1 and False as 0\n",
       "n_missing_prices = reviews.price.isnull().sum()\n",
       "# or equivalently:\n",
       "n_missing_prices = pd.isnull(reviews.price).sum()\n",
       "\n",
       "```"
      ],
      "text/plain": [
       "Solution: \n",
       "```python\n",
       "missing_price_reviews = reviews[reviews.price.isnull()]\n",
       "n_missing_prices = len(missing_price_reviews)\n",
       "# Cute alternative solution: if we sum a boolean series, True is treated as 1 and False as 0\n",
       "n_missing_prices = reviews.price.isnull().sum()\n",
       "# or equivalently:\n",
       "n_missing_prices = pd.isnull(reviews.price).sum()\n",
       "\n",
       "```"
      ]
     },
     "metadata": {},
     "output_type": "display_data"
    }
   ],
   "source": [
    "q3.hint()\n",
    "q3.solution()"
   ]
  },
  {
   "cell_type": "markdown",
   "id": "62efa2af",
   "metadata": {
    "papermill": {
     "duration": 0.007286,
     "end_time": "2023-03-26T19:18:42.278081",
     "exception": false,
     "start_time": "2023-03-26T19:18:42.270795",
     "status": "completed"
    },
    "tags": []
   },
   "source": [
    "## 4.\n",
    "What are the most common wine-producing regions? Create a Series counting the number of times each value occurs in the `region_1` field. This field is often missing data, so replace missing values with `Unknown`. Sort in descending order.  Your output should look something like this:\n",
    "\n",
    "```\n",
    "Unknown                    21247\n",
    "Napa Valley                 4480\n",
    "                           ...  \n",
    "Bardolino Superiore            1\n",
    "Primitivo del Tarantino        1\n",
    "Name: region_1, Length: 1230, dtype: int64\n",
    "```"
   ]
  },
  {
   "cell_type": "code",
   "execution_count": 8,
   "id": "9064f7b4",
   "metadata": {
    "execution": {
     "iopub.execute_input": "2023-03-26T19:18:42.293946Z",
     "iopub.status.busy": "2023-03-26T19:18:42.293074Z",
     "iopub.status.idle": "2023-03-26T19:18:42.464609Z",
     "shell.execute_reply": "2023-03-26T19:18:42.463210Z"
    },
    "papermill": {
     "duration": 0.183003,
     "end_time": "2023-03-26T19:18:42.467530",
     "exception": false,
     "start_time": "2023-03-26T19:18:42.284527",
     "status": "completed"
    },
    "tags": []
   },
   "outputs": [
    {
     "data": {
      "application/javascript": [
       "parent.postMessage({\"jupyterEvent\": \"custom.exercise_interaction\", \"data\": {\"outcomeType\": 1, \"valueTowardsCompletion\": 0.25, \"interactionType\": 1, \"questionType\": 2, \"questionId\": \"4_ReviewsPerRegion\", \"learnToolsVersion\": \"0.3.4\", \"failureMessage\": \"\", \"exceptionClass\": \"\", \"trace\": \"\"}}, \"*\")"
      ],
      "text/plain": [
       "<IPython.core.display.Javascript object>"
      ]
     },
     "metadata": {},
     "output_type": "display_data"
    },
    {
     "data": {
      "text/markdown": [
       "<span style=\"color:#33cc33\">Correct</span>"
      ],
      "text/plain": [
       "Correct"
      ]
     },
     "metadata": {},
     "output_type": "display_data"
    }
   ],
   "source": [
    "region_2 = reviews.region_1.fillna('Unknown')\n",
    "reviews_per_region = reviews.region_1.fillna('Unknown').sort_values(ascending = False).value_counts()\n",
    "\n",
    "# Check your answer\n",
    "q4.check()"
   ]
  },
  {
   "cell_type": "code",
   "execution_count": null,
   "id": "789b4369",
   "metadata": {
    "execution": {
     "iopub.execute_input": "2023-03-26T19:17:55.701216Z",
     "iopub.status.busy": "2023-03-26T19:17:55.700735Z",
     "iopub.status.idle": "2023-03-26T19:17:55.833134Z",
     "shell.execute_reply": "2023-03-26T19:17:55.831962Z",
     "shell.execute_reply.started": "2023-03-26T19:17:55.701177Z"
    },
    "papermill": {
     "duration": 0.006444,
     "end_time": "2023-03-26T19:18:42.480665",
     "exception": false,
     "start_time": "2023-03-26T19:18:42.474221",
     "status": "completed"
    },
    "tags": []
   },
   "outputs": [],
   "source": []
  },
  {
   "cell_type": "code",
   "execution_count": 9,
   "id": "ee730ea8",
   "metadata": {
    "execution": {
     "iopub.execute_input": "2023-03-26T19:18:42.496337Z",
     "iopub.status.busy": "2023-03-26T19:18:42.495806Z",
     "iopub.status.idle": "2023-03-26T19:18:42.513700Z",
     "shell.execute_reply": "2023-03-26T19:18:42.512075Z"
    },
    "papermill": {
     "duration": 0.029098,
     "end_time": "2023-03-26T19:18:42.516545",
     "exception": false,
     "start_time": "2023-03-26T19:18:42.487447",
     "status": "completed"
    },
    "tags": []
   },
   "outputs": [
    {
     "data": {
      "application/javascript": [
       "parent.postMessage({\"jupyterEvent\": \"custom.exercise_interaction\", \"data\": {\"interactionType\": 2, \"questionType\": 2, \"questionId\": \"4_ReviewsPerRegion\", \"learnToolsVersion\": \"0.3.4\", \"valueTowardsCompletion\": 0.0, \"failureMessage\": \"\", \"exceptionClass\": \"\", \"trace\": \"\", \"outcomeType\": 4}}, \"*\")"
      ],
      "text/plain": [
       "<IPython.core.display.Javascript object>"
      ]
     },
     "metadata": {},
     "output_type": "display_data"
    },
    {
     "data": {
      "text/markdown": [
       "<span style=\"color:#3366cc\">Hint:</span> Use `fillna()`, `value_counts()`, and `sort_values()`."
      ],
      "text/plain": [
       "Hint: Use `fillna()`, `value_counts()`, and `sort_values()`."
      ]
     },
     "metadata": {},
     "output_type": "display_data"
    },
    {
     "data": {
      "application/javascript": [
       "parent.postMessage({\"jupyterEvent\": \"custom.exercise_interaction\", \"data\": {\"interactionType\": 3, \"questionType\": 2, \"questionId\": \"4_ReviewsPerRegion\", \"learnToolsVersion\": \"0.3.4\", \"valueTowardsCompletion\": 0.0, \"failureMessage\": \"\", \"exceptionClass\": \"\", \"trace\": \"\", \"outcomeType\": 4}}, \"*\")"
      ],
      "text/plain": [
       "<IPython.core.display.Javascript object>"
      ]
     },
     "metadata": {},
     "output_type": "display_data"
    },
    {
     "data": {
      "text/markdown": [
       "<span style=\"color:#33cc99\">Solution:</span> \n",
       "```python\n",
       "reviews_per_region = reviews.region_1.fillna('Unknown').value_counts().sort_values(ascending=False)\n",
       "```"
      ],
      "text/plain": [
       "Solution: \n",
       "```python\n",
       "reviews_per_region = reviews.region_1.fillna('Unknown').value_counts().sort_values(ascending=False)\n",
       "```"
      ]
     },
     "metadata": {},
     "output_type": "display_data"
    }
   ],
   "source": [
    "q4.hint()\n",
    "q4.solution()"
   ]
  },
  {
   "cell_type": "markdown",
   "id": "fa98123c",
   "metadata": {
    "papermill": {
     "duration": 0.006833,
     "end_time": "2023-03-26T19:18:42.530699",
     "exception": false,
     "start_time": "2023-03-26T19:18:42.523866",
     "status": "completed"
    },
    "tags": []
   },
   "source": [
    "# Keep going\n",
    "\n",
    "Move on to **[renaming and combining](https://www.kaggle.com/residentmario/renaming-and-combining)**."
   ]
  },
  {
   "cell_type": "markdown",
   "id": "d0194f8b",
   "metadata": {
    "papermill": {
     "duration": 0.006754,
     "end_time": "2023-03-26T19:18:42.544705",
     "exception": false,
     "start_time": "2023-03-26T19:18:42.537951",
     "status": "completed"
    },
    "tags": []
   },
   "source": [
    "---\n",
    "\n",
    "\n",
    "\n",
    "\n",
    "*Have questions or comments? Visit the [course discussion forum](https://www.kaggle.com/learn/pandas/discussion) to chat with other learners.*"
   ]
  }
 ],
 "metadata": {
  "kernelspec": {
   "display_name": "Python 3",
   "language": "python",
   "name": "python3"
  },
  "language_info": {
   "codemirror_mode": {
    "name": "ipython",
    "version": 3
   },
   "file_extension": ".py",
   "mimetype": "text/x-python",
   "name": "python",
   "nbconvert_exporter": "python",
   "pygments_lexer": "ipython3",
   "version": "3.7.12"
  },
  "papermill": {
   "default_parameters": {},
   "duration": 15.777536,
   "end_time": "2023-03-26T19:18:43.578091",
   "environment_variables": {},
   "exception": null,
   "input_path": "__notebook__.ipynb",
   "output_path": "__notebook__.ipynb",
   "parameters": {},
   "start_time": "2023-03-26T19:18:27.800555",
   "version": "2.4.0"
  }
 },
 "nbformat": 4,
 "nbformat_minor": 5
}
