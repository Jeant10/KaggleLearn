{
 "cells": [
  {
   "cell_type": "markdown",
   "id": "432acb82",
   "metadata": {
    "papermill": {
     "duration": 0.008052,
     "end_time": "2023-03-20T01:50:56.444842",
     "exception": false,
     "start_time": "2023-03-20T01:50:56.436790",
     "status": "completed"
    },
    "tags": []
   },
   "source": [
    "**This notebook is an exercise in the [Intro to Programming](https://www.kaggle.com/learn/intro-to-programming) course.  You can reference the tutorial at [this link](https://www.kaggle.com/alexisbcook/data-types).**\n",
    "\n",
    "---\n"
   ]
  },
  {
   "cell_type": "markdown",
   "id": "816f0046",
   "metadata": {
    "papermill": {
     "duration": 0.006144,
     "end_time": "2023-03-20T01:50:56.457876",
     "exception": false,
     "start_time": "2023-03-20T01:50:56.451732",
     "status": "completed"
    },
    "tags": []
   },
   "source": [
    "In the tutorial, you learned about four different data types: floats, integers, strings, and booleans.  In this exercise, you'll experiment with them.\n",
    "\n",
    "# Set up the notebook\n",
    "\n",
    "Run the next code cell without changes to set up the notebook."
   ]
  },
  {
   "cell_type": "code",
   "execution_count": 1,
   "id": "9f4267a8",
   "metadata": {
    "execution": {
     "iopub.execute_input": "2023-03-20T01:50:56.472402Z",
     "iopub.status.busy": "2023-03-20T01:50:56.471971Z",
     "iopub.status.idle": "2023-03-20T01:50:56.511893Z",
     "shell.execute_reply": "2023-03-20T01:50:56.510285Z"
    },
    "papermill": {
     "duration": 0.051159,
     "end_time": "2023-03-20T01:50:56.515247",
     "exception": false,
     "start_time": "2023-03-20T01:50:56.464088",
     "status": "completed"
    },
    "tags": []
   },
   "outputs": [
    {
     "name": "stdout",
     "output_type": "stream",
     "text": [
      "Setup complete.\n"
     ]
    }
   ],
   "source": [
    "# Set up the exercise\n",
    "from learntools.core import binder\n",
    "binder.bind(globals())\n",
    "from learntools.intro_to_programming.ex3 import *\n",
    "print('Setup complete.')"
   ]
  },
  {
   "cell_type": "markdown",
   "id": "6485e824",
   "metadata": {
    "papermill": {
     "duration": 0.006177,
     "end_time": "2023-03-20T01:50:56.528248",
     "exception": false,
     "start_time": "2023-03-20T01:50:56.522071",
     "status": "completed"
    },
    "tags": []
   },
   "source": [
    "# Question 1\n",
    "\n",
    "You have seen how to convert a float to an integer with the `int` function.  Try this out yourself by running the code cell below."
   ]
  },
  {
   "cell_type": "code",
   "execution_count": 2,
   "id": "00d581f3",
   "metadata": {
    "execution": {
     "iopub.execute_input": "2023-03-20T01:50:56.543092Z",
     "iopub.status.busy": "2023-03-20T01:50:56.542198Z",
     "iopub.status.idle": "2023-03-20T01:50:56.548595Z",
     "shell.execute_reply": "2023-03-20T01:50:56.546964Z"
    },
    "papermill": {
     "duration": 0.016349,
     "end_time": "2023-03-20T01:50:56.550916",
     "exception": false,
     "start_time": "2023-03-20T01:50:56.534567",
     "status": "completed"
    },
    "tags": []
   },
   "outputs": [
    {
     "name": "stdout",
     "output_type": "stream",
     "text": [
      "1.0\n",
      "<class 'float'>\n",
      "1\n",
      "<class 'int'>\n"
     ]
    }
   ],
   "source": [
    "# Define a float\n",
    "y = 1.\n",
    "print(y)\n",
    "print(type(y))\n",
    "\n",
    "# Convert float to integer with the int function\n",
    "z = int(y)\n",
    "print(z)\n",
    "print(type(z))"
   ]
  },
  {
   "cell_type": "markdown",
   "id": "da35ef9f",
   "metadata": {
    "papermill": {
     "duration": 0.005979,
     "end_time": "2023-03-20T01:50:56.563211",
     "exception": false,
     "start_time": "2023-03-20T01:50:56.557232",
     "status": "completed"
    },
    "tags": []
   },
   "source": [
    "In this case, the float you are using has no numbers after the decimal.  \n",
    "- But what happens when you try to convert a float with a fractional part to an integer?  \n",
    "- How does the outcome of the `int` function change for positive and negative numbers?\n",
    "\n",
    "Use the next code cell to investigate and answer these questions.  Feel free to add or remove any lines of code -- it is your workspace!"
   ]
  },
  {
   "cell_type": "code",
   "execution_count": 3,
   "id": "849cbc13",
   "metadata": {
    "execution": {
     "iopub.execute_input": "2023-03-20T01:50:56.577743Z",
     "iopub.status.busy": "2023-03-20T01:50:56.576999Z",
     "iopub.status.idle": "2023-03-20T01:50:56.583236Z",
     "shell.execute_reply": "2023-03-20T01:50:56.581963Z"
    },
    "papermill": {
     "duration": 0.016148,
     "end_time": "2023-03-20T01:50:56.585615",
     "exception": false,
     "start_time": "2023-03-20T01:50:56.569467",
     "status": "completed"
    },
    "tags": []
   },
   "outputs": [
    {
     "name": "stdout",
     "output_type": "stream",
     "text": [
      "1\n",
      "1\n",
      "-3\n",
      "-2\n"
     ]
    }
   ],
   "source": [
    "# Uncomment and run this code to get started!\n",
    "print(int(1.2321))\n",
    "print(int(1.747))\n",
    "print(int(-3.94535))\n",
    "print(int(-2.19774))"
   ]
  },
  {
   "cell_type": "markdown",
   "id": "681baec3",
   "metadata": {
    "papermill": {
     "duration": 0.006116,
     "end_time": "2023-03-20T01:50:56.598023",
     "exception": false,
     "start_time": "2023-03-20T01:50:56.591907",
     "status": "completed"
    },
    "tags": []
   },
   "source": [
    "Once you have an answer, run the code cell below to see the solution.  Viewing the solution will give you credit for answering the problem."
   ]
  },
  {
   "cell_type": "code",
   "execution_count": 4,
   "id": "c2390adf",
   "metadata": {
    "execution": {
     "iopub.execute_input": "2023-03-20T01:50:56.612566Z",
     "iopub.status.busy": "2023-03-20T01:50:56.611860Z",
     "iopub.status.idle": "2023-03-20T01:50:56.620084Z",
     "shell.execute_reply": "2023-03-20T01:50:56.619259Z"
    },
    "papermill": {
     "duration": 0.017836,
     "end_time": "2023-03-20T01:50:56.622100",
     "exception": false,
     "start_time": "2023-03-20T01:50:56.604264",
     "status": "completed"
    },
    "tags": []
   },
   "outputs": [
    {
     "data": {
      "application/javascript": [
       "parent.postMessage({\"jupyterEvent\": \"custom.exercise_interaction\", \"data\": {\"outcomeType\": 1, \"valueTowardsCompletion\": 0.2, \"interactionType\": 1, \"questionType\": 4, \"questionId\": \"1_FloatToInt\", \"learnToolsVersion\": \"0.3.4\", \"failureMessage\": \"\", \"exceptionClass\": \"\", \"trace\": \"\"}}, \"*\")"
      ],
      "text/plain": [
       "<IPython.core.display.Javascript object>"
      ]
     },
     "metadata": {},
     "output_type": "display_data"
    },
    {
     "data": {
      "text/markdown": [
       "<span style=\"color:#33cc33\">Correct:</span> \n",
       "\n",
       "Negative floats are always rounded UP to the closest integer (for instance, both -1.1 and -1.9 are rounded up to -1). Positive floats are always rounded DOWN to the closest integer (for instance, 2.1 and 2.9 are rounded down to 2)."
      ],
      "text/plain": [
       "Correct: \n",
       "\n",
       "Negative floats are always rounded UP to the closest integer (for instance, both -1.1 and -1.9 are rounded up to -1). Positive floats are always rounded DOWN to the closest integer (for instance, 2.1 and 2.9 are rounded down to 2)."
      ]
     },
     "metadata": {},
     "output_type": "display_data"
    }
   ],
   "source": [
    "# Check your answer (Run this code cell to receive credit!)\n",
    "q1.check()"
   ]
  },
  {
   "cell_type": "markdown",
   "id": "1e3a29a2",
   "metadata": {
    "papermill": {
     "duration": 0.006403,
     "end_time": "2023-03-20T01:50:56.635269",
     "exception": false,
     "start_time": "2023-03-20T01:50:56.628866",
     "status": "completed"
    },
    "tags": []
   },
   "source": [
    "# Question 2\n",
    "\n",
    "In the tutorial, you learned about booleans (which can take a value of `True` or `False`), in addition to integers, floats, and strings.  For this question, your goal is to determine what happens when you multiply a boolean by any of these data types.  Specifically, \n",
    "- What happens when you multiply an integer or float by `True`?  What happens when you multiply them by `False`?  How does the answer change if the numbers are positive or negative?\n",
    "- What happens when you multiply a string by `True`?  By `False`?\n",
    "\n",
    "Use the next code cell for your investigation. "
   ]
  },
  {
   "cell_type": "code",
   "execution_count": 5,
   "id": "797bdbc6",
   "metadata": {
    "execution": {
     "iopub.execute_input": "2023-03-20T01:50:56.650859Z",
     "iopub.status.busy": "2023-03-20T01:50:56.650103Z",
     "iopub.status.idle": "2023-03-20T01:50:56.656233Z",
     "shell.execute_reply": "2023-03-20T01:50:56.654856Z"
    },
    "papermill": {
     "duration": 0.01682,
     "end_time": "2023-03-20T01:50:56.658775",
     "exception": false,
     "start_time": "2023-03-20T01:50:56.641955",
     "status": "completed"
    },
    "tags": []
   },
   "outputs": [
    {
     "name": "stdout",
     "output_type": "stream",
     "text": [
      "3\n",
      "-3.1\n",
      "<class 'str'>\n",
      "0\n"
     ]
    }
   ],
   "source": [
    "# Uncomment and run this code to get started!\n",
    "print(3 * True)\n",
    "print(-3.1 * True)\n",
    "print(type(\"abc\" * False))\n",
    "print(len(\"abc\" * False))"
   ]
  },
  {
   "cell_type": "markdown",
   "id": "4d3cb78b",
   "metadata": {
    "papermill": {
     "duration": 0.006424,
     "end_time": "2023-03-20T01:50:56.672900",
     "exception": false,
     "start_time": "2023-03-20T01:50:56.666476",
     "status": "completed"
    },
    "tags": []
   },
   "source": [
    "Once you have an answer, run the code cell below to see the solution.  Viewing the solution will give you credit for answering the problem."
   ]
  },
  {
   "cell_type": "code",
   "execution_count": 6,
   "id": "271673cb",
   "metadata": {
    "execution": {
     "iopub.execute_input": "2023-03-20T01:50:56.688194Z",
     "iopub.status.busy": "2023-03-20T01:50:56.687805Z",
     "iopub.status.idle": "2023-03-20T01:50:56.697218Z",
     "shell.execute_reply": "2023-03-20T01:50:56.695835Z"
    },
    "papermill": {
     "duration": 0.019887,
     "end_time": "2023-03-20T01:50:56.699569",
     "exception": false,
     "start_time": "2023-03-20T01:50:56.679682",
     "status": "completed"
    },
    "tags": []
   },
   "outputs": [
    {
     "data": {
      "application/javascript": [
       "parent.postMessage({\"jupyterEvent\": \"custom.exercise_interaction\", \"data\": {\"outcomeType\": 1, \"valueTowardsCompletion\": 0.2, \"interactionType\": 1, \"questionType\": 4, \"questionId\": \"2_MultiplyBooleans\", \"learnToolsVersion\": \"0.3.4\", \"failureMessage\": \"\", \"exceptionClass\": \"\", \"trace\": \"\"}}, \"*\")"
      ],
      "text/plain": [
       "<IPython.core.display.Javascript object>"
      ]
     },
     "metadata": {},
     "output_type": "display_data"
    },
    {
     "data": {
      "text/markdown": [
       "<span style=\"color:#33cc33\">Correct:</span> \n",
       "\n",
       "When you multiple an integer or float by a boolean with value `True`, it just returns that same integer or float (and is equivalent to multiplying by 1).  If you multiply an integer or float by a boolean with value `False`, it always returns 0.  This is true for both positive and negative numbers.  If you multiply a string by a boolean with value `True`, it just returns that same string.  And if you multiply a string by a boolean with value `False`, it returns an empty string (or a string with length zero)."
      ],
      "text/plain": [
       "Correct: \n",
       "\n",
       "When you multiple an integer or float by a boolean with value `True`, it just returns that same integer or float (and is equivalent to multiplying by 1).  If you multiply an integer or float by a boolean with value `False`, it always returns 0.  This is true for both positive and negative numbers.  If you multiply a string by a boolean with value `True`, it just returns that same string.  And if you multiply a string by a boolean with value `False`, it returns an empty string (or a string with length zero)."
      ]
     },
     "metadata": {},
     "output_type": "display_data"
    }
   ],
   "source": [
    "# Check your answer (Run this code cell to receive credit!)\n",
    "q2.check()"
   ]
  },
  {
   "cell_type": "markdown",
   "id": "075947ef",
   "metadata": {
    "papermill": {
     "duration": 0.006913,
     "end_time": "2023-03-20T01:50:56.713732",
     "exception": false,
     "start_time": "2023-03-20T01:50:56.706819",
     "status": "completed"
    },
    "tags": []
   },
   "source": [
    "# Question 3\n",
    "\n",
    "In this question, you will build off your work from the previous exercise to write a function that estimates the value of a house.\n",
    "\n",
    "Use the next code cell to create a function `get_expected_cost` that takes as input three variables:\n",
    "- `beds` - number of bedrooms (data type float)\n",
    "- `baths` - number of bathrooms (data type float)\n",
    "- `has_basement` - whether or not the house has a basement (data type boolean)\n",
    "\n",
    "It should return the expected cost of a house with those characteristics. Assume that:\n",
    "- the expected cost for a house with 0 bedrooms and 0 bathrooms, and no basement is 80000, \n",
    "- each bedroom adds 30000 to the expected cost,\n",
    "- each bathroom adds 10000 to the expected cost, and\n",
    "- a basement adds 40000 to the expected cost.\n",
    "\n",
    "For instance,\n",
    "- a house with 1 bedroom, 1 bathroom, and no basement has an expected cost of 80000 + 30000 + 10000 = 120000.  This value will be calculated with `get_expected_cost(1, 1, False)`.\n",
    "- a house with 2 bedrooms, 1 bathroom, and a basement has an expected cost of 80000 + 2*30000 + 10000 + 40000 = 190000.  This value will be calculated with `get_expected_cost(2, 1, True)`.\n",
    "\n",
    "Remember you can always get a hint by uncommenting `q3.hint()` in the code cell following the next!"
   ]
  },
  {
   "cell_type": "code",
   "execution_count": 7,
   "id": "5f7f13bc",
   "metadata": {
    "execution": {
     "iopub.execute_input": "2023-03-20T01:50:56.729713Z",
     "iopub.status.busy": "2023-03-20T01:50:56.729271Z",
     "iopub.status.idle": "2023-03-20T01:50:56.739306Z",
     "shell.execute_reply": "2023-03-20T01:50:56.738309Z"
    },
    "papermill": {
     "duration": 0.021015,
     "end_time": "2023-03-20T01:50:56.741853",
     "exception": false,
     "start_time": "2023-03-20T01:50:56.720838",
     "status": "completed"
    },
    "tags": []
   },
   "outputs": [
    {
     "data": {
      "application/javascript": [
       "parent.postMessage({\"jupyterEvent\": \"custom.exercise_interaction\", \"data\": {\"outcomeType\": 1, \"valueTowardsCompletion\": 0.2, \"interactionType\": 1, \"questionType\": 2, \"questionId\": \"3_EstimateHouseValueBool\", \"learnToolsVersion\": \"0.3.4\", \"failureMessage\": \"\", \"exceptionClass\": \"\", \"trace\": \"\"}}, \"*\")"
      ],
      "text/plain": [
       "<IPython.core.display.Javascript object>"
      ]
     },
     "metadata": {},
     "output_type": "display_data"
    },
    {
     "data": {
      "text/markdown": [
       "<span style=\"color:#33cc33\">Correct</span>"
      ],
      "text/plain": [
       "Correct"
      ]
     },
     "metadata": {},
     "output_type": "display_data"
    }
   ],
   "source": [
    "# TODO: Complete the function\n",
    "def get_expected_cost(beds, baths, has_basement):\n",
    "    value = 80000 + 30000*beds + 10000*baths + 40000*has_basement\n",
    "    return value\n",
    "\n",
    "# Check your answer \n",
    "q3.check()"
   ]
  },
  {
   "cell_type": "code",
   "execution_count": 8,
   "id": "a1b31da3",
   "metadata": {
    "execution": {
     "iopub.execute_input": "2023-03-20T01:50:56.758531Z",
     "iopub.status.busy": "2023-03-20T01:50:56.758125Z",
     "iopub.status.idle": "2023-03-20T01:50:56.767605Z",
     "shell.execute_reply": "2023-03-20T01:50:56.766477Z"
    },
    "papermill": {
     "duration": 0.020461,
     "end_time": "2023-03-20T01:50:56.769878",
     "exception": false,
     "start_time": "2023-03-20T01:50:56.749417",
     "status": "completed"
    },
    "tags": []
   },
   "outputs": [
    {
     "data": {
      "application/javascript": [
       "parent.postMessage({\"jupyterEvent\": \"custom.exercise_interaction\", \"data\": {\"interactionType\": 3, \"questionType\": 2, \"questionId\": \"3_EstimateHouseValueBool\", \"learnToolsVersion\": \"0.3.4\", \"valueTowardsCompletion\": 0.0, \"failureMessage\": \"\", \"exceptionClass\": \"\", \"trace\": \"\", \"outcomeType\": 4}}, \"*\")"
      ],
      "text/plain": [
       "<IPython.core.display.Javascript object>"
      ]
     },
     "metadata": {},
     "output_type": "display_data"
    },
    {
     "data": {
      "text/markdown": [
       "<span style=\"color:#33cc99\">Solution:</span> \n",
       "```python\n",
       "def get_expected_cost(beds, baths, has_basement):\n",
       "    value = 80000 + 30000 * beds + 10000 * baths + 40000 * has_basement\n",
       "    return value\n",
       "\n",
       "```"
      ],
      "text/plain": [
       "Solution: \n",
       "```python\n",
       "def get_expected_cost(beds, baths, has_basement):\n",
       "    value = 80000 + 30000 * beds + 10000 * baths + 40000 * has_basement\n",
       "    return value\n",
       "\n",
       "```"
      ]
     },
     "metadata": {},
     "output_type": "display_data"
    }
   ],
   "source": [
    "# Uncomment to see a hint\n",
    "#q3.hint()\n",
    "\n",
    "# Uncomment to view the solution\n",
    "q3.solution()"
   ]
  },
  {
   "cell_type": "markdown",
   "id": "63871258",
   "metadata": {
    "papermill": {
     "duration": 0.007562,
     "end_time": "2023-03-20T01:50:56.785189",
     "exception": false,
     "start_time": "2023-03-20T01:50:56.777627",
     "status": "completed"
    },
    "tags": []
   },
   "source": [
    "# Question 4\n",
    "\n",
    "We'll continue our study of boolean arithmetic.  For this question, your task is to provide a description of what happpens when you add booleans. \n",
    "\n",
    "Use the next code cell for your investigation.  Feel free to add or remove any lines of code - use it as your workspace!"
   ]
  },
  {
   "cell_type": "code",
   "execution_count": 9,
   "id": "3f051764",
   "metadata": {
    "execution": {
     "iopub.execute_input": "2023-03-20T01:50:56.803046Z",
     "iopub.status.busy": "2023-03-20T01:50:56.801973Z",
     "iopub.status.idle": "2023-03-20T01:50:56.808778Z",
     "shell.execute_reply": "2023-03-20T01:50:56.807613Z"
    },
    "papermill": {
     "duration": 0.018215,
     "end_time": "2023-03-20T01:50:56.811196",
     "exception": false,
     "start_time": "2023-03-20T01:50:56.792981",
     "status": "completed"
    },
    "tags": []
   },
   "outputs": [
    {
     "name": "stdout",
     "output_type": "stream",
     "text": [
      "0\n",
      "1\n",
      "1\n",
      "2\n",
      "3\n"
     ]
    }
   ],
   "source": [
    "print(False + False)\n",
    "print(True + False)\n",
    "print(False + True)\n",
    "print(True + True)\n",
    "print(False + True + True + True)"
   ]
  },
  {
   "cell_type": "markdown",
   "id": "f927cd7e",
   "metadata": {
    "papermill": {
     "duration": 0.007321,
     "end_time": "2023-03-20T01:50:56.826262",
     "exception": false,
     "start_time": "2023-03-20T01:50:56.818941",
     "status": "completed"
    },
    "tags": []
   },
   "source": [
    "Once you have an answer, run the code cell below to see the solution.  Viewing the solution will give you credit for answering the problem."
   ]
  },
  {
   "cell_type": "code",
   "execution_count": 10,
   "id": "5a6e3ab4",
   "metadata": {
    "execution": {
     "iopub.execute_input": "2023-03-20T01:50:56.843603Z",
     "iopub.status.busy": "2023-03-20T01:50:56.842832Z",
     "iopub.status.idle": "2023-03-20T01:50:56.851819Z",
     "shell.execute_reply": "2023-03-20T01:50:56.850632Z"
    },
    "papermill": {
     "duration": 0.020058,
     "end_time": "2023-03-20T01:50:56.853976",
     "exception": false,
     "start_time": "2023-03-20T01:50:56.833918",
     "status": "completed"
    },
    "tags": []
   },
   "outputs": [
    {
     "data": {
      "application/javascript": [
       "parent.postMessage({\"jupyterEvent\": \"custom.exercise_interaction\", \"data\": {\"outcomeType\": 1, \"valueTowardsCompletion\": 0.2, \"interactionType\": 1, \"questionType\": 4, \"questionId\": \"4_AddingBooleans\", \"learnToolsVersion\": \"0.3.4\", \"failureMessage\": \"\", \"exceptionClass\": \"\", \"trace\": \"\"}}, \"*\")"
      ],
      "text/plain": [
       "<IPython.core.display.Javascript object>"
      ]
     },
     "metadata": {},
     "output_type": "display_data"
    },
    {
     "data": {
      "text/markdown": [
       "<span style=\"color:#33cc33\">Correct:</span> \n",
       "\n",
       "When you add booleans, adding `False` is equivalent to adding 0, and adding `True` is equivalent to adding 1."
      ],
      "text/plain": [
       "Correct: \n",
       "\n",
       "When you add booleans, adding `False` is equivalent to adding 0, and adding `True` is equivalent to adding 1."
      ]
     },
     "metadata": {},
     "output_type": "display_data"
    }
   ],
   "source": [
    "# Check your answer (Run this code cell to receive credit!)\n",
    "q4.check()"
   ]
  },
  {
   "cell_type": "markdown",
   "id": "9a793c89",
   "metadata": {
    "papermill": {
     "duration": 0.007969,
     "end_time": "2023-03-20T01:50:56.870001",
     "exception": false,
     "start_time": "2023-03-20T01:50:56.862032",
     "status": "completed"
    },
    "tags": []
   },
   "source": [
    "# 🌶️ Question 5\n",
    "\n",
    "You own an online shop where you sell rings with custom engravings.  You offer both gold plated and solid gold rings.\n",
    "- Gold plated rings have a base cost of \\\\$50, and you charge \\\\$7 per engraved unit.  \n",
    "- Solid gold rings have a base cost of \\\\$100, and you charge \\\\$10 per engraved unit.\n",
    "- Spaces and punctuation are counted as engraved units.\n",
    "\n",
    "Write a function `cost_of_project()` that takes two arguments:\n",
    "- `engraving` - a Python string with the text of the engraving\n",
    "- `solid_gold` - a Boolean that indicates whether the ring is solid gold\n",
    "\n",
    "It should return the cost of the project.  This question should be fairly challenging, and you may need a hint."
   ]
  },
  {
   "cell_type": "code",
   "execution_count": 11,
   "id": "c3a209d3",
   "metadata": {
    "execution": {
     "iopub.execute_input": "2023-03-20T01:50:56.887679Z",
     "iopub.status.busy": "2023-03-20T01:50:56.887224Z",
     "iopub.status.idle": "2023-03-20T01:50:56.897061Z",
     "shell.execute_reply": "2023-03-20T01:50:56.895957Z"
    },
    "papermill": {
     "duration": 0.02144,
     "end_time": "2023-03-20T01:50:56.899296",
     "exception": false,
     "start_time": "2023-03-20T01:50:56.877856",
     "status": "completed"
    },
    "tags": []
   },
   "outputs": [
    {
     "data": {
      "application/javascript": [
       "parent.postMessage({\"jupyterEvent\": \"custom.exercise_interaction\", \"data\": {\"outcomeType\": 1, \"valueTowardsCompletion\": 0.2, \"interactionType\": 1, \"questionType\": 2, \"questionId\": \"5_CustomEngravings\", \"learnToolsVersion\": \"0.3.4\", \"failureMessage\": \"\", \"exceptionClass\": \"\", \"trace\": \"\"}}, \"*\")"
      ],
      "text/plain": [
       "<IPython.core.display.Javascript object>"
      ]
     },
     "metadata": {},
     "output_type": "display_data"
    },
    {
     "data": {
      "text/markdown": [
       "<span style=\"color:#33cc33\">Correct</span>"
      ],
      "text/plain": [
       "Correct"
      ]
     },
     "metadata": {},
     "output_type": "display_data"
    }
   ],
   "source": [
    "def cost_of_project(engraving, solid_gold):\n",
    "    cost = cost = solid_gold * (100 + 10 * len(engraving)) + (not solid_gold) * (50 + 7 * len(engraving))\n",
    "    return cost\n",
    "\n",
    "# Check your answer\n",
    "q5.check()"
   ]
  },
  {
   "cell_type": "code",
   "execution_count": 12,
   "id": "7f51c19d",
   "metadata": {
    "execution": {
     "iopub.execute_input": "2023-03-20T01:50:56.918085Z",
     "iopub.status.busy": "2023-03-20T01:50:56.917151Z",
     "iopub.status.idle": "2023-03-20T01:50:56.926103Z",
     "shell.execute_reply": "2023-03-20T01:50:56.925208Z"
    },
    "papermill": {
     "duration": 0.0207,
     "end_time": "2023-03-20T01:50:56.928315",
     "exception": false,
     "start_time": "2023-03-20T01:50:56.907615",
     "status": "completed"
    },
    "tags": []
   },
   "outputs": [
    {
     "data": {
      "application/javascript": [
       "parent.postMessage({\"jupyterEvent\": \"custom.exercise_interaction\", \"data\": {\"interactionType\": 3, \"questionType\": 2, \"questionId\": \"5_CustomEngravings\", \"learnToolsVersion\": \"0.3.4\", \"valueTowardsCompletion\": 0.0, \"failureMessage\": \"\", \"exceptionClass\": \"\", \"trace\": \"\", \"outcomeType\": 4}}, \"*\")"
      ],
      "text/plain": [
       "<IPython.core.display.Javascript object>"
      ]
     },
     "metadata": {},
     "output_type": "display_data"
    },
    {
     "data": {
      "text/markdown": [
       "<span style=\"color:#33cc99\">Solution:</span> \n",
       "```python\n",
       "def cost_of_project(engraving, solid_gold):\n",
       "    cost = solid_gold * (100 + 10 * len(engraving)) + (not solid_gold) * (50 + 7 * len(engraving))\n",
       "    return cost\n",
       "\n",
       "```"
      ],
      "text/plain": [
       "Solution: \n",
       "```python\n",
       "def cost_of_project(engraving, solid_gold):\n",
       "    cost = solid_gold * (100 + 10 * len(engraving)) + (not solid_gold) * (50 + 7 * len(engraving))\n",
       "    return cost\n",
       "\n",
       "```"
      ]
     },
     "metadata": {},
     "output_type": "display_data"
    }
   ],
   "source": [
    "# Uncomment to see a hint\n",
    "#q5.hint()\n",
    "\n",
    "# Uncomment to view the solution\n",
    "q5.solution()"
   ]
  },
  {
   "cell_type": "markdown",
   "id": "bc5c4557",
   "metadata": {
    "papermill": {
     "duration": 0.008104,
     "end_time": "2023-03-20T01:50:56.944872",
     "exception": false,
     "start_time": "2023-03-20T01:50:56.936768",
     "status": "completed"
    },
    "tags": []
   },
   "source": [
    "Run the next code cell to calculate the cost of engraving `Charlie+Denver` on a solid gold ring."
   ]
  },
  {
   "cell_type": "code",
   "execution_count": 13,
   "id": "09529052",
   "metadata": {
    "execution": {
     "iopub.execute_input": "2023-03-20T01:50:56.963323Z",
     "iopub.status.busy": "2023-03-20T01:50:56.962898Z",
     "iopub.status.idle": "2023-03-20T01:50:56.968073Z",
     "shell.execute_reply": "2023-03-20T01:50:56.967191Z"
    },
    "papermill": {
     "duration": 0.017453,
     "end_time": "2023-03-20T01:50:56.970530",
     "exception": false,
     "start_time": "2023-03-20T01:50:56.953077",
     "status": "completed"
    },
    "tags": []
   },
   "outputs": [
    {
     "name": "stdout",
     "output_type": "stream",
     "text": [
      "240\n"
     ]
    }
   ],
   "source": [
    "project_one = cost_of_project(\"Charlie+Denver\", True)\n",
    "print(project_one)"
   ]
  },
  {
   "cell_type": "markdown",
   "id": "e11cc594",
   "metadata": {
    "papermill": {
     "duration": 0.008056,
     "end_time": "2023-03-20T01:50:56.987032",
     "exception": false,
     "start_time": "2023-03-20T01:50:56.978976",
     "status": "completed"
    },
    "tags": []
   },
   "source": [
    "Use the next code cell to calculate the cost of engraving `08/10/2000` on a gold plated ring."
   ]
  },
  {
   "cell_type": "code",
   "execution_count": 14,
   "id": "1461145b",
   "metadata": {
    "execution": {
     "iopub.execute_input": "2023-03-20T01:50:57.005638Z",
     "iopub.status.busy": "2023-03-20T01:50:57.004850Z",
     "iopub.status.idle": "2023-03-20T01:50:57.010591Z",
     "shell.execute_reply": "2023-03-20T01:50:57.009444Z"
    },
    "papermill": {
     "duration": 0.017897,
     "end_time": "2023-03-20T01:50:57.013131",
     "exception": false,
     "start_time": "2023-03-20T01:50:56.995234",
     "status": "completed"
    },
    "tags": []
   },
   "outputs": [
    {
     "name": "stdout",
     "output_type": "stream",
     "text": [
      "120\n"
     ]
    }
   ],
   "source": [
    "project_two = cost_of_project(\"08/10/2000\", False)\n",
    "print(project_two)"
   ]
  },
  {
   "cell_type": "markdown",
   "id": "3f87671f",
   "metadata": {
    "papermill": {
     "duration": 0.008192,
     "end_time": "2023-03-20T01:50:57.029622",
     "exception": false,
     "start_time": "2023-03-20T01:50:57.021430",
     "status": "completed"
    },
    "tags": []
   },
   "source": [
    "# Keep going\n",
    "\n",
    "Continue to the next lesson to **[learn about conditions and conditional statements](https://www.kaggle.com/alexisbcook/conditions-and-conditional-statements)**."
   ]
  },
  {
   "cell_type": "markdown",
   "id": "0fa57e8c",
   "metadata": {
    "papermill": {
     "duration": 0.0082,
     "end_time": "2023-03-20T01:50:57.046474",
     "exception": false,
     "start_time": "2023-03-20T01:50:57.038274",
     "status": "completed"
    },
    "tags": []
   },
   "source": [
    "---\n",
    "\n",
    "\n",
    "\n",
    "\n",
    "*Have questions or comments? Visit the [course discussion forum](https://www.kaggle.com/learn/intro-to-programming/discussion) to chat with other learners.*"
   ]
  }
 ],
 "metadata": {
  "kernelspec": {
   "display_name": "Python 3",
   "language": "python",
   "name": "python3"
  },
  "language_info": {
   "codemirror_mode": {
    "name": "ipython",
    "version": 3
   },
   "file_extension": ".py",
   "mimetype": "text/x-python",
   "name": "python",
   "nbconvert_exporter": "python",
   "pygments_lexer": "ipython3",
   "version": "3.7.12"
  },
  "papermill": {
   "default_parameters": {},
   "duration": 11.395645,
   "end_time": "2023-03-20T01:50:57.676932",
   "environment_variables": {},
   "exception": null,
   "input_path": "__notebook__.ipynb",
   "output_path": "__notebook__.ipynb",
   "parameters": {},
   "start_time": "2023-03-20T01:50:46.281287",
   "version": "2.4.0"
  }
 },
 "nbformat": 4,
 "nbformat_minor": 5
}
