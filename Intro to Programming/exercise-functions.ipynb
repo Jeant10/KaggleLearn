{
 "cells": [
  {
   "cell_type": "markdown",
   "id": "95dcfebe",
   "metadata": {
    "papermill": {
     "duration": 0.006913,
     "end_time": "2023-03-19T19:59:58.170740",
     "exception": false,
     "start_time": "2023-03-19T19:59:58.163827",
     "status": "completed"
    },
    "tags": []
   },
   "source": [
    "**This notebook is an exercise in the [Intro to Programming](https://www.kaggle.com/learn/intro-to-programming) course.  You can reference the tutorial at [this link](https://www.kaggle.com/alexisbcook/functions).**\n",
    "\n",
    "---\n"
   ]
  },
  {
   "cell_type": "markdown",
   "id": "87cdca41",
   "metadata": {
    "papermill": {
     "duration": 0.00553,
     "end_time": "2023-03-19T19:59:58.182218",
     "exception": false,
     "start_time": "2023-03-19T19:59:58.176688",
     "status": "completed"
    },
    "tags": []
   },
   "source": [
    "In the tutorial, you learned about functions. In this exercise, you'll write some of your own!\n",
    "\n",
    "# Set up the notebook\n",
    "\n",
    "Run the next code cell without changes to set up the notebook."
   ]
  },
  {
   "cell_type": "code",
   "execution_count": 1,
   "id": "6c766fe8",
   "metadata": {
    "execution": {
     "iopub.execute_input": "2023-03-19T19:59:58.196129Z",
     "iopub.status.busy": "2023-03-19T19:59:58.195379Z",
     "iopub.status.idle": "2023-03-19T19:59:58.248112Z",
     "shell.execute_reply": "2023-03-19T19:59:58.246611Z"
    },
    "papermill": {
     "duration": 0.062802,
     "end_time": "2023-03-19T19:59:58.250872",
     "exception": false,
     "start_time": "2023-03-19T19:59:58.188070",
     "status": "completed"
    },
    "tags": []
   },
   "outputs": [
    {
     "name": "stdout",
     "output_type": "stream",
     "text": [
      "Setup complete.\n"
     ]
    }
   ],
   "source": [
    "# Set up the exercise\n",
    "import math\n",
    "from learntools.core import binder\n",
    "binder.bind(globals())\n",
    "from learntools.intro_to_programming.ex2 import *\n",
    "print('Setup complete.')"
   ]
  },
  {
   "cell_type": "markdown",
   "id": "7e056cd5",
   "metadata": {
    "papermill": {
     "duration": 0.005645,
     "end_time": "2023-03-19T19:59:58.262513",
     "exception": false,
     "start_time": "2023-03-19T19:59:58.256868",
     "status": "completed"
    },
    "tags": []
   },
   "source": [
    "# Question 1\n",
    "\n",
    "In the [House Prices - Advanced Regression Techniques competition](https://www.kaggle.com/c/house-prices-advanced-regression-techniques/overview), you need to use information like the number of bedrooms and bathrooms to predict the price of a house.  Inspired by this competition, you'll write your own function to do this.\n",
    "\n",
    "In the next code cell, create a function `get_expected_cost()` that has two arguments:\n",
    "- `beds` - number of bedrooms \n",
    "- `baths` - number of bathrooms\n",
    "\n",
    "It should return the expected cost of a house with that number of bedrooms and bathrooms.  Assume that:\n",
    "- the expected cost for a house with 0 bedrooms and 0 bathrooms is `80000`.  \n",
    "- each bedroom adds `30000` to the expected cost\n",
    "- each bathroom adds `10000` to the expected cost.\n",
    "\n",
    "For instance, \n",
    "- a house with 1 bedroom and 1 bathroom has an expected cost of `120000`, and \n",
    "- a house with 2 bedrooms and 1 bathroom has an expected cost of `150000`."
   ]
  },
  {
   "cell_type": "code",
   "execution_count": 2,
   "id": "c1f358e1",
   "metadata": {
    "execution": {
     "iopub.execute_input": "2023-03-19T19:59:58.276789Z",
     "iopub.status.busy": "2023-03-19T19:59:58.276021Z",
     "iopub.status.idle": "2023-03-19T19:59:58.286579Z",
     "shell.execute_reply": "2023-03-19T19:59:58.285411Z"
    },
    "papermill": {
     "duration": 0.020735,
     "end_time": "2023-03-19T19:59:58.289138",
     "exception": false,
     "start_time": "2023-03-19T19:59:58.268403",
     "status": "completed"
    },
    "tags": []
   },
   "outputs": [
    {
     "data": {
      "application/javascript": [
       "parent.postMessage({\"jupyterEvent\": \"custom.exercise_interaction\", \"data\": {\"outcomeType\": 1, \"valueTowardsCompletion\": 0.2, \"interactionType\": 1, \"questionType\": 2, \"questionId\": \"1_GetExpectedCost\", \"learnToolsVersion\": \"0.3.4\", \"failureMessage\": \"\", \"exceptionClass\": \"\", \"trace\": \"\"}}, \"*\")"
      ],
      "text/plain": [
       "<IPython.core.display.Javascript object>"
      ]
     },
     "metadata": {},
     "output_type": "display_data"
    },
    {
     "data": {
      "text/markdown": [
       "<span style=\"color:#33cc33\">Correct</span>"
      ],
      "text/plain": [
       "Correct"
      ]
     },
     "metadata": {},
     "output_type": "display_data"
    }
   ],
   "source": [
    "# TODO: Complete the function\n",
    "def get_expected_cost(beds, baths):\n",
    "    value = 80000 + beds*30000 + baths*10000\n",
    "    return value\n",
    "\n",
    "# Check your answer \n",
    "q1.check()"
   ]
  },
  {
   "cell_type": "code",
   "execution_count": 3,
   "id": "1869d87b",
   "metadata": {
    "execution": {
     "iopub.execute_input": "2023-03-19T19:59:58.303535Z",
     "iopub.status.busy": "2023-03-19T19:59:58.303111Z",
     "iopub.status.idle": "2023-03-19T19:59:58.307360Z",
     "shell.execute_reply": "2023-03-19T19:59:58.306212Z"
    },
    "papermill": {
     "duration": 0.014388,
     "end_time": "2023-03-19T19:59:58.309860",
     "exception": false,
     "start_time": "2023-03-19T19:59:58.295472",
     "status": "completed"
    },
    "tags": []
   },
   "outputs": [],
   "source": [
    "# Uncomment to see a hint\n",
    "#q1.hint()\n",
    "\n",
    "# Uncomment to view the solution\n",
    "#q1.solution()"
   ]
  },
  {
   "cell_type": "markdown",
   "id": "0e5a0321",
   "metadata": {
    "papermill": {
     "duration": 0.005813,
     "end_time": "2023-03-19T19:59:58.322038",
     "exception": false,
     "start_time": "2023-03-19T19:59:58.316225",
     "status": "completed"
    },
    "tags": []
   },
   "source": [
    "# Question 2\n",
    "\n",
    "You are thinking about buying a home and want to get an idea of how much you will spend, based on the number of bedrooms and bathrooms.  You are trying to decide between four different options:\n",
    "- Option 1: house with two bedrooms and three bathrooms\n",
    "- Option 2: house with three bedrooms and two bathrooms\n",
    "- Option 3: house with three bedrooms and three bathrooms\n",
    "- Option 4: house with three bedrooms and four bathrooms\n",
    "\n",
    "Use the `get_expected_cost()` function you defined in question 1 to set `option_1`, `option_2`, `option_3`, and `option_4` to the expected cost of each option."
   ]
  },
  {
   "cell_type": "code",
   "execution_count": 4,
   "id": "3a4fbe07",
   "metadata": {
    "execution": {
     "iopub.execute_input": "2023-03-19T19:59:58.336430Z",
     "iopub.status.busy": "2023-03-19T19:59:58.336009Z",
     "iopub.status.idle": "2023-03-19T19:59:58.347357Z",
     "shell.execute_reply": "2023-03-19T19:59:58.346053Z"
    },
    "papermill": {
     "duration": 0.0218,
     "end_time": "2023-03-19T19:59:58.349932",
     "exception": false,
     "start_time": "2023-03-19T19:59:58.328132",
     "status": "completed"
    },
    "tags": []
   },
   "outputs": [
    {
     "name": "stdout",
     "output_type": "stream",
     "text": [
      "170000\n",
      "190000\n",
      "200000\n",
      "210000\n"
     ]
    },
    {
     "data": {
      "application/javascript": [
       "parent.postMessage({\"jupyterEvent\": \"custom.exercise_interaction\", \"data\": {\"outcomeType\": 1, \"valueTowardsCompletion\": 0.2, \"interactionType\": 1, \"questionType\": 1, \"questionId\": \"2_RunGetExpectedCost\", \"learnToolsVersion\": \"0.3.4\", \"failureMessage\": \"\", \"exceptionClass\": \"\", \"trace\": \"\"}}, \"*\")"
      ],
      "text/plain": [
       "<IPython.core.display.Javascript object>"
      ]
     },
     "metadata": {},
     "output_type": "display_data"
    },
    {
     "data": {
      "text/markdown": [
       "<span style=\"color:#33cc33\">Correct</span>"
      ],
      "text/plain": [
       "Correct"
      ]
     },
     "metadata": {},
     "output_type": "display_data"
    }
   ],
   "source": [
    "# TODO: Use the get_expected_cost function to fill in each value\n",
    "option_one = get_expected_cost(2,3)\n",
    "option_two = get_expected_cost(3,2)\n",
    "option_three = get_expected_cost(3,3)\n",
    "option_four = get_expected_cost(3,4)\n",
    "\n",
    "print(option_one)\n",
    "print(option_two)\n",
    "print(option_three)\n",
    "print(option_four)\n",
    "\n",
    "# Check your answer\n",
    "q2.check()"
   ]
  },
  {
   "cell_type": "code",
   "execution_count": 5,
   "id": "0bb0f8d9",
   "metadata": {
    "execution": {
     "iopub.execute_input": "2023-03-19T19:59:58.365000Z",
     "iopub.status.busy": "2023-03-19T19:59:58.364235Z",
     "iopub.status.idle": "2023-03-19T19:59:58.369465Z",
     "shell.execute_reply": "2023-03-19T19:59:58.368013Z"
    },
    "papermill": {
     "duration": 0.015339,
     "end_time": "2023-03-19T19:59:58.371794",
     "exception": false,
     "start_time": "2023-03-19T19:59:58.356455",
     "status": "completed"
    },
    "tags": []
   },
   "outputs": [],
   "source": [
    "# Uncomment to see a hint\n",
    "#q2.hint()\n",
    "\n",
    "# Uncomment to view the solution\n",
    "#q2.solution()"
   ]
  },
  {
   "cell_type": "markdown",
   "id": "5ce84900",
   "metadata": {
    "papermill": {
     "duration": 0.006879,
     "end_time": "2023-03-19T19:59:58.386186",
     "exception": false,
     "start_time": "2023-03-19T19:59:58.379307",
     "status": "completed"
    },
    "tags": []
   },
   "source": [
    "# Question 3\n",
    "\n",
    "You're a home decorator, and you'd like to use Python to streamline some of your work.  Specifically, you're creating a tool that you intend to use to calculate the cost of painting a room.\n",
    "\n",
    "As a first step, define a function `get_cost()` that takes as input:\n",
    "- `sqft_walls` = total square feet of walls to be painted\n",
    "- `sqft_ceiling` = square feet of ceiling to be painted\n",
    "- `sqft_per_gallon` = number of square feet that you can cover with one gallon of paint\n",
    "- `cost_per_gallon` = cost (in dollars) of one gallon of paint\n",
    "\n",
    "It should return the cost (in dollars) of putting one coat of paint on all walls and the ceiling.  Assume you can buy the exact amount of paint that you need, so you can buy partial gallons (e.g., if you need 7.523 gallons, you can buy that exact amount, instead of needing to buy 8 gallons and waste some paint).  Do not round your answer."
   ]
  },
  {
   "cell_type": "code",
   "execution_count": 6,
   "id": "8bcf23f9",
   "metadata": {
    "execution": {
     "iopub.execute_input": "2023-03-19T19:59:58.401291Z",
     "iopub.status.busy": "2023-03-19T19:59:58.400828Z",
     "iopub.status.idle": "2023-03-19T19:59:58.410199Z",
     "shell.execute_reply": "2023-03-19T19:59:58.409097Z"
    },
    "papermill": {
     "duration": 0.019615,
     "end_time": "2023-03-19T19:59:58.412329",
     "exception": false,
     "start_time": "2023-03-19T19:59:58.392714",
     "status": "completed"
    },
    "tags": []
   },
   "outputs": [
    {
     "data": {
      "application/javascript": [
       "parent.postMessage({\"jupyterEvent\": \"custom.exercise_interaction\", \"data\": {\"outcomeType\": 1, \"valueTowardsCompletion\": 0.2, \"interactionType\": 1, \"questionType\": 2, \"questionId\": \"3_GetCostPaint\", \"learnToolsVersion\": \"0.3.4\", \"failureMessage\": \"\", \"exceptionClass\": \"\", \"trace\": \"\"}}, \"*\")"
      ],
      "text/plain": [
       "<IPython.core.display.Javascript object>"
      ]
     },
     "metadata": {},
     "output_type": "display_data"
    },
    {
     "data": {
      "text/markdown": [
       "<span style=\"color:#33cc33\">Correct</span>"
      ],
      "text/plain": [
       "Correct"
      ]
     },
     "metadata": {},
     "output_type": "display_data"
    }
   ],
   "source": [
    "# TODO: Finish defining the function\n",
    "def get_cost(sqft_walls, sqft_ceiling, sqft_per_gallon, cost_per_gallon):\n",
    "    cost = ((sqft_walls + sqft_ceiling)/sqft_per_gallon)*cost_per_gallon\n",
    "    return cost\n",
    "\n",
    "# Check your answer\n",
    "q3.check()"
   ]
  },
  {
   "cell_type": "code",
   "execution_count": 7,
   "id": "5bdf5ee0",
   "metadata": {
    "execution": {
     "iopub.execute_input": "2023-03-19T19:59:58.429704Z",
     "iopub.status.busy": "2023-03-19T19:59:58.428558Z",
     "iopub.status.idle": "2023-03-19T19:59:58.437895Z",
     "shell.execute_reply": "2023-03-19T19:59:58.436788Z"
    },
    "papermill": {
     "duration": 0.020003,
     "end_time": "2023-03-19T19:59:58.440050",
     "exception": false,
     "start_time": "2023-03-19T19:59:58.420047",
     "status": "completed"
    },
    "tags": []
   },
   "outputs": [
    {
     "data": {
      "application/javascript": [
       "parent.postMessage({\"jupyterEvent\": \"custom.exercise_interaction\", \"data\": {\"interactionType\": 3, \"questionType\": 2, \"questionId\": \"3_GetCostPaint\", \"learnToolsVersion\": \"0.3.4\", \"valueTowardsCompletion\": 0.0, \"failureMessage\": \"\", \"exceptionClass\": \"\", \"trace\": \"\", \"outcomeType\": 4}}, \"*\")"
      ],
      "text/plain": [
       "<IPython.core.display.Javascript object>"
      ]
     },
     "metadata": {},
     "output_type": "display_data"
    },
    {
     "data": {
      "text/markdown": [
       "<span style=\"color:#33cc99\">Solution:</span> \n",
       "```python\n",
       "\n",
       "def get_cost(sqft_walls, sqft_ceiling, sqft_per_gallon, cost_per_gallon):\n",
       "    total_sqft = sqft_walls + sqft_ceiling\n",
       "    gallons_needed = total_sqft / sqft_per_gallon\n",
       "    cost = cost_per_gallon * gallons_needed\n",
       "    return cost\n",
       "\n",
       "```"
      ],
      "text/plain": [
       "Solution: \n",
       "```python\n",
       "\n",
       "def get_cost(sqft_walls, sqft_ceiling, sqft_per_gallon, cost_per_gallon):\n",
       "    total_sqft = sqft_walls + sqft_ceiling\n",
       "    gallons_needed = total_sqft / sqft_per_gallon\n",
       "    cost = cost_per_gallon * gallons_needed\n",
       "    return cost\n",
       "\n",
       "```"
      ]
     },
     "metadata": {},
     "output_type": "display_data"
    }
   ],
   "source": [
    "# Uncomment to see a hint\n",
    "#q3.hint()\n",
    "\n",
    "# Uncomment to view the solution\n",
    "q3.solution()"
   ]
  },
  {
   "cell_type": "markdown",
   "id": "970a19a3",
   "metadata": {
    "papermill": {
     "duration": 0.006693,
     "end_time": "2023-03-19T19:59:58.453861",
     "exception": false,
     "start_time": "2023-03-19T19:59:58.447168",
     "status": "completed"
    },
    "tags": []
   },
   "source": [
    "# Question 4\n",
    "\n",
    "Use the `get_cost()` function you defined in Question 3 to calculate the cost of applying one coat of paint to a room with:\n",
    "- 432 square feet of walls, and\n",
    "- 144 square feet of ceiling.\n",
    "\n",
    "Assume that one gallon of paint covers 400 square feet and costs $15.  As in Question 3, assume you can buy partial gallons of paint.  Do not round your answer."
   ]
  },
  {
   "cell_type": "code",
   "execution_count": 8,
   "id": "9dd52e32",
   "metadata": {
    "execution": {
     "iopub.execute_input": "2023-03-19T19:59:58.469987Z",
     "iopub.status.busy": "2023-03-19T19:59:58.469578Z",
     "iopub.status.idle": "2023-03-19T19:59:58.478074Z",
     "shell.execute_reply": "2023-03-19T19:59:58.477118Z"
    },
    "papermill": {
     "duration": 0.019353,
     "end_time": "2023-03-19T19:59:58.480270",
     "exception": false,
     "start_time": "2023-03-19T19:59:58.460917",
     "status": "completed"
    },
    "tags": []
   },
   "outputs": [
    {
     "data": {
      "application/javascript": [
       "parent.postMessage({\"jupyterEvent\": \"custom.exercise_interaction\", \"data\": {\"outcomeType\": 1, \"valueTowardsCompletion\": 0.2, \"interactionType\": 1, \"questionType\": 1, \"questionId\": \"4_GetCostPaintExample\", \"learnToolsVersion\": \"0.3.4\", \"failureMessage\": \"\", \"exceptionClass\": \"\", \"trace\": \"\"}}, \"*\")"
      ],
      "text/plain": [
       "<IPython.core.display.Javascript object>"
      ]
     },
     "metadata": {},
     "output_type": "display_data"
    },
    {
     "data": {
      "text/markdown": [
       "<span style=\"color:#33cc33\">Correct</span>"
      ],
      "text/plain": [
       "Correct"
      ]
     },
     "metadata": {},
     "output_type": "display_data"
    }
   ],
   "source": [
    "# TODO: Set the project_cost variable to the cost of the project\n",
    "project_cost = get_cost(432, 144, 400, 15)\n",
    "\n",
    "# Check your answer\n",
    "q4.check()"
   ]
  },
  {
   "cell_type": "code",
   "execution_count": 9,
   "id": "03a9db95",
   "metadata": {
    "execution": {
     "iopub.execute_input": "2023-03-19T19:59:58.496696Z",
     "iopub.status.busy": "2023-03-19T19:59:58.496269Z",
     "iopub.status.idle": "2023-03-19T19:59:58.500997Z",
     "shell.execute_reply": "2023-03-19T19:59:58.499848Z"
    },
    "papermill": {
     "duration": 0.015747,
     "end_time": "2023-03-19T19:59:58.503237",
     "exception": false,
     "start_time": "2023-03-19T19:59:58.487490",
     "status": "completed"
    },
    "tags": []
   },
   "outputs": [],
   "source": [
    "# Uncomment to see a hint\n",
    "#q4.hint()\n",
    "\n",
    "# Uncomment to view the solution\n",
    "#q4.solution()"
   ]
  },
  {
   "cell_type": "markdown",
   "id": "7e61b061",
   "metadata": {
    "papermill": {
     "duration": 0.006976,
     "end_time": "2023-03-19T19:59:58.517637",
     "exception": false,
     "start_time": "2023-03-19T19:59:58.510661",
     "status": "completed"
    },
    "tags": []
   },
   "source": [
    "# 🌶️ Question 5\n",
    "\n",
    "Now say you can no longer buy fractions of a gallon.  (For instance, if you need 4.3 gallons to do a project, then you have to buy 5 gallons of paint.)\n",
    "\n",
    "With this new scenario, you will create a new function `get_actual_cost` that uses the same inputs and calculates the cost of your project.\n",
    "\n",
    "One function that you'll need to use to do this is `math.ceil()`.  We demonstrate usage of this function in the code cell below.  It takes as a number as input and rounds the number up to the nearest integer.  \n",
    "\n",
    "Run the next code cell to test this function for yourself.  Feel free to change the value of `test_value` and make sure `math.ceil()` returns the number you expect."
   ]
  },
  {
   "cell_type": "code",
   "execution_count": 10,
   "id": "cb71c971",
   "metadata": {
    "execution": {
     "iopub.execute_input": "2023-03-19T19:59:58.534190Z",
     "iopub.status.busy": "2023-03-19T19:59:58.533640Z",
     "iopub.status.idle": "2023-03-19T19:59:58.540479Z",
     "shell.execute_reply": "2023-03-19T19:59:58.538652Z"
    },
    "papermill": {
     "duration": 0.01795,
     "end_time": "2023-03-19T19:59:58.542787",
     "exception": false,
     "start_time": "2023-03-19T19:59:58.524837",
     "status": "completed"
    },
    "tags": []
   },
   "outputs": [
    {
     "name": "stdout",
     "output_type": "stream",
     "text": [
      "3\n"
     ]
    }
   ],
   "source": [
    "test_value = 2.17\n",
    "\n",
    "rounded_value = math.ceil(test_value)\n",
    "print(rounded_value)"
   ]
  },
  {
   "cell_type": "markdown",
   "id": "740ce0fd",
   "metadata": {
    "papermill": {
     "duration": 0.007157,
     "end_time": "2023-03-19T19:59:58.557433",
     "exception": false,
     "start_time": "2023-03-19T19:59:58.550276",
     "status": "completed"
    },
    "tags": []
   },
   "source": [
    "Use the next code cell to define the function `get_actual_cost()`.  You'll need to use the `math.ceil()` function to do this.\n",
    "\n",
    "When answering this question, note that it's completely valid to define a function that makes use of another function.  For instance, we can define a function `round_up_and_divide_by_three` that makes use of the `math.ceil` function:\n",
    "```\n",
    "def round_up_and_divide_by_three(num):\n",
    "    new_value = math.ceil(num)\n",
    "    final_value = new_value / 3\n",
    "    return final_value\n",
    "```"
   ]
  },
  {
   "cell_type": "code",
   "execution_count": 11,
   "id": "fc07824a",
   "metadata": {
    "execution": {
     "iopub.execute_input": "2023-03-19T19:59:58.574695Z",
     "iopub.status.busy": "2023-03-19T19:59:58.574258Z",
     "iopub.status.idle": "2023-03-19T19:59:58.584367Z",
     "shell.execute_reply": "2023-03-19T19:59:58.583133Z"
    },
    "papermill": {
     "duration": 0.021757,
     "end_time": "2023-03-19T19:59:58.586881",
     "exception": false,
     "start_time": "2023-03-19T19:59:58.565124",
     "status": "completed"
    },
    "tags": []
   },
   "outputs": [
    {
     "data": {
      "application/javascript": [
       "parent.postMessage({\"jupyterEvent\": \"custom.exercise_interaction\", \"data\": {\"outcomeType\": 1, \"valueTowardsCompletion\": 0.2, \"interactionType\": 1, \"questionType\": 2, \"questionId\": \"5_NoMoreFractions\", \"learnToolsVersion\": \"0.3.4\", \"failureMessage\": \"\", \"exceptionClass\": \"\", \"trace\": \"\"}}, \"*\")"
      ],
      "text/plain": [
       "<IPython.core.display.Javascript object>"
      ]
     },
     "metadata": {},
     "output_type": "display_data"
    },
    {
     "data": {
      "text/markdown": [
       "<span style=\"color:#33cc33\">Correct</span>"
      ],
      "text/plain": [
       "Correct"
      ]
     },
     "metadata": {},
     "output_type": "display_data"
    }
   ],
   "source": [
    "def get_actual_cost(sqft_walls, sqft_ceiling, sqft_per_gallon, cost_per_gallon):\n",
    "    gallons = ((sqft_walls + sqft_ceiling)/sqft_per_gallon)\n",
    "    rounded_gallons = math.ceil(gallons)\n",
    "    cost = rounded_gallons*cost_per_gallon\n",
    "    rounded_cost = math.ceil(cost)\n",
    "    return rounded_cost\n",
    "\n",
    "# Check your answer\n",
    "q5.check()"
   ]
  },
  {
   "cell_type": "code",
   "execution_count": 12,
   "id": "6c7737ae",
   "metadata": {
    "execution": {
     "iopub.execute_input": "2023-03-19T19:59:58.604004Z",
     "iopub.status.busy": "2023-03-19T19:59:58.603581Z",
     "iopub.status.idle": "2023-03-19T19:59:58.613202Z",
     "shell.execute_reply": "2023-03-19T19:59:58.611980Z"
    },
    "papermill": {
     "duration": 0.021003,
     "end_time": "2023-03-19T19:59:58.615586",
     "exception": false,
     "start_time": "2023-03-19T19:59:58.594583",
     "status": "completed"
    },
    "tags": []
   },
   "outputs": [
    {
     "data": {
      "application/javascript": [
       "parent.postMessage({\"jupyterEvent\": \"custom.exercise_interaction\", \"data\": {\"interactionType\": 3, \"questionType\": 2, \"questionId\": \"5_NoMoreFractions\", \"learnToolsVersion\": \"0.3.4\", \"valueTowardsCompletion\": 0.0, \"failureMessage\": \"\", \"exceptionClass\": \"\", \"trace\": \"\", \"outcomeType\": 4}}, \"*\")"
      ],
      "text/plain": [
       "<IPython.core.display.Javascript object>"
      ]
     },
     "metadata": {},
     "output_type": "display_data"
    },
    {
     "data": {
      "text/markdown": [
       "<span style=\"color:#33cc99\">Solution:</span> \n",
       "```python\n",
       "def get_actual_cost(sqft_walls, sqft_ceiling, sqft_per_gallon, cost_per_gallon):\n",
       "    total_sqft = sqft_walls + sqft_ceiling\n",
       "    gallons_needed = total_sqft / sqft_per_gallon\n",
       "    gallons_to_buy = math.ceil(gallons_needed)\n",
       "    cost = cost_per_gallon * gallons_to_buy\n",
       "    return cost\n",
       "\n",
       "```"
      ],
      "text/plain": [
       "Solution: \n",
       "```python\n",
       "def get_actual_cost(sqft_walls, sqft_ceiling, sqft_per_gallon, cost_per_gallon):\n",
       "    total_sqft = sqft_walls + sqft_ceiling\n",
       "    gallons_needed = total_sqft / sqft_per_gallon\n",
       "    gallons_to_buy = math.ceil(gallons_needed)\n",
       "    cost = cost_per_gallon * gallons_to_buy\n",
       "    return cost\n",
       "\n",
       "```"
      ]
     },
     "metadata": {},
     "output_type": "display_data"
    }
   ],
   "source": [
    "# Uncomment to see a hint\n",
    "#q5.hint()\n",
    "\n",
    "# Uncomment to view the solution\n",
    "q5.solution()"
   ]
  },
  {
   "cell_type": "markdown",
   "id": "1a11b3ae",
   "metadata": {
    "papermill": {
     "duration": 0.007542,
     "end_time": "2023-03-19T19:59:58.631165",
     "exception": false,
     "start_time": "2023-03-19T19:59:58.623623",
     "status": "completed"
    },
    "tags": []
   },
   "source": [
    "Once your function is verified as correct, run the next code cell to calculate the updated cost of your project."
   ]
  },
  {
   "cell_type": "code",
   "execution_count": 13,
   "id": "e0f2fecc",
   "metadata": {
    "execution": {
     "iopub.execute_input": "2023-03-19T19:59:58.648739Z",
     "iopub.status.busy": "2023-03-19T19:59:58.648278Z",
     "iopub.status.idle": "2023-03-19T19:59:58.656195Z",
     "shell.execute_reply": "2023-03-19T19:59:58.654897Z"
    },
    "papermill": {
     "duration": 0.019414,
     "end_time": "2023-03-19T19:59:58.658518",
     "exception": false,
     "start_time": "2023-03-19T19:59:58.639104",
     "status": "completed"
    },
    "tags": []
   },
   "outputs": [
    {
     "data": {
      "text/plain": [
       "30"
      ]
     },
     "execution_count": 13,
     "metadata": {},
     "output_type": "execute_result"
    }
   ],
   "source": [
    "get_actual_cost(432, 144, 400, 15) "
   ]
  },
  {
   "cell_type": "markdown",
   "id": "c2b49640",
   "metadata": {
    "papermill": {
     "duration": 0.008163,
     "end_time": "2023-03-19T19:59:58.674772",
     "exception": false,
     "start_time": "2023-03-19T19:59:58.666609",
     "status": "completed"
    },
    "tags": []
   },
   "source": [
    "Say you're working with a slightly larger room.  Run the next code cell to calculate the cost of the project."
   ]
  },
  {
   "cell_type": "code",
   "execution_count": 14,
   "id": "0c494de7",
   "metadata": {
    "execution": {
     "iopub.execute_input": "2023-03-19T19:59:58.693365Z",
     "iopub.status.busy": "2023-03-19T19:59:58.692912Z",
     "iopub.status.idle": "2023-03-19T19:59:58.700194Z",
     "shell.execute_reply": "2023-03-19T19:59:58.699032Z"
    },
    "papermill": {
     "duration": 0.019149,
     "end_time": "2023-03-19T19:59:58.702262",
     "exception": false,
     "start_time": "2023-03-19T19:59:58.683113",
     "status": "completed"
    },
    "tags": []
   },
   "outputs": [
    {
     "data": {
      "text/plain": [
       "45"
      ]
     },
     "execution_count": 14,
     "metadata": {},
     "output_type": "execute_result"
    }
   ],
   "source": [
    "get_actual_cost(594, 288, 400, 15) "
   ]
  },
  {
   "cell_type": "markdown",
   "id": "d6119558",
   "metadata": {
    "papermill": {
     "duration": 0.0077,
     "end_time": "2023-03-19T19:59:58.718100",
     "exception": false,
     "start_time": "2023-03-19T19:59:58.710400",
     "status": "completed"
    },
    "tags": []
   },
   "source": [
    "# Keep going\n",
    "\n",
    "Continue to learn about **[data types](https://www.kaggle.com/alexisbcook/data-types)**."
   ]
  },
  {
   "cell_type": "markdown",
   "id": "35ea4859",
   "metadata": {
    "papermill": {
     "duration": 0.007705,
     "end_time": "2023-03-19T19:59:58.733720",
     "exception": false,
     "start_time": "2023-03-19T19:59:58.726015",
     "status": "completed"
    },
    "tags": []
   },
   "source": [
    "---\n",
    "\n",
    "\n",
    "\n",
    "\n",
    "*Have questions or comments? Visit the [course discussion forum](https://www.kaggle.com/learn/intro-to-programming/discussion) to chat with other learners.*"
   ]
  }
 ],
 "metadata": {
  "kernelspec": {
   "display_name": "Python 3",
   "language": "python",
   "name": "python3"
  },
  "language_info": {
   "codemirror_mode": {
    "name": "ipython",
    "version": 3
   },
   "file_extension": ".py",
   "mimetype": "text/x-python",
   "name": "python",
   "nbconvert_exporter": "python",
   "pygments_lexer": "ipython3",
   "version": "3.7.12"
  },
  "papermill": {
   "default_parameters": {},
   "duration": 11.514195,
   "end_time": "2023-03-19T19:59:59.363448",
   "environment_variables": {},
   "exception": null,
   "input_path": "__notebook__.ipynb",
   "output_path": "__notebook__.ipynb",
   "parameters": {},
   "start_time": "2023-03-19T19:59:47.849253",
   "version": "2.4.0"
  }
 },
 "nbformat": 4,
 "nbformat_minor": 5
}
