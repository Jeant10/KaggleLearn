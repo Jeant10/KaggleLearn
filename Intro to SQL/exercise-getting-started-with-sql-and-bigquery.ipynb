{
 "cells": [
  {
   "cell_type": "markdown",
   "id": "65044ad5",
   "metadata": {
    "papermill": {
     "duration": 0.0065,
     "end_time": "2023-03-22T22:21:31.590016",
     "exception": false,
     "start_time": "2023-03-22T22:21:31.583516",
     "status": "completed"
    },
    "tags": []
   },
   "source": [
    "**This notebook is an exercise in the [SQL](https://www.kaggle.com/learn/intro-to-sql) course.  You can reference the tutorial at [this link](https://www.kaggle.com/dansbecker/getting-started-with-sql-and-bigquery).**\n",
    "\n",
    "---\n"
   ]
  },
  {
   "cell_type": "markdown",
   "id": "0bc114cb",
   "metadata": {
    "papermill": {
     "duration": 0.005212,
     "end_time": "2023-03-22T22:21:31.601131",
     "exception": false,
     "start_time": "2023-03-22T22:21:31.595919",
     "status": "completed"
    },
    "tags": []
   },
   "source": [
    "# Introduction\n",
    "\n",
    "The first test of your new data exploration skills uses data describing crime in the city of Chicago.\n",
    "\n",
    "Before you get started, run the following cell. It sets up the automated feedback system to review your answers."
   ]
  },
  {
   "cell_type": "code",
   "execution_count": 1,
   "id": "51c16213",
   "metadata": {
    "execution": {
     "iopub.execute_input": "2023-03-22T22:21:31.615015Z",
     "iopub.status.busy": "2023-03-22T22:21:31.613869Z",
     "iopub.status.idle": "2023-03-22T22:21:32.319387Z",
     "shell.execute_reply": "2023-03-22T22:21:32.317902Z"
    },
    "papermill": {
     "duration": 0.716736,
     "end_time": "2023-03-22T22:21:32.323397",
     "exception": false,
     "start_time": "2023-03-22T22:21:31.606661",
     "status": "completed"
    },
    "tags": []
   },
   "outputs": [
    {
     "name": "stdout",
     "output_type": "stream",
     "text": [
      "Using Kaggle's public dataset BigQuery integration.\n",
      "Setup Complete\n"
     ]
    }
   ],
   "source": [
    "# Set up feedack system\n",
    "from learntools.core import binder\n",
    "binder.bind(globals())\n",
    "from learntools.sql.ex1 import *\n",
    "print(\"Setup Complete\")"
   ]
  },
  {
   "cell_type": "markdown",
   "id": "a9bd39b4",
   "metadata": {
    "papermill": {
     "duration": 0.005375,
     "end_time": "2023-03-22T22:21:32.335390",
     "exception": false,
     "start_time": "2023-03-22T22:21:32.330015",
     "status": "completed"
    },
    "tags": []
   },
   "source": [
    "Use the next code cell to fetch the dataset."
   ]
  },
  {
   "cell_type": "code",
   "execution_count": 2,
   "id": "d4dbd359",
   "metadata": {
    "execution": {
     "iopub.execute_input": "2023-03-22T22:21:32.348471Z",
     "iopub.status.busy": "2023-03-22T22:21:32.348039Z",
     "iopub.status.idle": "2023-03-22T22:21:32.638933Z",
     "shell.execute_reply": "2023-03-22T22:21:32.637764Z"
    },
    "papermill": {
     "duration": 0.300857,
     "end_time": "2023-03-22T22:21:32.641806",
     "exception": false,
     "start_time": "2023-03-22T22:21:32.340949",
     "status": "completed"
    },
    "tags": []
   },
   "outputs": [
    {
     "name": "stdout",
     "output_type": "stream",
     "text": [
      "Using Kaggle's public dataset BigQuery integration.\n"
     ]
    }
   ],
   "source": [
    "from google.cloud import bigquery\n",
    "\n",
    "# Create a \"Client\" object\n",
    "client = bigquery.Client()\n",
    "\n",
    "# Construct a reference to the \"chicago_crime\" dataset\n",
    "dataset_ref = client.dataset(\"chicago_crime\", project=\"bigquery-public-data\")\n",
    "\n",
    "# API request - fetch the dataset\n",
    "dataset = client.get_dataset(dataset_ref)"
   ]
  },
  {
   "cell_type": "markdown",
   "id": "176e8d90",
   "metadata": {
    "papermill": {
     "duration": 0.006196,
     "end_time": "2023-03-22T22:21:32.654226",
     "exception": false,
     "start_time": "2023-03-22T22:21:32.648030",
     "status": "completed"
    },
    "tags": []
   },
   "source": [
    "# Exercises\n",
    "\n",
    "### 1) Count tables in the dataset\n",
    "\n",
    "How many tables are in the Chicago Crime dataset?"
   ]
  },
  {
   "cell_type": "code",
   "execution_count": 3,
   "id": "90bcef1e",
   "metadata": {
    "execution": {
     "iopub.execute_input": "2023-03-22T22:21:32.667734Z",
     "iopub.status.busy": "2023-03-22T22:21:32.667296Z",
     "iopub.status.idle": "2023-03-22T22:21:32.936390Z",
     "shell.execute_reply": "2023-03-22T22:21:32.934743Z"
    },
    "papermill": {
     "duration": 0.279652,
     "end_time": "2023-03-22T22:21:32.939641",
     "exception": false,
     "start_time": "2023-03-22T22:21:32.659989",
     "status": "completed"
    },
    "tags": []
   },
   "outputs": [
    {
     "name": "stdout",
     "output_type": "stream",
     "text": [
      "crime\n"
     ]
    }
   ],
   "source": [
    "# Write the code you need here to figure out the answer\n",
    "tables = list(client.list_tables(dataset))\n",
    "for table in tables:  \n",
    "    print(table.table_id)"
   ]
  },
  {
   "cell_type": "code",
   "execution_count": 4,
   "id": "7f6c596c",
   "metadata": {
    "execution": {
     "iopub.execute_input": "2023-03-22T22:21:32.954293Z",
     "iopub.status.busy": "2023-03-22T22:21:32.953883Z",
     "iopub.status.idle": "2023-03-22T22:21:32.965478Z",
     "shell.execute_reply": "2023-03-22T22:21:32.964195Z"
    },
    "papermill": {
     "duration": 0.022094,
     "end_time": "2023-03-22T22:21:32.967942",
     "exception": false,
     "start_time": "2023-03-22T22:21:32.945848",
     "status": "completed"
    },
    "tags": []
   },
   "outputs": [
    {
     "data": {
      "application/javascript": [
       "parent.postMessage({\"jupyterEvent\": \"custom.exercise_interaction\", \"data\": {\"outcomeType\": 1, \"valueTowardsCompletion\": 0.3333333333333333, \"interactionType\": 1, \"questionType\": 1, \"questionId\": \"1_CountTables\", \"learnToolsVersion\": \"0.3.4\", \"failureMessage\": \"\", \"exceptionClass\": \"\", \"trace\": \"\"}}, \"*\")"
      ],
      "text/plain": [
       "<IPython.core.display.Javascript object>"
      ]
     },
     "metadata": {},
     "output_type": "display_data"
    },
    {
     "data": {
      "text/markdown": [
       "<span style=\"color:#33cc33\">Correct</span>"
      ],
      "text/plain": [
       "Correct"
      ]
     },
     "metadata": {},
     "output_type": "display_data"
    }
   ],
   "source": [
    "num_tables = 1  # Store the answer as num_tables and then run this cell\n",
    "\n",
    "# Check your answer\n",
    "q_1.check()"
   ]
  },
  {
   "cell_type": "markdown",
   "id": "a2a4b00e",
   "metadata": {
    "papermill": {
     "duration": 0.005877,
     "end_time": "2023-03-22T22:21:32.980473",
     "exception": false,
     "start_time": "2023-03-22T22:21:32.974596",
     "status": "completed"
    },
    "tags": []
   },
   "source": [
    "For a hint or the solution, uncomment the appropriate line below."
   ]
  },
  {
   "cell_type": "code",
   "execution_count": 5,
   "id": "459eb9b8",
   "metadata": {
    "execution": {
     "iopub.execute_input": "2023-03-22T22:21:32.995017Z",
     "iopub.status.busy": "2023-03-22T22:21:32.994271Z",
     "iopub.status.idle": "2023-03-22T22:21:33.004536Z",
     "shell.execute_reply": "2023-03-22T22:21:33.003205Z"
    },
    "papermill": {
     "duration": 0.020262,
     "end_time": "2023-03-22T22:21:33.007055",
     "exception": false,
     "start_time": "2023-03-22T22:21:32.986793",
     "status": "completed"
    },
    "tags": []
   },
   "outputs": [
    {
     "data": {
      "application/javascript": [
       "parent.postMessage({\"jupyterEvent\": \"custom.exercise_interaction\", \"data\": {\"interactionType\": 2, \"questionType\": 1, \"questionId\": \"1_CountTables\", \"learnToolsVersion\": \"0.3.4\", \"valueTowardsCompletion\": 0.0, \"failureMessage\": \"\", \"exceptionClass\": \"\", \"trace\": \"\", \"outcomeType\": 4}}, \"*\")"
      ],
      "text/plain": [
       "<IPython.core.display.Javascript object>"
      ]
     },
     "metadata": {},
     "output_type": "display_data"
    },
    {
     "data": {
      "text/markdown": [
       "<span style=\"color:#3366cc\">Hint:</span> Use the `list_tables()` method to get a list of the tables in the dataset."
      ],
      "text/plain": [
       "Hint: Use the `list_tables()` method to get a list of the tables in the dataset."
      ]
     },
     "metadata": {},
     "output_type": "display_data"
    }
   ],
   "source": [
    "q_1.hint()\n",
    "#q_1.solution()"
   ]
  },
  {
   "cell_type": "markdown",
   "id": "d71f7e73",
   "metadata": {
    "papermill": {
     "duration": 0.005958,
     "end_time": "2023-03-22T22:21:33.019306",
     "exception": false,
     "start_time": "2023-03-22T22:21:33.013348",
     "status": "completed"
    },
    "tags": []
   },
   "source": [
    "### 2) Explore the table schema\n",
    "\n",
    "How many columns in the `crime` table have `TIMESTAMP` data?"
   ]
  },
  {
   "cell_type": "code",
   "execution_count": 6,
   "id": "cef9fa85",
   "metadata": {
    "execution": {
     "iopub.execute_input": "2023-03-22T22:21:33.035878Z",
     "iopub.status.busy": "2023-03-22T22:21:33.035425Z",
     "iopub.status.idle": "2023-03-22T22:21:33.261068Z",
     "shell.execute_reply": "2023-03-22T22:21:33.260070Z"
    },
    "papermill": {
     "duration": 0.236828,
     "end_time": "2023-03-22T22:21:33.263722",
     "exception": false,
     "start_time": "2023-03-22T22:21:33.026894",
     "status": "completed"
    },
    "tags": []
   },
   "outputs": [
    {
     "data": {
      "text/plain": [
       "[SchemaField('unique_key', 'INTEGER', 'REQUIRED', None, (), None),\n",
       " SchemaField('case_number', 'STRING', 'NULLABLE', None, (), None),\n",
       " SchemaField('date', 'TIMESTAMP', 'NULLABLE', None, (), None),\n",
       " SchemaField('block', 'STRING', 'NULLABLE', None, (), None),\n",
       " SchemaField('iucr', 'STRING', 'NULLABLE', None, (), None),\n",
       " SchemaField('primary_type', 'STRING', 'NULLABLE', None, (), None),\n",
       " SchemaField('description', 'STRING', 'NULLABLE', None, (), None),\n",
       " SchemaField('location_description', 'STRING', 'NULLABLE', None, (), None),\n",
       " SchemaField('arrest', 'BOOLEAN', 'NULLABLE', None, (), None),\n",
       " SchemaField('domestic', 'BOOLEAN', 'NULLABLE', None, (), None),\n",
       " SchemaField('beat', 'INTEGER', 'NULLABLE', None, (), None),\n",
       " SchemaField('district', 'INTEGER', 'NULLABLE', None, (), None),\n",
       " SchemaField('ward', 'INTEGER', 'NULLABLE', None, (), None),\n",
       " SchemaField('community_area', 'INTEGER', 'NULLABLE', None, (), None),\n",
       " SchemaField('fbi_code', 'STRING', 'NULLABLE', None, (), None),\n",
       " SchemaField('x_coordinate', 'FLOAT', 'NULLABLE', None, (), None),\n",
       " SchemaField('y_coordinate', 'FLOAT', 'NULLABLE', None, (), None),\n",
       " SchemaField('year', 'INTEGER', 'NULLABLE', None, (), None),\n",
       " SchemaField('updated_on', 'TIMESTAMP', 'NULLABLE', None, (), None),\n",
       " SchemaField('latitude', 'FLOAT', 'NULLABLE', None, (), None),\n",
       " SchemaField('longitude', 'FLOAT', 'NULLABLE', None, (), None),\n",
       " SchemaField('location', 'STRING', 'NULLABLE', None, (), None)]"
      ]
     },
     "execution_count": 6,
     "metadata": {},
     "output_type": "execute_result"
    }
   ],
   "source": [
    "# Write the code to figure out the answer\n",
    "\n",
    "table_ref = dataset_ref.table(\"crime\")\n",
    "\n",
    "table = client.get_table(table_ref)\n",
    "\n",
    "table.schema"
   ]
  },
  {
   "cell_type": "code",
   "execution_count": 7,
   "id": "fb97cc29",
   "metadata": {
    "execution": {
     "iopub.execute_input": "2023-03-22T22:21:33.278527Z",
     "iopub.status.busy": "2023-03-22T22:21:33.278113Z",
     "iopub.status.idle": "2023-03-22T22:21:33.287775Z",
     "shell.execute_reply": "2023-03-22T22:21:33.286544Z"
    },
    "papermill": {
     "duration": 0.019994,
     "end_time": "2023-03-22T22:21:33.290131",
     "exception": false,
     "start_time": "2023-03-22T22:21:33.270137",
     "status": "completed"
    },
    "tags": []
   },
   "outputs": [
    {
     "data": {
      "application/javascript": [
       "parent.postMessage({\"jupyterEvent\": \"custom.exercise_interaction\", \"data\": {\"outcomeType\": 1, \"valueTowardsCompletion\": 0.3333333333333333, \"interactionType\": 1, \"questionType\": 1, \"questionId\": \"2_CountTimestampFields\", \"learnToolsVersion\": \"0.3.4\", \"failureMessage\": \"\", \"exceptionClass\": \"\", \"trace\": \"\"}}, \"*\")"
      ],
      "text/plain": [
       "<IPython.core.display.Javascript object>"
      ]
     },
     "metadata": {},
     "output_type": "display_data"
    },
    {
     "data": {
      "text/markdown": [
       "<span style=\"color:#33cc33\">Correct</span>"
      ],
      "text/plain": [
       "Correct"
      ]
     },
     "metadata": {},
     "output_type": "display_data"
    }
   ],
   "source": [
    "num_timestamp_fields = 2 # Put your answer here\n",
    "\n",
    "# Check your answer\n",
    "q_2.check()"
   ]
  },
  {
   "cell_type": "markdown",
   "id": "a2aec982",
   "metadata": {
    "papermill": {
     "duration": 0.006285,
     "end_time": "2023-03-22T22:21:33.303059",
     "exception": false,
     "start_time": "2023-03-22T22:21:33.296774",
     "status": "completed"
    },
    "tags": []
   },
   "source": [
    "For a hint or the solution, uncomment the appropriate line below."
   ]
  },
  {
   "cell_type": "code",
   "execution_count": 8,
   "id": "a55d5362",
   "metadata": {
    "execution": {
     "iopub.execute_input": "2023-03-22T22:21:33.318033Z",
     "iopub.status.busy": "2023-03-22T22:21:33.317603Z",
     "iopub.status.idle": "2023-03-22T22:21:33.322852Z",
     "shell.execute_reply": "2023-03-22T22:21:33.321411Z"
    },
    "papermill": {
     "duration": 0.01585,
     "end_time": "2023-03-22T22:21:33.325410",
     "exception": false,
     "start_time": "2023-03-22T22:21:33.309560",
     "status": "completed"
    },
    "tags": []
   },
   "outputs": [],
   "source": [
    "#q_2.hint()\n",
    "#q_2.solution()"
   ]
  },
  {
   "cell_type": "markdown",
   "id": "8f607acc",
   "metadata": {
    "papermill": {
     "duration": 0.006681,
     "end_time": "2023-03-22T22:21:33.338824",
     "exception": false,
     "start_time": "2023-03-22T22:21:33.332143",
     "status": "completed"
    },
    "tags": []
   },
   "source": [
    "### 3) Create a crime map\n",
    "\n",
    "If you wanted to create a map with a dot at the location of each crime, what are the names of the two fields you likely need to pull out of the `crime` table to plot the crimes on a map?"
   ]
  },
  {
   "cell_type": "code",
   "execution_count": 9,
   "id": "aefe85c8",
   "metadata": {
    "execution": {
     "iopub.execute_input": "2023-03-22T22:21:33.353952Z",
     "iopub.status.busy": "2023-03-22T22:21:33.353528Z",
     "iopub.status.idle": "2023-03-22T22:21:33.735000Z",
     "shell.execute_reply": "2023-03-22T22:21:33.733630Z"
    },
    "papermill": {
     "duration": 0.392369,
     "end_time": "2023-03-22T22:21:33.737716",
     "exception": false,
     "start_time": "2023-03-22T22:21:33.345347",
     "status": "completed"
    },
    "tags": []
   },
   "outputs": [
    {
     "name": "stderr",
     "output_type": "stream",
     "text": [
      "/opt/conda/lib/python3.7/site-packages/ipykernel_launcher.py:3: UserWarning: Cannot use bqstorage_client if max_results is set, reverting to fetching data with the tabledata.list endpoint.\n",
      "  This is separate from the ipykernel package so we can avoid doing imports until\n"
     ]
    },
    {
     "data": {
      "text/html": [
       "<div>\n",
       "<style scoped>\n",
       "    .dataframe tbody tr th:only-of-type {\n",
       "        vertical-align: middle;\n",
       "    }\n",
       "\n",
       "    .dataframe tbody tr th {\n",
       "        vertical-align: top;\n",
       "    }\n",
       "\n",
       "    .dataframe thead th {\n",
       "        text-align: right;\n",
       "    }\n",
       "</style>\n",
       "<table border=\"1\" class=\"dataframe\">\n",
       "  <thead>\n",
       "    <tr style=\"text-align: right;\">\n",
       "      <th></th>\n",
       "      <th>unique_key</th>\n",
       "      <th>case_number</th>\n",
       "      <th>date</th>\n",
       "      <th>block</th>\n",
       "      <th>iucr</th>\n",
       "      <th>primary_type</th>\n",
       "      <th>description</th>\n",
       "      <th>location_description</th>\n",
       "      <th>arrest</th>\n",
       "      <th>domestic</th>\n",
       "      <th>...</th>\n",
       "      <th>ward</th>\n",
       "      <th>community_area</th>\n",
       "      <th>fbi_code</th>\n",
       "      <th>x_coordinate</th>\n",
       "      <th>y_coordinate</th>\n",
       "      <th>year</th>\n",
       "      <th>updated_on</th>\n",
       "      <th>latitude</th>\n",
       "      <th>longitude</th>\n",
       "      <th>location</th>\n",
       "    </tr>\n",
       "  </thead>\n",
       "  <tbody>\n",
       "    <tr>\n",
       "      <th>0</th>\n",
       "      <td>21062</td>\n",
       "      <td>HW434712</td>\n",
       "      <td>2013-09-02 07:22:00+00:00</td>\n",
       "      <td>105XX S LA SALLE ST</td>\n",
       "      <td>0110</td>\n",
       "      <td>HOMICIDE</td>\n",
       "      <td>FIRST DEGREE MURDER</td>\n",
       "      <td>PORCH</td>\n",
       "      <td>True</td>\n",
       "      <td>False</td>\n",
       "      <td>...</td>\n",
       "      <td>34</td>\n",
       "      <td>49</td>\n",
       "      <td>01A</td>\n",
       "      <td>1177144.0</td>\n",
       "      <td>1834974.0</td>\n",
       "      <td>2013</td>\n",
       "      <td>2022-09-18 04:45:51+00:00</td>\n",
       "      <td>41.702501</td>\n",
       "      <td>-87.626958</td>\n",
       "      <td>(41.702500788, -87.626958377)</td>\n",
       "    </tr>\n",
       "    <tr>\n",
       "      <th>1</th>\n",
       "      <td>20708</td>\n",
       "      <td>HV572023</td>\n",
       "      <td>2012-11-21 08:30:00+00:00</td>\n",
       "      <td>103XX S FOREST AVE</td>\n",
       "      <td>0110</td>\n",
       "      <td>HOMICIDE</td>\n",
       "      <td>FIRST DEGREE MURDER</td>\n",
       "      <td>STREET</td>\n",
       "      <td>True</td>\n",
       "      <td>True</td>\n",
       "      <td>...</td>\n",
       "      <td>9</td>\n",
       "      <td>49</td>\n",
       "      <td>01A</td>\n",
       "      <td>1180074.0</td>\n",
       "      <td>1836444.0</td>\n",
       "      <td>2012</td>\n",
       "      <td>2022-09-18 04:45:51+00:00</td>\n",
       "      <td>41.706468</td>\n",
       "      <td>-87.616185</td>\n",
       "      <td>(41.706468217, -87.616184739)</td>\n",
       "    </tr>\n",
       "    <tr>\n",
       "      <th>2</th>\n",
       "      <td>24130</td>\n",
       "      <td>JB396052</td>\n",
       "      <td>2018-08-16 02:32:00+00:00</td>\n",
       "      <td>002XX W 104TH PL</td>\n",
       "      <td>0110</td>\n",
       "      <td>HOMICIDE</td>\n",
       "      <td>FIRST DEGREE MURDER</td>\n",
       "      <td>PORCH</td>\n",
       "      <td>False</td>\n",
       "      <td>False</td>\n",
       "      <td>...</td>\n",
       "      <td>34</td>\n",
       "      <td>49</td>\n",
       "      <td>01A</td>\n",
       "      <td>1176386.0</td>\n",
       "      <td>1835643.0</td>\n",
       "      <td>2018</td>\n",
       "      <td>2022-09-18 04:45:51+00:00</td>\n",
       "      <td>41.704354</td>\n",
       "      <td>-87.629714</td>\n",
       "      <td>(41.704353647, -87.629713945)</td>\n",
       "    </tr>\n",
       "    <tr>\n",
       "      <th>3</th>\n",
       "      <td>3750</td>\n",
       "      <td>HM552534</td>\n",
       "      <td>2006-08-21 06:50:00+00:00</td>\n",
       "      <td>104XX S CORLISS AVE</td>\n",
       "      <td>0110</td>\n",
       "      <td>HOMICIDE</td>\n",
       "      <td>FIRST DEGREE MURDER</td>\n",
       "      <td>STREET</td>\n",
       "      <td>True</td>\n",
       "      <td>False</td>\n",
       "      <td>...</td>\n",
       "      <td>9</td>\n",
       "      <td>50</td>\n",
       "      <td>01A</td>\n",
       "      <td>1183419.0</td>\n",
       "      <td>1836026.0</td>\n",
       "      <td>2006</td>\n",
       "      <td>2022-09-18 04:45:51+00:00</td>\n",
       "      <td>41.705244</td>\n",
       "      <td>-87.603949</td>\n",
       "      <td>(41.705244076, -87.603948559)</td>\n",
       "    </tr>\n",
       "    <tr>\n",
       "      <th>4</th>\n",
       "      <td>25850</td>\n",
       "      <td>JE190772</td>\n",
       "      <td>2021-04-06 01:55:00+00:00</td>\n",
       "      <td>105XX S MARYLAND AVE</td>\n",
       "      <td>0110</td>\n",
       "      <td>HOMICIDE</td>\n",
       "      <td>FIRST DEGREE MURDER</td>\n",
       "      <td>STREET</td>\n",
       "      <td>False</td>\n",
       "      <td>False</td>\n",
       "      <td>...</td>\n",
       "      <td>9</td>\n",
       "      <td>50</td>\n",
       "      <td>01A</td>\n",
       "      <td>1183774.0</td>\n",
       "      <td>1835238.0</td>\n",
       "      <td>2021</td>\n",
       "      <td>2022-08-31 04:51:30+00:00</td>\n",
       "      <td>41.703073</td>\n",
       "      <td>-87.602673</td>\n",
       "      <td>(41.703073446, -87.602673084)</td>\n",
       "    </tr>\n",
       "  </tbody>\n",
       "</table>\n",
       "<p>5 rows × 22 columns</p>\n",
       "</div>"
      ],
      "text/plain": [
       "   unique_key case_number                      date                 block  \\\n",
       "0       21062    HW434712 2013-09-02 07:22:00+00:00   105XX S LA SALLE ST   \n",
       "1       20708    HV572023 2012-11-21 08:30:00+00:00    103XX S FOREST AVE   \n",
       "2       24130    JB396052 2018-08-16 02:32:00+00:00      002XX W 104TH PL   \n",
       "3        3750    HM552534 2006-08-21 06:50:00+00:00   104XX S CORLISS AVE   \n",
       "4       25850    JE190772 2021-04-06 01:55:00+00:00  105XX S MARYLAND AVE   \n",
       "\n",
       "   iucr primary_type          description location_description  arrest  \\\n",
       "0  0110     HOMICIDE  FIRST DEGREE MURDER                PORCH    True   \n",
       "1  0110     HOMICIDE  FIRST DEGREE MURDER               STREET    True   \n",
       "2  0110     HOMICIDE  FIRST DEGREE MURDER                PORCH   False   \n",
       "3  0110     HOMICIDE  FIRST DEGREE MURDER               STREET    True   \n",
       "4  0110     HOMICIDE  FIRST DEGREE MURDER               STREET   False   \n",
       "\n",
       "   domestic  ...  ward  community_area  fbi_code  x_coordinate y_coordinate  \\\n",
       "0     False  ...    34              49       01A     1177144.0    1834974.0   \n",
       "1      True  ...     9              49       01A     1180074.0    1836444.0   \n",
       "2     False  ...    34              49       01A     1176386.0    1835643.0   \n",
       "3     False  ...     9              50       01A     1183419.0    1836026.0   \n",
       "4     False  ...     9              50       01A     1183774.0    1835238.0   \n",
       "\n",
       "   year                updated_on   latitude  longitude  \\\n",
       "0  2013 2022-09-18 04:45:51+00:00  41.702501 -87.626958   \n",
       "1  2012 2022-09-18 04:45:51+00:00  41.706468 -87.616185   \n",
       "2  2018 2022-09-18 04:45:51+00:00  41.704354 -87.629714   \n",
       "3  2006 2022-09-18 04:45:51+00:00  41.705244 -87.603949   \n",
       "4  2021 2022-08-31 04:51:30+00:00  41.703073 -87.602673   \n",
       "\n",
       "                        location  \n",
       "0  (41.702500788, -87.626958377)  \n",
       "1  (41.706468217, -87.616184739)  \n",
       "2  (41.704353647, -87.629713945)  \n",
       "3  (41.705244076, -87.603948559)  \n",
       "4  (41.703073446, -87.602673084)  \n",
       "\n",
       "[5 rows x 22 columns]"
      ]
     },
     "execution_count": 9,
     "metadata": {},
     "output_type": "execute_result"
    }
   ],
   "source": [
    "# Write the code here to explore the data so you can find the answer\n",
    "\n",
    "client.list_rows(table, selected_fields=table.schema[:], max_results=5).to_dataframe()"
   ]
  },
  {
   "cell_type": "code",
   "execution_count": 10,
   "id": "802e58e9",
   "metadata": {
    "execution": {
     "iopub.execute_input": "2023-03-22T22:21:33.754227Z",
     "iopub.status.busy": "2023-03-22T22:21:33.753557Z",
     "iopub.status.idle": "2023-03-22T22:21:33.763218Z",
     "shell.execute_reply": "2023-03-22T22:21:33.761928Z"
    },
    "papermill": {
     "duration": 0.020858,
     "end_time": "2023-03-22T22:21:33.765700",
     "exception": false,
     "start_time": "2023-03-22T22:21:33.744842",
     "status": "completed"
    },
    "tags": []
   },
   "outputs": [
    {
     "data": {
      "application/javascript": [
       "parent.postMessage({\"jupyterEvent\": \"custom.exercise_interaction\", \"data\": {\"outcomeType\": 1, \"valueTowardsCompletion\": 0.3333333333333333, \"interactionType\": 1, \"questionType\": 2, \"questionId\": \"3_IdentifyFieldsForPlotting\", \"learnToolsVersion\": \"0.3.4\", \"failureMessage\": \"\", \"exceptionClass\": \"\", \"trace\": \"\"}}, \"*\")"
      ],
      "text/plain": [
       "<IPython.core.display.Javascript object>"
      ]
     },
     "metadata": {},
     "output_type": "display_data"
    },
    {
     "data": {
      "text/markdown": [
       "<span style=\"color:#33cc33\">Correct</span>"
      ],
      "text/plain": [
       "Correct"
      ]
     },
     "metadata": {},
     "output_type": "display_data"
    }
   ],
   "source": [
    "fields_for_plotting = ['latitude', 'longitude'] # Put your answers here\n",
    "\n",
    "# Check your answer\n",
    "q_3.check()"
   ]
  },
  {
   "cell_type": "markdown",
   "id": "3378d24e",
   "metadata": {
    "papermill": {
     "duration": 0.006955,
     "end_time": "2023-03-22T22:21:33.780126",
     "exception": false,
     "start_time": "2023-03-22T22:21:33.773171",
     "status": "completed"
    },
    "tags": []
   },
   "source": [
    "For a hint or the solution, uncomment the appropriate line below."
   ]
  },
  {
   "cell_type": "code",
   "execution_count": 11,
   "id": "7762b3fb",
   "metadata": {
    "execution": {
     "iopub.execute_input": "2023-03-22T22:21:33.796628Z",
     "iopub.status.busy": "2023-03-22T22:21:33.796161Z",
     "iopub.status.idle": "2023-03-22T22:21:33.809380Z",
     "shell.execute_reply": "2023-03-22T22:21:33.808416Z"
    },
    "papermill": {
     "duration": 0.024534,
     "end_time": "2023-03-22T22:21:33.811866",
     "exception": false,
     "start_time": "2023-03-22T22:21:33.787332",
     "status": "completed"
    },
    "tags": []
   },
   "outputs": [
    {
     "data": {
      "application/javascript": [
       "parent.postMessage({\"jupyterEvent\": \"custom.exercise_interaction\", \"data\": {\"interactionType\": 2, \"questionType\": 2, \"questionId\": \"3_IdentifyFieldsForPlotting\", \"learnToolsVersion\": \"0.3.4\", \"valueTowardsCompletion\": 0.0, \"failureMessage\": \"\", \"exceptionClass\": \"\", \"trace\": \"\", \"outcomeType\": 4}}, \"*\")"
      ],
      "text/plain": [
       "<IPython.core.display.Javascript object>"
      ]
     },
     "metadata": {},
     "output_type": "display_data"
    },
    {
     "data": {
      "text/markdown": [
       "<span style=\"color:#3366cc\">Hint:</span> Look at the table schema.  There are a couple options, but two of the fields are things commonly used to plot on maps. Both are `'FLOAT'` types. Use quotes around the field names in your answer."
      ],
      "text/plain": [
       "Hint: Look at the table schema.  There are a couple options, but two of the fields are things commonly used to plot on maps. Both are `'FLOAT'` types. Use quotes around the field names in your answer."
      ]
     },
     "metadata": {},
     "output_type": "display_data"
    },
    {
     "data": {
      "application/javascript": [
       "parent.postMessage({\"jupyterEvent\": \"custom.exercise_interaction\", \"data\": {\"interactionType\": 3, \"questionType\": 2, \"questionId\": \"3_IdentifyFieldsForPlotting\", \"learnToolsVersion\": \"0.3.4\", \"valueTowardsCompletion\": 0.0, \"failureMessage\": \"\", \"exceptionClass\": \"\", \"trace\": \"\", \"outcomeType\": 4}}, \"*\")"
      ],
      "text/plain": [
       "<IPython.core.display.Javascript object>"
      ]
     },
     "metadata": {},
     "output_type": "display_data"
    },
    {
     "data": {
      "text/markdown": [
       "<span style=\"color:#33cc99\">Solution:</span> \n",
       "```python\n",
       "fields_for_plotting = ['latitude', 'longitude']\n",
       "```"
      ],
      "text/plain": [
       "Solution: \n",
       "```python\n",
       "fields_for_plotting = ['latitude', 'longitude']\n",
       "```"
      ]
     },
     "metadata": {},
     "output_type": "display_data"
    }
   ],
   "source": [
    "q_3.hint()\n",
    "q_3.solution()"
   ]
  },
  {
   "cell_type": "markdown",
   "id": "6276dfe5",
   "metadata": {
    "papermill": {
     "duration": 0.007334,
     "end_time": "2023-03-22T22:21:33.826913",
     "exception": false,
     "start_time": "2023-03-22T22:21:33.819579",
     "status": "completed"
    },
    "tags": []
   },
   "source": [
    "Thinking about the question above, there are a few columns that appear to have geographic data. Look at a few values (with the `list_rows()` command) to see if you can determine their relationship.  Two columns will still be hard to interpret. But it should be obvious how the `location` column relates to `latitude` and `longitude`."
   ]
  },
  {
   "cell_type": "code",
   "execution_count": 12,
   "id": "40c0b115",
   "metadata": {
    "execution": {
     "iopub.execute_input": "2023-03-22T22:21:33.844804Z",
     "iopub.status.busy": "2023-03-22T22:21:33.844098Z",
     "iopub.status.idle": "2023-03-22T22:21:33.848778Z",
     "shell.execute_reply": "2023-03-22T22:21:33.847423Z"
    },
    "papermill": {
     "duration": 0.017003,
     "end_time": "2023-03-22T22:21:33.851524",
     "exception": false,
     "start_time": "2023-03-22T22:21:33.834521",
     "status": "completed"
    },
    "tags": []
   },
   "outputs": [],
   "source": [
    "# Scratch space for your code"
   ]
  },
  {
   "cell_type": "markdown",
   "id": "616d25bb",
   "metadata": {
    "papermill": {
     "duration": 0.007505,
     "end_time": "2023-03-22T22:21:33.867468",
     "exception": false,
     "start_time": "2023-03-22T22:21:33.859963",
     "status": "completed"
    },
    "tags": []
   },
   "source": [
    "# Keep going\n",
    "\n",
    "You've looked at the schema, but you haven't yet done anything exciting with the data itself. Things get more interesting when you get to the data, so keep going to **[write your first SQL query](https://www.kaggle.com/dansbecker/select-from-where).**"
   ]
  },
  {
   "cell_type": "markdown",
   "id": "bb053303",
   "metadata": {
    "papermill": {
     "duration": 0.007604,
     "end_time": "2023-03-22T22:21:33.883428",
     "exception": false,
     "start_time": "2023-03-22T22:21:33.875824",
     "status": "completed"
    },
    "tags": []
   },
   "source": [
    "---\n",
    "\n",
    "\n",
    "\n",
    "\n",
    "*Have questions or comments? Visit the [course discussion forum](https://www.kaggle.com/learn/intro-to-sql/discussion) to chat with other learners.*"
   ]
  }
 ],
 "metadata": {
  "kernelspec": {
   "display_name": "Python 3",
   "language": "python",
   "name": "python3"
  },
  "language_info": {
   "codemirror_mode": {
    "name": "ipython",
    "version": 3
   },
   "file_extension": ".py",
   "mimetype": "text/x-python",
   "name": "python",
   "nbconvert_exporter": "python",
   "pygments_lexer": "ipython3",
   "version": "3.7.12"
  },
  "papermill": {
   "default_parameters": {},
   "duration": 14.909119,
   "end_time": "2023-03-22T22:21:34.615986",
   "environment_variables": {},
   "exception": null,
   "input_path": "__notebook__.ipynb",
   "output_path": "__notebook__.ipynb",
   "parameters": {},
   "start_time": "2023-03-22T22:21:19.706867",
   "version": "2.4.0"
  }
 },
 "nbformat": 4,
 "nbformat_minor": 5
}
