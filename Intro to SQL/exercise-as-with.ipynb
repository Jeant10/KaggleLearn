{
 "cells": [
  {
   "cell_type": "markdown",
   "id": "4bc68c09",
   "metadata": {
    "papermill": {
     "duration": 0.007506,
     "end_time": "2023-03-23T03:07:01.998282",
     "exception": false,
     "start_time": "2023-03-23T03:07:01.990776",
     "status": "completed"
    },
    "tags": []
   },
   "source": [
    "**This notebook is an exercise in the [SQL](https://www.kaggle.com/learn/intro-to-sql) course.  You can reference the tutorial at [this link](https://www.kaggle.com/dansbecker/as-with).**\n",
    "\n",
    "---\n"
   ]
  },
  {
   "cell_type": "markdown",
   "id": "19ae17b1",
   "metadata": {
    "papermill": {
     "duration": 0.005924,
     "end_time": "2023-03-23T03:07:02.010550",
     "exception": false,
     "start_time": "2023-03-23T03:07:02.004626",
     "status": "completed"
    },
    "tags": []
   },
   "source": [
    "# Introduction\n",
    "\n",
    "You are getting to the point where you can own an analysis from beginning to end. So you'll do more data exploration in this exercise than you've done before.  Before you get started, run the following set-up code as usual. "
   ]
  },
  {
   "cell_type": "code",
   "execution_count": 1,
   "id": "2139843a",
   "metadata": {
    "execution": {
     "iopub.execute_input": "2023-03-23T03:07:02.025765Z",
     "iopub.status.busy": "2023-03-23T03:07:02.024785Z",
     "iopub.status.idle": "2023-03-23T03:07:49.644436Z",
     "shell.execute_reply": "2023-03-23T03:07:49.642811Z"
    },
    "papermill": {
     "duration": 47.630992,
     "end_time": "2023-03-23T03:07:49.647718",
     "exception": false,
     "start_time": "2023-03-23T03:07:02.016726",
     "status": "completed"
    },
    "tags": []
   },
   "outputs": [
    {
     "name": "stdout",
     "output_type": "stream",
     "text": [
      "Collecting git+https://github.com/Kaggle/learntools.git\r\n",
      "  Cloning https://github.com/Kaggle/learntools.git to /tmp/pip-req-build-bmfqbzpa\r\n",
      "  Running command git clone --filter=blob:none --quiet https://github.com/Kaggle/learntools.git /tmp/pip-req-build-bmfqbzpa\r\n",
      "  fatal: unable to access 'https://github.com/Kaggle/learntools.git/': Could not resolve host: github.com\r\n",
      "  \u001b[1;31merror\u001b[0m: \u001b[1msubprocess-exited-with-error\u001b[0m\r\n",
      "  \r\n",
      "  \u001b[31m×\u001b[0m \u001b[32mgit clone --\u001b[0m\u001b[32mfilter\u001b[0m\u001b[32m=\u001b[0m\u001b[32mblob\u001b[0m\u001b[32m:none --quiet \u001b[0m\u001b[4;32mhttps://github.com/Kaggle/learntools.git\u001b[0m\u001b[32m \u001b[0m\u001b[32m/tmp/\u001b[0m\u001b[32mpip-req-build-bmfqbzpa\u001b[0m did not run successfully.\r\n",
      "  \u001b[31m│\u001b[0m exit code: \u001b[1;36m128\u001b[0m\r\n",
      "  \u001b[31m╰─>\u001b[0m See above for output.\r\n",
      "  \r\n",
      "  \u001b[1;35mnote\u001b[0m: This error originates from a subprocess, and is likely not a problem with pip.\r\n",
      "\u001b[1;31merror\u001b[0m: \u001b[1msubprocess-exited-with-error\u001b[0m\r\n",
      "\r\n",
      "\u001b[31m×\u001b[0m \u001b[32mgit clone --\u001b[0m\u001b[32mfilter\u001b[0m\u001b[32m=\u001b[0m\u001b[32mblob\u001b[0m\u001b[32m:none --quiet \u001b[0m\u001b[4;32mhttps://github.com/Kaggle/learntools.git\u001b[0m\u001b[32m \u001b[0m\u001b[32m/tmp/\u001b[0m\u001b[32mpip-req-build-bmfqbzpa\u001b[0m did not run successfully.\r\n",
      "\u001b[31m│\u001b[0m exit code: \u001b[1;36m128\u001b[0m\r\n",
      "\u001b[31m╰─>\u001b[0m See above for output.\r\n",
      "\r\n",
      "\u001b[1;35mnote\u001b[0m: This error originates from a subprocess, and is likely not a problem with pip.\r\n",
      "\u001b[33mWARNING: There was an error checking the latest version of pip.\u001b[0m\u001b[33m\r\n",
      "\u001b[0mUsing Kaggle's public dataset BigQuery integration.\n"
     ]
    },
    {
     "name": "stderr",
     "output_type": "stream",
     "text": [
      "/opt/conda/lib/python3.7/site-packages/google/cloud/bigquery/client.py:440: UserWarning: Cannot create BigQuery Storage client, the dependency google-cloud-bigquery-storage is not installed.\n",
      "  \"Cannot create BigQuery Storage client, the dependency \"\n"
     ]
    },
    {
     "name": "stdout",
     "output_type": "stream",
     "text": [
      "Setup Complete\n"
     ]
    }
   ],
   "source": [
    "# Get most recent checking code\n",
    "!pip install -U -t /kaggle/working/ git+https://github.com/Kaggle/learntools.git\n",
    "# Set up feedback system\n",
    "from learntools.core import binder\n",
    "binder.bind(globals())\n",
    "from learntools.sql.ex5 import *\n",
    "print(\"Setup Complete\")"
   ]
  },
  {
   "cell_type": "markdown",
   "id": "b4a43a41",
   "metadata": {
    "papermill": {
     "duration": 0.007044,
     "end_time": "2023-03-23T03:07:49.662393",
     "exception": false,
     "start_time": "2023-03-23T03:07:49.655349",
     "status": "completed"
    },
    "tags": []
   },
   "source": [
    "You'll work with a dataset about taxi trips in the city of Chicago. Run the cell below to fetch the `chicago_taxi_trips` dataset."
   ]
  },
  {
   "cell_type": "code",
   "execution_count": 2,
   "id": "e688564b",
   "metadata": {
    "execution": {
     "iopub.execute_input": "2023-03-23T03:07:49.679241Z",
     "iopub.status.busy": "2023-03-23T03:07:49.677992Z",
     "iopub.status.idle": "2023-03-23T03:07:50.132845Z",
     "shell.execute_reply": "2023-03-23T03:07:50.131838Z"
    },
    "papermill": {
     "duration": 0.466344,
     "end_time": "2023-03-23T03:07:50.135558",
     "exception": false,
     "start_time": "2023-03-23T03:07:49.669214",
     "status": "completed"
    },
    "tags": []
   },
   "outputs": [
    {
     "name": "stdout",
     "output_type": "stream",
     "text": [
      "Using Kaggle's public dataset BigQuery integration.\n"
     ]
    }
   ],
   "source": [
    "from google.cloud import bigquery\n",
    "\n",
    "# Create a \"Client\" object\n",
    "client = bigquery.Client()\n",
    "\n",
    "# Construct a reference to the \"chicago_taxi_trips\" dataset\n",
    "dataset_ref = client.dataset(\"chicago_taxi_trips\", project=\"bigquery-public-data\")\n",
    "\n",
    "# API request - fetch the dataset\n",
    "dataset = client.get_dataset(dataset_ref)"
   ]
  },
  {
   "cell_type": "markdown",
   "id": "906a3c48",
   "metadata": {
    "papermill": {
     "duration": 0.006502,
     "end_time": "2023-03-23T03:07:50.148926",
     "exception": false,
     "start_time": "2023-03-23T03:07:50.142424",
     "status": "completed"
    },
    "tags": []
   },
   "source": [
    "# Exercises\n",
    "\n",
    "You are curious how much slower traffic moves when traffic volume is high. This involves a few steps.\n",
    "\n",
    "### 1) Find the data\n",
    "Before you can access the data, you need to find the table name with the data.\n",
    "\n",
    "*Hint*: Tab completion is helpful whenever you can't remember a command. Type `client.` and then hit the tab key. Don't forget the period before hitting tab."
   ]
  },
  {
   "cell_type": "code",
   "execution_count": 3,
   "id": "15d931cf",
   "metadata": {
    "execution": {
     "iopub.execute_input": "2023-03-23T03:07:50.165064Z",
     "iopub.status.busy": "2023-03-23T03:07:50.164213Z",
     "iopub.status.idle": "2023-03-23T03:07:50.573214Z",
     "shell.execute_reply": "2023-03-23T03:07:50.571504Z"
    },
    "papermill": {
     "duration": 0.420636,
     "end_time": "2023-03-23T03:07:50.576391",
     "exception": false,
     "start_time": "2023-03-23T03:07:50.155755",
     "status": "completed"
    },
    "tags": []
   },
   "outputs": [
    {
     "name": "stdout",
     "output_type": "stream",
     "text": [
      "taxi_trips\n"
     ]
    }
   ],
   "source": [
    "tables = list(client.list_tables(dataset))\n",
    "\n",
    "for table in tables:  \n",
    "    print(table.table_id)"
   ]
  },
  {
   "cell_type": "code",
   "execution_count": 4,
   "id": "b5055c34",
   "metadata": {
    "execution": {
     "iopub.execute_input": "2023-03-23T03:07:50.593117Z",
     "iopub.status.busy": "2023-03-23T03:07:50.592338Z",
     "iopub.status.idle": "2023-03-23T03:07:50.603452Z",
     "shell.execute_reply": "2023-03-23T03:07:50.602407Z"
    },
    "papermill": {
     "duration": 0.021896,
     "end_time": "2023-03-23T03:07:50.605767",
     "exception": false,
     "start_time": "2023-03-23T03:07:50.583871",
     "status": "completed"
    },
    "tags": []
   },
   "outputs": [
    {
     "data": {
      "application/javascript": [
       "parent.postMessage({\"jupyterEvent\": \"custom.exercise_interaction\", \"data\": {\"outcomeType\": 1, \"valueTowardsCompletion\": 0.16666666666666666, \"interactionType\": 1, \"questionType\": 1, \"questionId\": \"1_GetTableName\", \"learnToolsVersion\": \"0.3.4\", \"failureMessage\": \"\", \"exceptionClass\": \"\", \"trace\": \"\"}}, \"*\")"
      ],
      "text/plain": [
       "<IPython.core.display.Javascript object>"
      ]
     },
     "metadata": {},
     "output_type": "display_data"
    },
    {
     "data": {
      "text/markdown": [
       "<span style=\"color:#33cc33\">Correct</span>"
      ],
      "text/plain": [
       "Correct"
      ]
     },
     "metadata": {},
     "output_type": "display_data"
    }
   ],
   "source": [
    "# Write the table name as a string below\n",
    "table_name = 'taxi_trips'\n",
    "\n",
    "# Check your answer\n",
    "q_1.check()"
   ]
  },
  {
   "cell_type": "markdown",
   "id": "aec2ca24",
   "metadata": {
    "papermill": {
     "duration": 0.008702,
     "end_time": "2023-03-23T03:07:50.621958",
     "exception": false,
     "start_time": "2023-03-23T03:07:50.613256",
     "status": "completed"
    },
    "tags": []
   },
   "source": [
    "For the solution, uncomment the line below."
   ]
  },
  {
   "cell_type": "code",
   "execution_count": 5,
   "id": "8e10e7f6",
   "metadata": {
    "execution": {
     "iopub.execute_input": "2023-03-23T03:07:50.640626Z",
     "iopub.status.busy": "2023-03-23T03:07:50.638184Z",
     "iopub.status.idle": "2023-03-23T03:07:50.649728Z",
     "shell.execute_reply": "2023-03-23T03:07:50.648397Z"
    },
    "papermill": {
     "duration": 0.023091,
     "end_time": "2023-03-23T03:07:50.652520",
     "exception": false,
     "start_time": "2023-03-23T03:07:50.629429",
     "status": "completed"
    },
    "tags": []
   },
   "outputs": [
    {
     "data": {
      "application/javascript": [
       "parent.postMessage({\"jupyterEvent\": \"custom.exercise_interaction\", \"data\": {\"interactionType\": 3, \"questionType\": 1, \"questionId\": \"1_GetTableName\", \"learnToolsVersion\": \"0.3.4\", \"valueTowardsCompletion\": 0.0, \"failureMessage\": \"\", \"exceptionClass\": \"\", \"trace\": \"\", \"outcomeType\": 4}}, \"*\")"
      ],
      "text/plain": [
       "<IPython.core.display.Javascript object>"
      ]
     },
     "metadata": {},
     "output_type": "display_data"
    },
    {
     "data": {
      "text/markdown": [
       "<span style=\"color:#33cc99\">Solution:</span> \n",
       "```python\n",
       "\n",
       "# List all the tables in the dataset\n",
       "tables = list(client.list_tables(dataset))\n",
       "\n",
       "# Print names of all tables in the dataset (there is only one!)\n",
       "for table in tables:  \n",
       "    print(table.table_id)\n",
       "\n",
       "table_name = 'taxi_trips'\n",
       "    \n",
       "```"
      ],
      "text/plain": [
       "Solution: \n",
       "```python\n",
       "\n",
       "# List all the tables in the dataset\n",
       "tables = list(client.list_tables(dataset))\n",
       "\n",
       "# Print names of all tables in the dataset (there is only one!)\n",
       "for table in tables:  \n",
       "    print(table.table_id)\n",
       "\n",
       "table_name = 'taxi_trips'\n",
       "    \n",
       "```"
      ]
     },
     "metadata": {},
     "output_type": "display_data"
    }
   ],
   "source": [
    "q_1.solution()"
   ]
  },
  {
   "cell_type": "markdown",
   "id": "bf8c74ac",
   "metadata": {
    "papermill": {
     "duration": 0.007629,
     "end_time": "2023-03-23T03:07:50.667723",
     "exception": false,
     "start_time": "2023-03-23T03:07:50.660094",
     "status": "completed"
    },
    "tags": []
   },
   "source": [
    "### 2) Peek at the data\n",
    "\n",
    "Use the next code cell to peek at the top few rows of the data. Inspect the data and see if any issues with data quality are immediately obvious. "
   ]
  },
  {
   "cell_type": "code",
   "execution_count": 6,
   "id": "87d1bc1a",
   "metadata": {
    "execution": {
     "iopub.execute_input": "2023-03-23T03:07:50.685904Z",
     "iopub.status.busy": "2023-03-23T03:07:50.684982Z",
     "iopub.status.idle": "2023-03-23T03:07:52.339909Z",
     "shell.execute_reply": "2023-03-23T03:07:52.338691Z"
    },
    "papermill": {
     "duration": 1.667318,
     "end_time": "2023-03-23T03:07:52.342802",
     "exception": false,
     "start_time": "2023-03-23T03:07:50.675484",
     "status": "completed"
    },
    "tags": []
   },
   "outputs": [
    {
     "name": "stderr",
     "output_type": "stream",
     "text": [
      "/opt/conda/lib/python3.7/site-packages/ipykernel_launcher.py:7: UserWarning: Cannot use bqstorage_client if max_results is set, reverting to fetching data with the tabledata.list endpoint.\n",
      "  import sys\n"
     ]
    },
    {
     "data": {
      "text/html": [
       "<div>\n",
       "<style scoped>\n",
       "    .dataframe tbody tr th:only-of-type {\n",
       "        vertical-align: middle;\n",
       "    }\n",
       "\n",
       "    .dataframe tbody tr th {\n",
       "        vertical-align: top;\n",
       "    }\n",
       "\n",
       "    .dataframe thead th {\n",
       "        text-align: right;\n",
       "    }\n",
       "</style>\n",
       "<table border=\"1\" class=\"dataframe\">\n",
       "  <thead>\n",
       "    <tr style=\"text-align: right;\">\n",
       "      <th></th>\n",
       "      <th>unique_key</th>\n",
       "      <th>taxi_id</th>\n",
       "      <th>trip_start_timestamp</th>\n",
       "      <th>trip_end_timestamp</th>\n",
       "      <th>trip_seconds</th>\n",
       "      <th>trip_miles</th>\n",
       "      <th>pickup_census_tract</th>\n",
       "      <th>dropoff_census_tract</th>\n",
       "      <th>pickup_community_area</th>\n",
       "      <th>dropoff_community_area</th>\n",
       "      <th>...</th>\n",
       "      <th>extras</th>\n",
       "      <th>trip_total</th>\n",
       "      <th>payment_type</th>\n",
       "      <th>company</th>\n",
       "      <th>pickup_latitude</th>\n",
       "      <th>pickup_longitude</th>\n",
       "      <th>pickup_location</th>\n",
       "      <th>dropoff_latitude</th>\n",
       "      <th>dropoff_longitude</th>\n",
       "      <th>dropoff_location</th>\n",
       "    </tr>\n",
       "  </thead>\n",
       "  <tbody>\n",
       "    <tr>\n",
       "      <th>0</th>\n",
       "      <td>0523e3d9d670b1730853950fa33f3ca42cfe9e35</td>\n",
       "      <td>7c3d71cce1e7d945d5d1736ff35a8f3c05669d8106df27...</td>\n",
       "      <td>2014-11-03 16:00:00+00:00</td>\n",
       "      <td>2014-11-03 16:30:00+00:00</td>\n",
       "      <td>1920</td>\n",
       "      <td>0.6</td>\n",
       "      <td>1.703184e+10</td>\n",
       "      <td>1.703198e+10</td>\n",
       "      <td>32.0</td>\n",
       "      <td>56.0</td>\n",
       "      <td>...</td>\n",
       "      <td>3.0</td>\n",
       "      <td>28.05</td>\n",
       "      <td>Cash</td>\n",
       "      <td>Taxi Affiliation Services</td>\n",
       "      <td>41.880994</td>\n",
       "      <td>-87.632746</td>\n",
       "      <td>POINT (-87.6327464887 41.8809944707)</td>\n",
       "      <td>41.785999</td>\n",
       "      <td>-87.750934</td>\n",
       "      <td>POINT (-87.7509342894 41.785998518)</td>\n",
       "    </tr>\n",
       "    <tr>\n",
       "      <th>1</th>\n",
       "      <td>89b7e0e6d6e3579fc2f00a430aabc3365c1a8043</td>\n",
       "      <td>c9945e7e18aa8663c2619baf25d0df8730793b96b5003f...</td>\n",
       "      <td>2014-11-20 13:15:00+00:00</td>\n",
       "      <td>2014-11-20 13:45:00+00:00</td>\n",
       "      <td>2040</td>\n",
       "      <td>0.0</td>\n",
       "      <td>1.703132e+10</td>\n",
       "      <td>1.703198e+10</td>\n",
       "      <td>32.0</td>\n",
       "      <td>76.0</td>\n",
       "      <td>...</td>\n",
       "      <td>6.0</td>\n",
       "      <td>44.45</td>\n",
       "      <td>Cash</td>\n",
       "      <td>Dispatch Taxi Affiliation</td>\n",
       "      <td>41.884987</td>\n",
       "      <td>-87.620993</td>\n",
       "      <td>POINT (-87.6209929134 41.8849871918)</td>\n",
       "      <td>41.979071</td>\n",
       "      <td>-87.903040</td>\n",
       "      <td>POINT (-87.9030396611 41.9790708201)</td>\n",
       "    </tr>\n",
       "    <tr>\n",
       "      <th>2</th>\n",
       "      <td>33c8c13f8d630ac734672db3d50bc55d78a9c366</td>\n",
       "      <td>da4802fcc8e9eb10ee00b1212582430f9a6af7bc2982f9...</td>\n",
       "      <td>2014-11-02 02:30:00+00:00</td>\n",
       "      <td>2014-11-02 02:30:00+00:00</td>\n",
       "      <td>0</td>\n",
       "      <td>0.0</td>\n",
       "      <td>NaN</td>\n",
       "      <td>NaN</td>\n",
       "      <td>NaN</td>\n",
       "      <td>NaN</td>\n",
       "      <td>...</td>\n",
       "      <td>0.0</td>\n",
       "      <td>16.14</td>\n",
       "      <td>Credit Card</td>\n",
       "      <td>Chicago Elite Cab Corp. (Chicago Carriag</td>\n",
       "      <td>NaN</td>\n",
       "      <td>NaN</td>\n",
       "      <td>None</td>\n",
       "      <td>NaN</td>\n",
       "      <td>NaN</td>\n",
       "      <td>None</td>\n",
       "    </tr>\n",
       "    <tr>\n",
       "      <th>3</th>\n",
       "      <td>e5983cc70ed90161180145340c52dfe9d10d1fdb</td>\n",
       "      <td>2509c81056c1e0cb62c7506298a354992d45550bba9fd0...</td>\n",
       "      <td>2014-11-20 13:15:00+00:00</td>\n",
       "      <td>2014-11-20 13:45:00+00:00</td>\n",
       "      <td>1920</td>\n",
       "      <td>12.4</td>\n",
       "      <td>1.703108e+10</td>\n",
       "      <td>1.703198e+10</td>\n",
       "      <td>8.0</td>\n",
       "      <td>56.0</td>\n",
       "      <td>...</td>\n",
       "      <td>3.0</td>\n",
       "      <td>37.25</td>\n",
       "      <td>Credit Card</td>\n",
       "      <td>Taxi Affiliation Services</td>\n",
       "      <td>41.892508</td>\n",
       "      <td>-87.626215</td>\n",
       "      <td>POINT (-87.6262149064 41.8925077809)</td>\n",
       "      <td>41.785999</td>\n",
       "      <td>-87.750934</td>\n",
       "      <td>POINT (-87.7509342894 41.785998518)</td>\n",
       "    </tr>\n",
       "    <tr>\n",
       "      <th>4</th>\n",
       "      <td>47cee9258b9b4acc51191761018d8d2d5f6115cd</td>\n",
       "      <td>4dd2c499779e1efe86d8e7484cbccafef02bac165c79e7...</td>\n",
       "      <td>2014-11-07 19:15:00+00:00</td>\n",
       "      <td>2014-11-07 19:15:00+00:00</td>\n",
       "      <td>420</td>\n",
       "      <td>0.0</td>\n",
       "      <td>1.703108e+10</td>\n",
       "      <td>1.703108e+10</td>\n",
       "      <td>8.0</td>\n",
       "      <td>8.0</td>\n",
       "      <td>...</td>\n",
       "      <td>0.0</td>\n",
       "      <td>6.05</td>\n",
       "      <td>Cash</td>\n",
       "      <td>Taxi Affiliation Services</td>\n",
       "      <td>41.895033</td>\n",
       "      <td>-87.619711</td>\n",
       "      <td>POINT (-87.6197106717 41.8950334495)</td>\n",
       "      <td>41.892042</td>\n",
       "      <td>-87.631864</td>\n",
       "      <td>POINT (-87.6318639497 41.8920421365)</td>\n",
       "    </tr>\n",
       "  </tbody>\n",
       "</table>\n",
       "<p>5 rows × 23 columns</p>\n",
       "</div>"
      ],
      "text/plain": [
       "                                 unique_key  \\\n",
       "0  0523e3d9d670b1730853950fa33f3ca42cfe9e35   \n",
       "1  89b7e0e6d6e3579fc2f00a430aabc3365c1a8043   \n",
       "2  33c8c13f8d630ac734672db3d50bc55d78a9c366   \n",
       "3  e5983cc70ed90161180145340c52dfe9d10d1fdb   \n",
       "4  47cee9258b9b4acc51191761018d8d2d5f6115cd   \n",
       "\n",
       "                                             taxi_id  \\\n",
       "0  7c3d71cce1e7d945d5d1736ff35a8f3c05669d8106df27...   \n",
       "1  c9945e7e18aa8663c2619baf25d0df8730793b96b5003f...   \n",
       "2  da4802fcc8e9eb10ee00b1212582430f9a6af7bc2982f9...   \n",
       "3  2509c81056c1e0cb62c7506298a354992d45550bba9fd0...   \n",
       "4  4dd2c499779e1efe86d8e7484cbccafef02bac165c79e7...   \n",
       "\n",
       "       trip_start_timestamp        trip_end_timestamp  trip_seconds  \\\n",
       "0 2014-11-03 16:00:00+00:00 2014-11-03 16:30:00+00:00          1920   \n",
       "1 2014-11-20 13:15:00+00:00 2014-11-20 13:45:00+00:00          2040   \n",
       "2 2014-11-02 02:30:00+00:00 2014-11-02 02:30:00+00:00             0   \n",
       "3 2014-11-20 13:15:00+00:00 2014-11-20 13:45:00+00:00          1920   \n",
       "4 2014-11-07 19:15:00+00:00 2014-11-07 19:15:00+00:00           420   \n",
       "\n",
       "   trip_miles  pickup_census_tract  dropoff_census_tract  \\\n",
       "0         0.6         1.703184e+10          1.703198e+10   \n",
       "1         0.0         1.703132e+10          1.703198e+10   \n",
       "2         0.0                  NaN                   NaN   \n",
       "3        12.4         1.703108e+10          1.703198e+10   \n",
       "4         0.0         1.703108e+10          1.703108e+10   \n",
       "\n",
       "   pickup_community_area  dropoff_community_area  ...  extras  trip_total  \\\n",
       "0                   32.0                    56.0  ...     3.0       28.05   \n",
       "1                   32.0                    76.0  ...     6.0       44.45   \n",
       "2                    NaN                     NaN  ...     0.0       16.14   \n",
       "3                    8.0                    56.0  ...     3.0       37.25   \n",
       "4                    8.0                     8.0  ...     0.0        6.05   \n",
       "\n",
       "   payment_type                                   company  pickup_latitude  \\\n",
       "0          Cash                 Taxi Affiliation Services        41.880994   \n",
       "1          Cash                 Dispatch Taxi Affiliation        41.884987   \n",
       "2   Credit Card  Chicago Elite Cab Corp. (Chicago Carriag              NaN   \n",
       "3   Credit Card                 Taxi Affiliation Services        41.892508   \n",
       "4          Cash                 Taxi Affiliation Services        41.895033   \n",
       "\n",
       "  pickup_longitude                       pickup_location  dropoff_latitude  \\\n",
       "0       -87.632746  POINT (-87.6327464887 41.8809944707)         41.785999   \n",
       "1       -87.620993  POINT (-87.6209929134 41.8849871918)         41.979071   \n",
       "2              NaN                                  None               NaN   \n",
       "3       -87.626215  POINT (-87.6262149064 41.8925077809)         41.785999   \n",
       "4       -87.619711  POINT (-87.6197106717 41.8950334495)         41.892042   \n",
       "\n",
       "   dropoff_longitude                      dropoff_location  \n",
       "0         -87.750934   POINT (-87.7509342894 41.785998518)  \n",
       "1         -87.903040  POINT (-87.9030396611 41.9790708201)  \n",
       "2                NaN                                  None  \n",
       "3         -87.750934   POINT (-87.7509342894 41.785998518)  \n",
       "4         -87.631864  POINT (-87.6318639497 41.8920421365)  \n",
       "\n",
       "[5 rows x 23 columns]"
      ]
     },
     "execution_count": 6,
     "metadata": {},
     "output_type": "execute_result"
    }
   ],
   "source": [
    "# Your code here\n",
    "\n",
    "table_ref = dataset_ref.table(\"taxi_trips\")\n",
    "\n",
    "table = client.get_table(table_ref)\n",
    "\n",
    "client.list_rows(table, max_results=5).to_dataframe()"
   ]
  },
  {
   "cell_type": "markdown",
   "id": "8b3ef85e",
   "metadata": {
    "papermill": {
     "duration": 0.007775,
     "end_time": "2023-03-23T03:07:52.358599",
     "exception": false,
     "start_time": "2023-03-23T03:07:52.350824",
     "status": "completed"
    },
    "tags": []
   },
   "source": [
    "After deciding whether you see any important issues, run the code cell below."
   ]
  },
  {
   "cell_type": "code",
   "execution_count": 7,
   "id": "59fa9c71",
   "metadata": {
    "execution": {
     "iopub.execute_input": "2023-03-23T03:07:52.376666Z",
     "iopub.status.busy": "2023-03-23T03:07:52.375840Z",
     "iopub.status.idle": "2023-03-23T03:07:52.385413Z",
     "shell.execute_reply": "2023-03-23T03:07:52.384278Z"
    },
    "papermill": {
     "duration": 0.021282,
     "end_time": "2023-03-23T03:07:52.387802",
     "exception": false,
     "start_time": "2023-03-23T03:07:52.366520",
     "status": "completed"
    },
    "tags": []
   },
   "outputs": [
    {
     "data": {
      "application/javascript": [
       "parent.postMessage({\"jupyterEvent\": \"custom.exercise_interaction\", \"data\": {\"interactionType\": 3, \"questionType\": 4, \"questionId\": \"2_WhatsWrongWithData\", \"learnToolsVersion\": \"0.3.4\", \"valueTowardsCompletion\": 0.0, \"failureMessage\": \"\", \"exceptionClass\": \"\", \"trace\": \"\", \"outcomeType\": 4}}, \"*\")"
      ],
      "text/plain": [
       "<IPython.core.display.Javascript object>"
      ]
     },
     "metadata": {},
     "output_type": "display_data"
    },
    {
     "data": {
      "text/markdown": [
       "<span style=\"color:#33cc99\">Solution:</span> \n",
       "You can see the data by calling: \n",
       "```python\n",
       "# Construct a reference to the \"taxi_trips\" table\n",
       "table_ref = dataset_ref.table(\"taxi_trips\")\n",
       "\n",
       "# API request - fetch the table\n",
       "table = client.get_table(table_ref)\n",
       "\n",
       "# Preview the first five lines of the \"taxi_trips\" table\n",
       "client.list_rows(table, max_results=5).to_dataframe()\n",
       "```\n",
       "\n",
       "Some location fields have values of `None` or `NaN`. That is a problem if we want to use those fields.\n"
      ],
      "text/plain": [
       "Solution: \n",
       "You can see the data by calling: \n",
       "```python\n",
       "# Construct a reference to the \"taxi_trips\" table\n",
       "table_ref = dataset_ref.table(\"taxi_trips\")\n",
       "\n",
       "# API request - fetch the table\n",
       "table = client.get_table(table_ref)\n",
       "\n",
       "# Preview the first five lines of the \"taxi_trips\" table\n",
       "client.list_rows(table, max_results=5).to_dataframe()\n",
       "```\n",
       "\n",
       "Some location fields have values of `None` or `NaN`. That is a problem if we want to use those fields."
      ]
     },
     "metadata": {},
     "output_type": "display_data"
    }
   ],
   "source": [
    "# Check your answer (Run this code cell to receive credit!)\n",
    "q_2.solution()"
   ]
  },
  {
   "cell_type": "markdown",
   "id": "861bfbaf",
   "metadata": {
    "papermill": {
     "duration": 0.007868,
     "end_time": "2023-03-23T03:07:52.403922",
     "exception": false,
     "start_time": "2023-03-23T03:07:52.396054",
     "status": "completed"
    },
    "tags": []
   },
   "source": [
    "### 3) Determine when this data is from\n",
    "\n",
    "If the data is sufficiently old, we might be careful before assuming the data is still relevant to traffic patterns today. Write a query that counts the number of trips in each year.  \n",
    "\n",
    "Your results should have two columns:\n",
    "- `year` - the year of the trips\n",
    "- `num_trips` - the number of trips in that year\n",
    "\n",
    "Hints:\n",
    "- When using **GROUP BY** and **ORDER BY**, you should refer to the columns by the alias `year` that you set at the top of the **SELECT** query.\n",
    "- The SQL code to **SELECT** the year from `trip_start_timestamp` is <code>SELECT EXTRACT(YEAR FROM trip_start_timestamp)</code>\n",
    "- The **FROM** field can be a little tricky until you are used to it.  The format is:\n",
    "    1. A backick (the symbol \\`).\n",
    "    2. The project name. In this case it is `bigquery-public-data`.\n",
    "    3. A period.\n",
    "    4. The dataset name. In this case, it is `chicago_taxi_trips`.\n",
    "    5. A period.\n",
    "    6. The table name. You used this as your answer in **1) Find the data**.\n",
    "    7. A backtick (the symbol \\`)."
   ]
  },
  {
   "cell_type": "code",
   "execution_count": 8,
   "id": "b1004211",
   "metadata": {
    "execution": {
     "iopub.execute_input": "2023-03-23T03:07:52.423003Z",
     "iopub.status.busy": "2023-03-23T03:07:52.421843Z",
     "iopub.status.idle": "2023-03-23T03:07:53.988693Z",
     "shell.execute_reply": "2023-03-23T03:07:53.987202Z"
    },
    "papermill": {
     "duration": 1.578853,
     "end_time": "2023-03-23T03:07:53.991001",
     "exception": false,
     "start_time": "2023-03-23T03:07:52.412148",
     "status": "completed"
    },
    "tags": []
   },
   "outputs": [
    {
     "name": "stderr",
     "output_type": "stream",
     "text": [
      "/opt/conda/lib/python3.7/site-packages/google/cloud/bigquery/client.py:440: UserWarning: Cannot create BigQuery Storage client, the dependency google-cloud-bigquery-storage is not installed.\n",
      "  \"Cannot create BigQuery Storage client, the dependency \"\n"
     ]
    },
    {
     "name": "stdout",
     "output_type": "stream",
     "text": [
      "      year  num_trips\n",
      "0      NaN          1\n",
      "1   2013.0   10623653\n",
      "2   2014.0   20695122\n",
      "3   2015.0   18304557\n",
      "4   2016.0    3781729\n",
      "5   2017.0     676343\n",
      "6   2018.0     336980\n",
      "7   2019.0     225194\n",
      "8   2020.0     955104\n",
      "9   2021.0      85137\n",
      "10  2022.0    3723914\n"
     ]
    },
    {
     "data": {
      "application/javascript": [
       "parent.postMessage({\"jupyterEvent\": \"custom.exercise_interaction\", \"data\": {\"outcomeType\": 1, \"valueTowardsCompletion\": 0.16666666666666666, \"interactionType\": 1, \"questionType\": 2, \"questionId\": \"3_YearDistrib\", \"learnToolsVersion\": \"0.3.4\", \"failureMessage\": \"\", \"exceptionClass\": \"\", \"trace\": \"\"}}, \"*\")"
      ],
      "text/plain": [
       "<IPython.core.display.Javascript object>"
      ]
     },
     "metadata": {},
     "output_type": "display_data"
    },
    {
     "data": {
      "text/markdown": [
       "<span style=\"color:#33cc33\">Correct</span>"
      ],
      "text/plain": [
       "Correct"
      ]
     },
     "metadata": {},
     "output_type": "display_data"
    }
   ],
   "source": [
    "# Your code goes here\n",
    "rides_per_year_query = \"\"\"SELECT EXTRACT(YEAR FROM trip_start_timestamp) as year, \n",
    "                          COUNT(1) as num_trips \n",
    "                          FROM `bigquery-public-data.chicago_taxi_trips.taxi_trips`\n",
    "                          GROUP BY year\n",
    "                          ORDER BY year\n",
    "                        \"\"\"\n",
    "\n",
    "# Set up the query (cancel the query if it would use too much of \n",
    "# your quota)\n",
    "safe_config = bigquery.QueryJobConfig(maximum_bytes_billed=10**10)\n",
    "rides_per_year_query_job = client.query(rides_per_year_query, job_config = safe_config) # Your code goes here\n",
    "\n",
    "# API request - run the query, and return a pandas DataFrame\n",
    "rides_per_year_result = rides_per_year_query_job.to_dataframe() # Your code goes here\n",
    "\n",
    "# View results\n",
    "print(rides_per_year_result)\n",
    "\n",
    "# Check your answer\n",
    "q_3.check()"
   ]
  },
  {
   "cell_type": "markdown",
   "id": "8b46bbc5",
   "metadata": {
    "papermill": {
     "duration": 0.00813,
     "end_time": "2023-03-23T03:07:54.007607",
     "exception": false,
     "start_time": "2023-03-23T03:07:53.999477",
     "status": "completed"
    },
    "tags": []
   },
   "source": [
    "For a hint or the solution, uncomment the appropriate line below."
   ]
  },
  {
   "cell_type": "code",
   "execution_count": 9,
   "id": "81d681a8",
   "metadata": {
    "execution": {
     "iopub.execute_input": "2023-03-23T03:07:54.026510Z",
     "iopub.status.busy": "2023-03-23T03:07:54.026092Z",
     "iopub.status.idle": "2023-03-23T03:07:54.030907Z",
     "shell.execute_reply": "2023-03-23T03:07:54.029522Z"
    },
    "papermill": {
     "duration": 0.017206,
     "end_time": "2023-03-23T03:07:54.033198",
     "exception": false,
     "start_time": "2023-03-23T03:07:54.015992",
     "status": "completed"
    },
    "tags": []
   },
   "outputs": [],
   "source": [
    "#q_3.hint()\n",
    "#q_3.solution()"
   ]
  },
  {
   "cell_type": "markdown",
   "id": "2b250729",
   "metadata": {
    "papermill": {
     "duration": 0.008168,
     "end_time": "2023-03-23T03:07:54.049943",
     "exception": false,
     "start_time": "2023-03-23T03:07:54.041775",
     "status": "completed"
    },
    "tags": []
   },
   "source": [
    "### 4) Dive slightly deeper\n",
    "\n",
    "You'd like to take a closer look at rides from 2016.  Copy the query you used above in `rides_per_year_query` into the cell below for `rides_per_month_query`.  Then modify it in two ways:\n",
    "1. Use a **WHERE** clause to limit the query to data from 2016.\n",
    "2. Modify the query to extract the month rather than the year."
   ]
  },
  {
   "cell_type": "code",
   "execution_count": 10,
   "id": "46a3367d",
   "metadata": {
    "execution": {
     "iopub.execute_input": "2023-03-23T03:07:54.068664Z",
     "iopub.status.busy": "2023-03-23T03:07:54.068213Z",
     "iopub.status.idle": "2023-03-23T03:07:55.963094Z",
     "shell.execute_reply": "2023-03-23T03:07:55.961638Z"
    },
    "papermill": {
     "duration": 1.90697,
     "end_time": "2023-03-23T03:07:55.965400",
     "exception": false,
     "start_time": "2023-03-23T03:07:54.058430",
     "status": "completed"
    },
    "tags": []
   },
   "outputs": [
    {
     "name": "stderr",
     "output_type": "stream",
     "text": [
      "/opt/conda/lib/python3.7/site-packages/google/cloud/bigquery/client.py:440: UserWarning: Cannot create BigQuery Storage client, the dependency google-cloud-bigquery-storage is not installed.\n",
      "  \"Cannot create BigQuery Storage client, the dependency \"\n"
     ]
    },
    {
     "name": "stdout",
     "output_type": "stream",
     "text": [
      "    month  num_trips\n",
      "0       1    1012768\n",
      "1       2     912111\n",
      "2       3     726500\n",
      "3       4     245358\n",
      "4       5     235476\n",
      "5       6     211555\n",
      "6       7     120277\n",
      "7       8      96280\n",
      "8       9      44345\n",
      "9      10      42205\n",
      "10     11      65840\n",
      "11     12      69014\n"
     ]
    },
    {
     "data": {
      "application/javascript": [
       "parent.postMessage({\"jupyterEvent\": \"custom.exercise_interaction\", \"data\": {\"outcomeType\": 1, \"valueTowardsCompletion\": 0.16666666666666666, \"interactionType\": 1, \"questionType\": 2, \"questionId\": \"4_MonthDistrib\", \"learnToolsVersion\": \"0.3.4\", \"failureMessage\": \"\", \"exceptionClass\": \"\", \"trace\": \"\"}}, \"*\")"
      ],
      "text/plain": [
       "<IPython.core.display.Javascript object>"
      ]
     },
     "metadata": {},
     "output_type": "display_data"
    },
    {
     "data": {
      "text/markdown": [
       "<span style=\"color:#33cc33\">Correct</span>"
      ],
      "text/plain": [
       "Correct"
      ]
     },
     "metadata": {},
     "output_type": "display_data"
    }
   ],
   "source": [
    "# Your code goes here\n",
    "rides_per_month_query =\"\"\"\n",
    "                          \n",
    "                          SELECT EXTRACT(MONTH FROM trip_start_timestamp) as month, \n",
    "                          COUNT(1) as num_trips \n",
    "                          FROM `bigquery-public-data.chicago_taxi_trips.taxi_trips`\n",
    "                          WHERE EXTRACT(YEAR FROM trip_start_timestamp) = 2016\n",
    "                          GROUP BY month\n",
    "                          ORDER BY month\n",
    "                          \n",
    "                        \"\"\"\n",
    "\n",
    "# Set up the query\n",
    "safe_config = bigquery.QueryJobConfig(maximum_bytes_billed=10**10)\n",
    "rides_per_month_query_job = client.query(rides_per_month_query, job_config = safe_config) # Your code goes here\n",
    "\n",
    "# API request - run the query, and return a pandas DataFrame\n",
    "rides_per_month_result = rides_per_month_query_job.to_dataframe()  # Your code goes here\n",
    "\n",
    "# View results\n",
    "print(rides_per_month_result)\n",
    "\n",
    "# Check your answer\n",
    "q_4.check()"
   ]
  },
  {
   "cell_type": "markdown",
   "id": "356ac251",
   "metadata": {
    "papermill": {
     "duration": 0.00878,
     "end_time": "2023-03-23T03:07:55.983184",
     "exception": false,
     "start_time": "2023-03-23T03:07:55.974404",
     "status": "completed"
    },
    "tags": []
   },
   "source": [
    "For a hint or the solution, uncomment the appropriate line below."
   ]
  },
  {
   "cell_type": "code",
   "execution_count": 11,
   "id": "e114e907",
   "metadata": {
    "execution": {
     "iopub.execute_input": "2023-03-23T03:07:56.002946Z",
     "iopub.status.busy": "2023-03-23T03:07:56.002533Z",
     "iopub.status.idle": "2023-03-23T03:07:56.011848Z",
     "shell.execute_reply": "2023-03-23T03:07:56.010718Z"
    },
    "papermill": {
     "duration": 0.021926,
     "end_time": "2023-03-23T03:07:56.014074",
     "exception": false,
     "start_time": "2023-03-23T03:07:55.992148",
     "status": "completed"
    },
    "tags": []
   },
   "outputs": [
    {
     "data": {
      "application/javascript": [
       "parent.postMessage({\"jupyterEvent\": \"custom.exercise_interaction\", \"data\": {\"interactionType\": 3, \"questionType\": 2, \"questionId\": \"4_MonthDistrib\", \"learnToolsVersion\": \"0.3.4\", \"valueTowardsCompletion\": 0.0, \"failureMessage\": \"\", \"exceptionClass\": \"\", \"trace\": \"\", \"outcomeType\": 4}}, \"*\")"
      ],
      "text/plain": [
       "<IPython.core.display.Javascript object>"
      ]
     },
     "metadata": {},
     "output_type": "display_data"
    },
    {
     "data": {
      "text/markdown": [
       "<span style=\"color:#33cc99\">Solution:</span> \n",
       "```python\n",
       "\n",
       "rides_per_month_query = \"\"\"\n",
       "                        SELECT EXTRACT(MONTH FROM trip_start_timestamp) AS month, \n",
       "                               COUNT(1) AS num_trips\n",
       "                        FROM `bigquery-public-data.chicago_taxi_trips.taxi_trips`\n",
       "                        WHERE EXTRACT(YEAR FROM trip_start_timestamp) = 2016\n",
       "                        GROUP BY month\n",
       "                        ORDER BY month\n",
       "                        \"\"\"\n",
       "\n",
       "# Set up the query (cancel the query if it would use too much of \n",
       "# your quota)\n",
       "safe_config = bigquery.QueryJobConfig(maximum_bytes_billed=10**10)\n",
       "rides_per_month_query_job = client.query(rides_per_month_query, job_config=safe_config)\n",
       "\n",
       "# API request - run the query, and return a pandas DataFrame\n",
       "rides_per_month_result = rides_per_month_query_job.to_dataframe()\n",
       "\n",
       "```"
      ],
      "text/plain": [
       "Solution: \n",
       "```python\n",
       "\n",
       "rides_per_month_query = \"\"\"\n",
       "                        SELECT EXTRACT(MONTH FROM trip_start_timestamp) AS month, \n",
       "                               COUNT(1) AS num_trips\n",
       "                        FROM `bigquery-public-data.chicago_taxi_trips.taxi_trips`\n",
       "                        WHERE EXTRACT(YEAR FROM trip_start_timestamp) = 2016\n",
       "                        GROUP BY month\n",
       "                        ORDER BY month\n",
       "                        \"\"\"\n",
       "\n",
       "# Set up the query (cancel the query if it would use too much of \n",
       "# your quota)\n",
       "safe_config = bigquery.QueryJobConfig(maximum_bytes_billed=10**10)\n",
       "rides_per_month_query_job = client.query(rides_per_month_query, job_config=safe_config)\n",
       "\n",
       "# API request - run the query, and return a pandas DataFrame\n",
       "rides_per_month_result = rides_per_month_query_job.to_dataframe()\n",
       "\n",
       "```"
      ]
     },
     "metadata": {},
     "output_type": "display_data"
    }
   ],
   "source": [
    "#q_4.hint()\n",
    "q_4.solution()"
   ]
  },
  {
   "cell_type": "markdown",
   "id": "82535c6e",
   "metadata": {
    "papermill": {
     "duration": 0.008965,
     "end_time": "2023-03-23T03:07:56.032618",
     "exception": false,
     "start_time": "2023-03-23T03:07:56.023653",
     "status": "completed"
    },
    "tags": []
   },
   "source": [
    "### 5) Write the query\n",
    "\n",
    "It's time to step up the sophistication of your queries.  Write a query that shows, for each hour of the day in the dataset, the corresponding number of trips and average speed.\n",
    "\n",
    "Your results should have three columns:\n",
    "- `hour_of_day` - sort by this column, which holds the result of extracting the hour from `trip_start_timestamp`.\n",
    "- `num_trips` - the count of the total number of trips in each hour of the day (e.g. how many trips were started between 6AM and 7AM, independent of which day it occurred on).\n",
    "- `avg_mph` - the average speed, measured in miles per hour, for trips that started in that hour of the day.  Average speed in miles per hour is calculated as `3600 * SUM(trip_miles) / SUM(trip_seconds)`. (The value 3600 is used to convert from seconds to hours.)\n",
    "\n",
    "Restrict your query to data meeting the following criteria:\n",
    "- a `trip_start_timestamp` > **2016-01-01** and < **2016-04-01**\n",
    "- `trip_seconds` > 0 and `trip_miles` > 0\n",
    "\n",
    "You will use a common table expression (CTE) to select just the relevant rides.  Because this dataset is very big, this CTE should select only the columns you'll need to create the final output (though you won't actually create those in the CTE -- instead you'll create those in the later **SELECT** statement below the CTE).\n",
    "\n",
    "This is a much harder query than anything you've written so far.  Good luck!"
   ]
  },
  {
   "cell_type": "code",
   "execution_count": 12,
   "id": "a7d183ff",
   "metadata": {
    "execution": {
     "iopub.execute_input": "2023-03-23T03:07:56.053403Z",
     "iopub.status.busy": "2023-03-23T03:07:56.052951Z",
     "iopub.status.idle": "2023-03-23T03:07:57.511727Z",
     "shell.execute_reply": "2023-03-23T03:07:57.510654Z"
    },
    "papermill": {
     "duration": 1.472608,
     "end_time": "2023-03-23T03:07:57.514418",
     "exception": false,
     "start_time": "2023-03-23T03:07:56.041810",
     "status": "completed"
    },
    "tags": []
   },
   "outputs": [
    {
     "name": "stderr",
     "output_type": "stream",
     "text": [
      "/opt/conda/lib/python3.7/site-packages/google/cloud/bigquery/client.py:440: UserWarning: Cannot create BigQuery Storage client, the dependency google-cloud-bigquery-storage is not installed.\n",
      "  \"Cannot create BigQuery Storage client, the dependency \"\n"
     ]
    },
    {
     "name": "stdout",
     "output_type": "stream",
     "text": [
      "    hour_of_day  num_trips    avg_mph\n",
      "0             0      52347  16.380714\n",
      "1             1      47247  15.886841\n",
      "2             2      41232  15.203609\n",
      "3             3      36208  14.519894\n",
      "4             4      23997  16.452846\n",
      "5             5      16458  21.025719\n",
      "6             6      16328  23.835369\n",
      "7             7      28523  18.828132\n",
      "8             8      53183  14.135705\n",
      "9             9      75931  12.597435\n",
      "10           10      70813  15.084832\n",
      "11           11      63929  16.987425\n",
      "12           12      75894  16.854133\n",
      "13           13      77228  15.720148\n",
      "14           14      78576  15.633122\n",
      "15           15      75576  15.143892\n",
      "16           16      81969  14.284713\n",
      "17           17      89756  12.647606\n",
      "18           18     103748  11.253307\n",
      "19           19     110614  12.681161\n",
      "20           20     104125  15.355744\n",
      "21           21      85527  17.528666\n",
      "22           22      78064  17.607932\n",
      "23           23      65505  16.954711\n"
     ]
    },
    {
     "data": {
      "application/javascript": [
       "parent.postMessage({\"jupyterEvent\": \"custom.exercise_interaction\", \"data\": {\"outcomeType\": 1, \"valueTowardsCompletion\": 0.16666666666666666, \"interactionType\": 1, \"questionType\": 2, \"questionId\": \"5_TheLongQuery\", \"learnToolsVersion\": \"0.3.4\", \"failureMessage\": \"\", \"exceptionClass\": \"\", \"trace\": \"\"}}, \"*\")"
      ],
      "text/plain": [
       "<IPython.core.display.Javascript object>"
      ]
     },
     "metadata": {},
     "output_type": "display_data"
    },
    {
     "data": {
      "text/markdown": [
       "<span style=\"color:#33cc33\">Correct</span>"
      ],
      "text/plain": [
       "Correct"
      ]
     },
     "metadata": {},
     "output_type": "display_data"
    }
   ],
   "source": [
    "# Your code goes here\n",
    "speeds_query = \"\"\"\n",
    "               WITH RelevantRides AS\n",
    "               (\n",
    "                   SELECT trip_start_timestamp, trip_miles, trip_seconds\n",
    "                   FROM `bigquery-public-data.chicago_taxi_trips.taxi_trips`\n",
    "                   WHERE trip_start_timestamp > '2016-01-01' and \n",
    "                   trip_start_timestamp < '2016-04-01'\n",
    "                   and trip_seconds > 0 and trip_miles > 0\n",
    "               )\n",
    "               \n",
    "               SELECT EXTRACT(HOUR FROM trip_start_timestamp) as hour_of_day, \n",
    "               COUNT(1) as num_trips,\n",
    "               3600 * SUM(trip_miles) / SUM(trip_seconds) as avg_mph\n",
    "               FROM RelevantRides\n",
    "               GROUP BY hour_of_day\n",
    "               ORDER BY hour_of_day\n",
    "               \"\"\"\n",
    "\n",
    "# Set up the query\n",
    "safe_config = bigquery.QueryJobConfig(maximum_bytes_billed=10**10)\n",
    "speeds_query_job = client.query(speeds_query, job_config = safe_config) # Your code here\n",
    "\n",
    "# API request - run the query, and return a pandas DataFrame\n",
    "speeds_result = speeds_query_job.to_dataframe() # Your code here\n",
    "\n",
    "# View results\n",
    "print(speeds_result)\n",
    "\n",
    "# Check your answer\n",
    "q_5.check()"
   ]
  },
  {
   "cell_type": "markdown",
   "id": "17f2e96c",
   "metadata": {
    "papermill": {
     "duration": 0.00933,
     "end_time": "2023-03-23T03:07:57.533743",
     "exception": false,
     "start_time": "2023-03-23T03:07:57.524413",
     "status": "completed"
    },
    "tags": []
   },
   "source": [
    "For the solution, uncomment the appropriate line below."
   ]
  },
  {
   "cell_type": "code",
   "execution_count": 13,
   "id": "f5deb4d4",
   "metadata": {
    "execution": {
     "iopub.execute_input": "2023-03-23T03:07:57.555369Z",
     "iopub.status.busy": "2023-03-23T03:07:57.554721Z",
     "iopub.status.idle": "2023-03-23T03:07:57.559933Z",
     "shell.execute_reply": "2023-03-23T03:07:57.558678Z"
    },
    "papermill": {
     "duration": 0.019057,
     "end_time": "2023-03-23T03:07:57.562613",
     "exception": false,
     "start_time": "2023-03-23T03:07:57.543556",
     "status": "completed"
    },
    "tags": []
   },
   "outputs": [],
   "source": [
    "#q_5.solution()"
   ]
  },
  {
   "cell_type": "markdown",
   "id": "18100274",
   "metadata": {
    "papermill": {
     "duration": 0.009383,
     "end_time": "2023-03-23T03:07:57.581776",
     "exception": false,
     "start_time": "2023-03-23T03:07:57.572393",
     "status": "completed"
    },
    "tags": []
   },
   "source": [
    "That's a hard query. If you made good progress towards the solution, congratulations!"
   ]
  },
  {
   "cell_type": "markdown",
   "id": "db012030",
   "metadata": {
    "papermill": {
     "duration": 0.010165,
     "end_time": "2023-03-23T03:07:57.601453",
     "exception": false,
     "start_time": "2023-03-23T03:07:57.591288",
     "status": "completed"
    },
    "tags": []
   },
   "source": [
    "# Keep going\n",
    "\n",
    "You can write very complex queries now with a single data source. But nothing expands the horizons of SQL as much as the ability to combine or **JOIN** tables.\n",
    "\n",
    "**[Click here](https://www.kaggle.com/dansbecker/joining-data)** to start the last lesson in the Intro to SQL course."
   ]
  },
  {
   "cell_type": "markdown",
   "id": "d7efb29d",
   "metadata": {
    "papermill": {
     "duration": 0.009352,
     "end_time": "2023-03-23T03:07:57.620457",
     "exception": false,
     "start_time": "2023-03-23T03:07:57.611105",
     "status": "completed"
    },
    "tags": []
   },
   "source": [
    "---\n",
    "\n",
    "\n",
    "\n",
    "\n",
    "*Have questions or comments? Visit the [course discussion forum](https://www.kaggle.com/learn/intro-to-sql/discussion) to chat with other learners.*"
   ]
  }
 ],
 "metadata": {
  "kernelspec": {
   "display_name": "Python 3",
   "language": "python",
   "name": "python3"
  },
  "language_info": {
   "codemirror_mode": {
    "name": "ipython",
    "version": 3
   },
   "file_extension": ".py",
   "mimetype": "text/x-python",
   "name": "python",
   "nbconvert_exporter": "python",
   "pygments_lexer": "ipython3",
   "version": "3.7.12"
  },
  "papermill": {
   "default_parameters": {},
   "duration": 66.455343,
   "end_time": "2023-03-23T03:07:58.353888",
   "environment_variables": {},
   "exception": null,
   "input_path": "__notebook__.ipynb",
   "output_path": "__notebook__.ipynb",
   "parameters": {},
   "start_time": "2023-03-23T03:06:51.898545",
   "version": "2.4.0"
  }
 },
 "nbformat": 4,
 "nbformat_minor": 5
}
