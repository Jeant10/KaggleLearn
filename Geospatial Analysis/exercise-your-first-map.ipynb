{
 "cells": [
  {
   "cell_type": "markdown",
   "id": "c1fd9097",
   "metadata": {
    "papermill": {
     "duration": 0.007138,
     "end_time": "2023-04-04T03:04:29.884064",
     "exception": false,
     "start_time": "2023-04-04T03:04:29.876926",
     "status": "completed"
    },
    "tags": []
   },
   "source": [
    "**This notebook is an exercise in the [Geospatial Analysis](https://www.kaggle.com/learn/geospatial-analysis) course.  You can reference the tutorial at [this link](https://www.kaggle.com/alexisbcook/your-first-map).**\n",
    "\n",
    "---\n"
   ]
  },
  {
   "cell_type": "markdown",
   "id": "a072297e",
   "metadata": {
    "papermill": {
     "duration": 0.006075,
     "end_time": "2023-04-04T03:04:29.896317",
     "exception": false,
     "start_time": "2023-04-04T03:04:29.890242",
     "status": "completed"
    },
    "tags": []
   },
   "source": [
    "# Introduction\n",
    "\n",
    "[Kiva.org](https://www.kiva.org/) is an online crowdfunding platform extending financial services to poor people around the world. Kiva lenders have provided over $1 billion dollars in loans to over 2 million people.\n",
    "\n",
    "<center>\n",
    "<img src=\"https://i.imgur.com/2G8C53X.png\" width=\"500\"><br/>\n",
    "</center>\n",
    "\n",
    "Kiva reaches some of the most remote places in the world through their global network of \"Field Partners\". These partners are local organizations working in communities to vet borrowers, provide services, and administer loans.\n",
    "\n",
    "In this exercise, you'll investigate Kiva loans in the Philippines.  Can you identify regions that might be outside of Kiva's current network, in order to identify opportunities for recruiting new Field Partners?\n",
    "\n",
    "To get started, run the code cell below to set up our feedback system."
   ]
  },
  {
   "cell_type": "code",
   "execution_count": 1,
   "id": "b9dd294c",
   "metadata": {
    "execution": {
     "iopub.execute_input": "2023-04-04T03:04:29.910799Z",
     "iopub.status.busy": "2023-04-04T03:04:29.910033Z",
     "iopub.status.idle": "2023-04-04T03:04:31.878784Z",
     "shell.execute_reply": "2023-04-04T03:04:31.877597Z"
    },
    "papermill": {
     "duration": 1.979634,
     "end_time": "2023-04-04T03:04:31.882042",
     "exception": false,
     "start_time": "2023-04-04T03:04:29.902408",
     "status": "completed"
    },
    "tags": []
   },
   "outputs": [
    {
     "name": "stderr",
     "output_type": "stream",
     "text": [
      "/opt/conda/lib/python3.7/site-packages/geopandas/_compat.py:115: UserWarning: The Shapely GEOS version (3.9.1-CAPI-1.14.2) is incompatible with the GEOS version PyGEOS was compiled with (3.10.4-CAPI-1.16.2). Conversions between both will be slow.\n",
      "  shapely_geos_version, geos_capi_version_string\n"
     ]
    }
   ],
   "source": [
    "import geopandas as gpd\n",
    "\n",
    "from learntools.core import binder\n",
    "binder.bind(globals())\n",
    "from learntools.geospatial.ex1 import *"
   ]
  },
  {
   "cell_type": "markdown",
   "id": "1a5bee44",
   "metadata": {
    "papermill": {
     "duration": 0.005665,
     "end_time": "2023-04-04T03:04:31.894413",
     "exception": false,
     "start_time": "2023-04-04T03:04:31.888748",
     "status": "completed"
    },
    "tags": []
   },
   "source": [
    "### 1) Get the data.\n",
    "\n",
    "Use the next cell to load the shapefile located at `loans_filepath` to create a GeoDataFrame `world_loans`.  "
   ]
  },
  {
   "cell_type": "code",
   "execution_count": 2,
   "id": "fbb45a42",
   "metadata": {
    "execution": {
     "iopub.execute_input": "2023-04-04T03:04:31.908877Z",
     "iopub.status.busy": "2023-04-04T03:04:31.908424Z",
     "iopub.status.idle": "2023-04-04T03:04:34.845609Z",
     "shell.execute_reply": "2023-04-04T03:04:34.844233Z"
    },
    "papermill": {
     "duration": 2.94846,
     "end_time": "2023-04-04T03:04:34.848974",
     "exception": false,
     "start_time": "2023-04-04T03:04:31.900514",
     "status": "completed"
    },
    "tags": []
   },
   "outputs": [
    {
     "data": {
      "application/javascript": [
       "parent.postMessage({\"jupyterEvent\": \"custom.exercise_interaction\", \"data\": {\"outcomeType\": 1, \"valueTowardsCompletion\": 0.3333333333333333, \"interactionType\": 1, \"questionType\": 2, \"questionId\": \"1_Q1\", \"learnToolsVersion\": \"0.3.4\", \"failureMessage\": \"\", \"exceptionClass\": \"\", \"trace\": \"\"}}, \"*\")"
      ],
      "text/plain": [
       "<IPython.core.display.Javascript object>"
      ]
     },
     "metadata": {},
     "output_type": "display_data"
    },
    {
     "data": {
      "text/markdown": [
       "<span style=\"color:#33cc33\">Correct</span>"
      ],
      "text/plain": [
       "Correct"
      ]
     },
     "metadata": {},
     "output_type": "display_data"
    },
    {
     "data": {
      "text/html": [
       "<div>\n",
       "<style scoped>\n",
       "    .dataframe tbody tr th:only-of-type {\n",
       "        vertical-align: middle;\n",
       "    }\n",
       "\n",
       "    .dataframe tbody tr th {\n",
       "        vertical-align: top;\n",
       "    }\n",
       "\n",
       "    .dataframe thead th {\n",
       "        text-align: right;\n",
       "    }\n",
       "</style>\n",
       "<table border=\"1\" class=\"dataframe\">\n",
       "  <thead>\n",
       "    <tr style=\"text-align: right;\">\n",
       "      <th></th>\n",
       "      <th>Partner ID</th>\n",
       "      <th>Field Part</th>\n",
       "      <th>sector</th>\n",
       "      <th>Loan Theme</th>\n",
       "      <th>country</th>\n",
       "      <th>amount</th>\n",
       "      <th>geometry</th>\n",
       "    </tr>\n",
       "  </thead>\n",
       "  <tbody>\n",
       "    <tr>\n",
       "      <th>0</th>\n",
       "      <td>9</td>\n",
       "      <td>KREDIT Microfinance Institution</td>\n",
       "      <td>General Financial Inclusion</td>\n",
       "      <td>Higher Education</td>\n",
       "      <td>Cambodia</td>\n",
       "      <td>450</td>\n",
       "      <td>POINT (102.89751 13.66726)</td>\n",
       "    </tr>\n",
       "    <tr>\n",
       "      <th>1</th>\n",
       "      <td>9</td>\n",
       "      <td>KREDIT Microfinance Institution</td>\n",
       "      <td>General Financial Inclusion</td>\n",
       "      <td>Vulnerable Populations</td>\n",
       "      <td>Cambodia</td>\n",
       "      <td>20275</td>\n",
       "      <td>POINT (102.98962 13.02870)</td>\n",
       "    </tr>\n",
       "    <tr>\n",
       "      <th>2</th>\n",
       "      <td>9</td>\n",
       "      <td>KREDIT Microfinance Institution</td>\n",
       "      <td>General Financial Inclusion</td>\n",
       "      <td>Higher Education</td>\n",
       "      <td>Cambodia</td>\n",
       "      <td>9150</td>\n",
       "      <td>POINT (102.98962 13.02870)</td>\n",
       "    </tr>\n",
       "    <tr>\n",
       "      <th>3</th>\n",
       "      <td>9</td>\n",
       "      <td>KREDIT Microfinance Institution</td>\n",
       "      <td>General Financial Inclusion</td>\n",
       "      <td>Vulnerable Populations</td>\n",
       "      <td>Cambodia</td>\n",
       "      <td>604950</td>\n",
       "      <td>POINT (105.31312 12.09829)</td>\n",
       "    </tr>\n",
       "    <tr>\n",
       "      <th>4</th>\n",
       "      <td>9</td>\n",
       "      <td>KREDIT Microfinance Institution</td>\n",
       "      <td>General Financial Inclusion</td>\n",
       "      <td>Sanitation</td>\n",
       "      <td>Cambodia</td>\n",
       "      <td>275</td>\n",
       "      <td>POINT (105.31312 12.09829)</td>\n",
       "    </tr>\n",
       "  </tbody>\n",
       "</table>\n",
       "</div>"
      ],
      "text/plain": [
       "   Partner ID                       Field Part                       sector  \\\n",
       "0           9  KREDIT Microfinance Institution  General Financial Inclusion   \n",
       "1           9  KREDIT Microfinance Institution  General Financial Inclusion   \n",
       "2           9  KREDIT Microfinance Institution  General Financial Inclusion   \n",
       "3           9  KREDIT Microfinance Institution  General Financial Inclusion   \n",
       "4           9  KREDIT Microfinance Institution  General Financial Inclusion   \n",
       "\n",
       "               Loan Theme   country  amount                    geometry  \n",
       "0        Higher Education  Cambodia     450  POINT (102.89751 13.66726)  \n",
       "1  Vulnerable Populations  Cambodia   20275  POINT (102.98962 13.02870)  \n",
       "2        Higher Education  Cambodia    9150  POINT (102.98962 13.02870)  \n",
       "3  Vulnerable Populations  Cambodia  604950  POINT (105.31312 12.09829)  \n",
       "4              Sanitation  Cambodia     275  POINT (105.31312 12.09829)  "
      ]
     },
     "execution_count": 2,
     "metadata": {},
     "output_type": "execute_result"
    }
   ],
   "source": [
    "loans_filepath = \"../input/geospatial-learn-course-data/kiva_loans/kiva_loans/kiva_loans.shp\"\n",
    "\n",
    "# Your code here: Load the data\n",
    "world_loans = gpd.read_file(loans_filepath)\n",
    "\n",
    "# Check your answer\n",
    "q_1.check()\n",
    "\n",
    "# Uncomment to view the first five rows of the data\n",
    "world_loans.head()"
   ]
  },
  {
   "cell_type": "code",
   "execution_count": 3,
   "id": "16f0a75f",
   "metadata": {
    "execution": {
     "iopub.execute_input": "2023-04-04T03:04:34.864289Z",
     "iopub.status.busy": "2023-04-04T03:04:34.863863Z",
     "iopub.status.idle": "2023-04-04T03:04:34.877065Z",
     "shell.execute_reply": "2023-04-04T03:04:34.875461Z"
    },
    "papermill": {
     "duration": 0.02422,
     "end_time": "2023-04-04T03:04:34.879826",
     "exception": false,
     "start_time": "2023-04-04T03:04:34.855606",
     "status": "completed"
    },
    "tags": []
   },
   "outputs": [
    {
     "data": {
      "application/javascript": [
       "parent.postMessage({\"jupyterEvent\": \"custom.exercise_interaction\", \"data\": {\"interactionType\": 2, \"questionType\": 2, \"questionId\": \"1_Q1\", \"learnToolsVersion\": \"0.3.4\", \"valueTowardsCompletion\": 0.0, \"failureMessage\": \"\", \"exceptionClass\": \"\", \"trace\": \"\", \"outcomeType\": 4}}, \"*\")"
      ],
      "text/plain": [
       "<IPython.core.display.Javascript object>"
      ]
     },
     "metadata": {},
     "output_type": "display_data"
    },
    {
     "data": {
      "text/markdown": [
       "<span style=\"color:#3366cc\">Hint:</span> Use `gpd.read_file()`."
      ],
      "text/plain": [
       "Hint: Use `gpd.read_file()`."
      ]
     },
     "metadata": {},
     "output_type": "display_data"
    },
    {
     "data": {
      "application/javascript": [
       "parent.postMessage({\"jupyterEvent\": \"custom.exercise_interaction\", \"data\": {\"interactionType\": 3, \"questionType\": 2, \"questionId\": \"1_Q1\", \"learnToolsVersion\": \"0.3.4\", \"valueTowardsCompletion\": 0.0, \"failureMessage\": \"\", \"exceptionClass\": \"\", \"trace\": \"\", \"outcomeType\": 4}}, \"*\")"
      ],
      "text/plain": [
       "<IPython.core.display.Javascript object>"
      ]
     },
     "metadata": {},
     "output_type": "display_data"
    },
    {
     "data": {
      "text/markdown": [
       "<span style=\"color:#33cc99\">Solution:</span> \n",
       "```python\n",
       "# Load the data\n",
       "world_loans = gpd.read_file(loans_filepath)\n",
       "\n",
       "```"
      ],
      "text/plain": [
       "Solution: \n",
       "```python\n",
       "# Load the data\n",
       "world_loans = gpd.read_file(loans_filepath)\n",
       "\n",
       "```"
      ]
     },
     "metadata": {},
     "output_type": "display_data"
    }
   ],
   "source": [
    "# Lines below will give you a hint or solution code\n",
    "q_1.hint()\n",
    "q_1.solution()"
   ]
  },
  {
   "cell_type": "markdown",
   "id": "da4150cb",
   "metadata": {
    "papermill": {
     "duration": 0.006991,
     "end_time": "2023-04-04T03:04:34.894220",
     "exception": false,
     "start_time": "2023-04-04T03:04:34.887229",
     "status": "completed"
    },
    "tags": []
   },
   "source": [
    "### 2) Plot the data.\n",
    "\n",
    "Run the next code cell without changes to load a GeoDataFrame `world` containing country boundaries."
   ]
  },
  {
   "cell_type": "code",
   "execution_count": 4,
   "id": "b23521b5",
   "metadata": {
    "execution": {
     "iopub.execute_input": "2023-04-04T03:04:34.910637Z",
     "iopub.status.busy": "2023-04-04T03:04:34.910158Z",
     "iopub.status.idle": "2023-04-04T03:04:35.016348Z",
     "shell.execute_reply": "2023-04-04T03:04:35.014682Z"
    },
    "papermill": {
     "duration": 0.118028,
     "end_time": "2023-04-04T03:04:35.019427",
     "exception": false,
     "start_time": "2023-04-04T03:04:34.901399",
     "status": "completed"
    },
    "tags": []
   },
   "outputs": [
    {
     "data": {
      "text/html": [
       "<div>\n",
       "<style scoped>\n",
       "    .dataframe tbody tr th:only-of-type {\n",
       "        vertical-align: middle;\n",
       "    }\n",
       "\n",
       "    .dataframe tbody tr th {\n",
       "        vertical-align: top;\n",
       "    }\n",
       "\n",
       "    .dataframe thead th {\n",
       "        text-align: right;\n",
       "    }\n",
       "</style>\n",
       "<table border=\"1\" class=\"dataframe\">\n",
       "  <thead>\n",
       "    <tr style=\"text-align: right;\">\n",
       "      <th></th>\n",
       "      <th>pop_est</th>\n",
       "      <th>continent</th>\n",
       "      <th>name</th>\n",
       "      <th>iso_a3</th>\n",
       "      <th>gdp_md_est</th>\n",
       "      <th>geometry</th>\n",
       "    </tr>\n",
       "  </thead>\n",
       "  <tbody>\n",
       "    <tr>\n",
       "      <th>0</th>\n",
       "      <td>920938</td>\n",
       "      <td>Oceania</td>\n",
       "      <td>Fiji</td>\n",
       "      <td>FJI</td>\n",
       "      <td>8374.0</td>\n",
       "      <td>MULTIPOLYGON (((180.00000 -16.06713, 180.00000...</td>\n",
       "    </tr>\n",
       "    <tr>\n",
       "      <th>1</th>\n",
       "      <td>53950935</td>\n",
       "      <td>Africa</td>\n",
       "      <td>Tanzania</td>\n",
       "      <td>TZA</td>\n",
       "      <td>150600.0</td>\n",
       "      <td>POLYGON ((33.90371 -0.95000, 34.07262 -1.05982...</td>\n",
       "    </tr>\n",
       "    <tr>\n",
       "      <th>2</th>\n",
       "      <td>603253</td>\n",
       "      <td>Africa</td>\n",
       "      <td>W. Sahara</td>\n",
       "      <td>ESH</td>\n",
       "      <td>906.5</td>\n",
       "      <td>POLYGON ((-8.66559 27.65643, -8.66512 27.58948...</td>\n",
       "    </tr>\n",
       "    <tr>\n",
       "      <th>3</th>\n",
       "      <td>35623680</td>\n",
       "      <td>North America</td>\n",
       "      <td>Canada</td>\n",
       "      <td>CAN</td>\n",
       "      <td>1674000.0</td>\n",
       "      <td>MULTIPOLYGON (((-122.84000 49.00000, -122.9742...</td>\n",
       "    </tr>\n",
       "    <tr>\n",
       "      <th>4</th>\n",
       "      <td>326625791</td>\n",
       "      <td>North America</td>\n",
       "      <td>United States of America</td>\n",
       "      <td>USA</td>\n",
       "      <td>18560000.0</td>\n",
       "      <td>MULTIPOLYGON (((-122.84000 49.00000, -120.0000...</td>\n",
       "    </tr>\n",
       "  </tbody>\n",
       "</table>\n",
       "</div>"
      ],
      "text/plain": [
       "     pop_est      continent                      name iso_a3  gdp_md_est  \\\n",
       "0     920938        Oceania                      Fiji    FJI      8374.0   \n",
       "1   53950935         Africa                  Tanzania    TZA    150600.0   \n",
       "2     603253         Africa                 W. Sahara    ESH       906.5   \n",
       "3   35623680  North America                    Canada    CAN   1674000.0   \n",
       "4  326625791  North America  United States of America    USA  18560000.0   \n",
       "\n",
       "                                            geometry  \n",
       "0  MULTIPOLYGON (((180.00000 -16.06713, 180.00000...  \n",
       "1  POLYGON ((33.90371 -0.95000, 34.07262 -1.05982...  \n",
       "2  POLYGON ((-8.66559 27.65643, -8.66512 27.58948...  \n",
       "3  MULTIPOLYGON (((-122.84000 49.00000, -122.9742...  \n",
       "4  MULTIPOLYGON (((-122.84000 49.00000, -120.0000...  "
      ]
     },
     "execution_count": 4,
     "metadata": {},
     "output_type": "execute_result"
    }
   ],
   "source": [
    "# This dataset is provided in GeoPandas\n",
    "world_filepath = gpd.datasets.get_path('naturalearth_lowres')\n",
    "world = gpd.read_file(world_filepath)\n",
    "world.head()"
   ]
  },
  {
   "cell_type": "code",
   "execution_count": 5,
   "id": "7e428823",
   "metadata": {
    "execution": {
     "iopub.execute_input": "2023-04-04T03:04:35.036496Z",
     "iopub.status.busy": "2023-04-04T03:04:35.036023Z",
     "iopub.status.idle": "2023-04-04T03:04:35.060745Z",
     "shell.execute_reply": "2023-04-04T03:04:35.059477Z"
    },
    "papermill": {
     "duration": 0.037555,
     "end_time": "2023-04-04T03:04:35.064562",
     "exception": false,
     "start_time": "2023-04-04T03:04:35.027007",
     "status": "completed"
    },
    "tags": []
   },
   "outputs": [
    {
     "data": {
      "text/html": [
       "<div>\n",
       "<style scoped>\n",
       "    .dataframe tbody tr th:only-of-type {\n",
       "        vertical-align: middle;\n",
       "    }\n",
       "\n",
       "    .dataframe tbody tr th {\n",
       "        vertical-align: top;\n",
       "    }\n",
       "\n",
       "    .dataframe thead th {\n",
       "        text-align: right;\n",
       "    }\n",
       "</style>\n",
       "<table border=\"1\" class=\"dataframe\">\n",
       "  <thead>\n",
       "    <tr style=\"text-align: right;\">\n",
       "      <th></th>\n",
       "      <th>Partner ID</th>\n",
       "      <th>Field Part</th>\n",
       "      <th>sector</th>\n",
       "      <th>Loan Theme</th>\n",
       "      <th>country</th>\n",
       "      <th>amount</th>\n",
       "      <th>geometry</th>\n",
       "    </tr>\n",
       "  </thead>\n",
       "  <tbody>\n",
       "    <tr>\n",
       "      <th>0</th>\n",
       "      <td>9</td>\n",
       "      <td>KREDIT Microfinance Institution</td>\n",
       "      <td>General Financial Inclusion</td>\n",
       "      <td>Higher Education</td>\n",
       "      <td>Cambodia</td>\n",
       "      <td>450</td>\n",
       "      <td>POINT (102.89751 13.66726)</td>\n",
       "    </tr>\n",
       "    <tr>\n",
       "      <th>1</th>\n",
       "      <td>9</td>\n",
       "      <td>KREDIT Microfinance Institution</td>\n",
       "      <td>General Financial Inclusion</td>\n",
       "      <td>Vulnerable Populations</td>\n",
       "      <td>Cambodia</td>\n",
       "      <td>20275</td>\n",
       "      <td>POINT (102.98962 13.02870)</td>\n",
       "    </tr>\n",
       "    <tr>\n",
       "      <th>2</th>\n",
       "      <td>9</td>\n",
       "      <td>KREDIT Microfinance Institution</td>\n",
       "      <td>General Financial Inclusion</td>\n",
       "      <td>Higher Education</td>\n",
       "      <td>Cambodia</td>\n",
       "      <td>9150</td>\n",
       "      <td>POINT (102.98962 13.02870)</td>\n",
       "    </tr>\n",
       "    <tr>\n",
       "      <th>3</th>\n",
       "      <td>9</td>\n",
       "      <td>KREDIT Microfinance Institution</td>\n",
       "      <td>General Financial Inclusion</td>\n",
       "      <td>Vulnerable Populations</td>\n",
       "      <td>Cambodia</td>\n",
       "      <td>604950</td>\n",
       "      <td>POINT (105.31312 12.09829)</td>\n",
       "    </tr>\n",
       "    <tr>\n",
       "      <th>4</th>\n",
       "      <td>9</td>\n",
       "      <td>KREDIT Microfinance Institution</td>\n",
       "      <td>General Financial Inclusion</td>\n",
       "      <td>Sanitation</td>\n",
       "      <td>Cambodia</td>\n",
       "      <td>275</td>\n",
       "      <td>POINT (105.31312 12.09829)</td>\n",
       "    </tr>\n",
       "  </tbody>\n",
       "</table>\n",
       "</div>"
      ],
      "text/plain": [
       "   Partner ID                       Field Part                       sector  \\\n",
       "0           9  KREDIT Microfinance Institution  General Financial Inclusion   \n",
       "1           9  KREDIT Microfinance Institution  General Financial Inclusion   \n",
       "2           9  KREDIT Microfinance Institution  General Financial Inclusion   \n",
       "3           9  KREDIT Microfinance Institution  General Financial Inclusion   \n",
       "4           9  KREDIT Microfinance Institution  General Financial Inclusion   \n",
       "\n",
       "               Loan Theme   country  amount                    geometry  \n",
       "0        Higher Education  Cambodia     450  POINT (102.89751 13.66726)  \n",
       "1  Vulnerable Populations  Cambodia   20275  POINT (102.98962 13.02870)  \n",
       "2        Higher Education  Cambodia    9150  POINT (102.98962 13.02870)  \n",
       "3  Vulnerable Populations  Cambodia  604950  POINT (105.31312 12.09829)  \n",
       "4              Sanitation  Cambodia     275  POINT (105.31312 12.09829)  "
      ]
     },
     "execution_count": 5,
     "metadata": {},
     "output_type": "execute_result"
    }
   ],
   "source": [
    "world_loans.head()"
   ]
  },
  {
   "cell_type": "markdown",
   "id": "9647e519",
   "metadata": {
    "papermill": {
     "duration": 0.013599,
     "end_time": "2023-04-04T03:04:35.088908",
     "exception": false,
     "start_time": "2023-04-04T03:04:35.075309",
     "status": "completed"
    },
    "tags": []
   },
   "source": [
    "Use the `world` and `world_loans` GeoDataFrames to visualize Kiva loan locations across the world."
   ]
  },
  {
   "cell_type": "code",
   "execution_count": 6,
   "id": "f09f0280",
   "metadata": {
    "execution": {
     "iopub.execute_input": "2023-04-04T03:04:35.112985Z",
     "iopub.status.busy": "2023-04-04T03:04:35.112300Z",
     "iopub.status.idle": "2023-04-04T03:04:37.804256Z",
     "shell.execute_reply": "2023-04-04T03:04:37.802905Z"
    },
    "papermill": {
     "duration": 2.705823,
     "end_time": "2023-04-04T03:04:37.807852",
     "exception": false,
     "start_time": "2023-04-04T03:04:35.102029",
     "status": "completed"
    },
    "tags": []
   },
   "outputs": [
    {
     "data": {
      "text/plain": [
       "<AxesSubplot:>"
      ]
     },
     "execution_count": 6,
     "metadata": {},
     "output_type": "execute_result"
    },
    {
     "data": {
      "image/png": "[encoded data removed]",
      "text/plain": [
       "<Figure size 1000x1000 with 1 Axes>"
      ]
     },
     "metadata": {},
     "output_type": "display_data"
    }
   ],
   "source": [
    "# Your code here\n",
    "\n",
    "\n",
    "ax = world.plot(figsize = (10,10))\n",
    "world_loans.plot(color = 'lightgreen', markersize=2, ax = ax)\n",
    "\n",
    "\n",
    "# Uncomment to see a hint\n",
    "#q_2.hint()"
   ]
  },
  {
   "cell_type": "code",
   "execution_count": 7,
   "id": "bfd6c28e",
   "metadata": {
    "execution": {
     "iopub.execute_input": "2023-04-04T03:04:37.829217Z",
     "iopub.status.busy": "2023-04-04T03:04:37.828783Z",
     "iopub.status.idle": "2023-04-04T03:04:37.845460Z",
     "shell.execute_reply": "2023-04-04T03:04:37.844104Z"
    },
    "papermill": {
     "duration": 0.029787,
     "end_time": "2023-04-04T03:04:37.847888",
     "exception": false,
     "start_time": "2023-04-04T03:04:37.818101",
     "status": "completed"
    },
    "tags": []
   },
   "outputs": [
    {
     "data": {
      "application/javascript": [
       "parent.postMessage({\"jupyterEvent\": \"custom.exercise_interaction\", \"data\": {\"outcomeType\": 1, \"valueTowardsCompletion\": 0.3333333333333333, \"interactionType\": 1, \"questionType\": 2, \"questionId\": \"2_Q2\", \"learnToolsVersion\": \"0.3.4\", \"failureMessage\": \"\", \"exceptionClass\": \"\", \"trace\": \"\"}}, \"*\")"
      ],
      "text/plain": [
       "<IPython.core.display.Javascript object>"
      ]
     },
     "metadata": {},
     "output_type": "display_data"
    },
    {
     "data": {
      "text/markdown": [
       "<span style=\"color:#33cc33\">Thank you for creating a map!</span>"
      ],
      "text/plain": [
       "Thank you for creating a map!"
      ]
     },
     "metadata": {},
     "output_type": "display_data"
    },
    {
     "data": {
      "application/javascript": [
       "parent.postMessage({\"jupyterEvent\": \"custom.exercise_interaction\", \"data\": {\"interactionType\": 3, \"questionType\": 2, \"questionId\": \"2_Q2\", \"learnToolsVersion\": \"0.3.4\", \"valueTowardsCompletion\": 0.0, \"failureMessage\": \"\", \"exceptionClass\": \"\", \"trace\": \"\", \"outcomeType\": 4}}, \"*\")"
      ],
      "text/plain": [
       "<IPython.core.display.Javascript object>"
      ]
     },
     "metadata": {},
     "output_type": "display_data"
    },
    {
     "data": {
      "text/markdown": [
       "<span style=\"color:#33cc99\">Solution:</span> \n",
       "```python\n",
       "ax = world.plot(figsize=(20,20), color='whitesmoke', linestyle=':', edgecolor='black')\n",
       "world_loans.plot(ax=ax, markersize=2)\n",
       "\n",
       "```"
      ],
      "text/plain": [
       "Solution: \n",
       "```python\n",
       "ax = world.plot(figsize=(20,20), color='whitesmoke', linestyle=':', edgecolor='black')\n",
       "world_loans.plot(ax=ax, markersize=2)\n",
       "\n",
       "```"
      ]
     },
     "metadata": {},
     "output_type": "display_data"
    }
   ],
   "source": [
    "# Get credit for your work after you have created a map\n",
    "q_2.check()\n",
    "\n",
    "# Uncomment to see our solution (your code may look different!)\n",
    "q_2.solution()"
   ]
  },
  {
   "cell_type": "markdown",
   "id": "edf3c965",
   "metadata": {
    "papermill": {
     "duration": 0.009456,
     "end_time": "2023-04-04T03:04:37.866907",
     "exception": false,
     "start_time": "2023-04-04T03:04:37.857451",
     "status": "completed"
    },
    "tags": []
   },
   "source": [
    "### 3) Select loans based in the Philippines.\n",
    "\n",
    "Next, you'll focus on loans that are based in the Philippines.  Use the next code cell to create a GeoDataFrame `PHL_loans` which contains all rows from `world_loans` with loans that are based in the Philippines."
   ]
  },
  {
   "cell_type": "code",
   "execution_count": 8,
   "id": "7500d926",
   "metadata": {
    "execution": {
     "iopub.execute_input": "2023-04-04T03:04:37.888007Z",
     "iopub.status.busy": "2023-04-04T03:04:37.887533Z",
     "iopub.status.idle": "2023-04-04T03:04:38.352442Z",
     "shell.execute_reply": "2023-04-04T03:04:38.351007Z"
    },
    "papermill": {
     "duration": 0.478425,
     "end_time": "2023-04-04T03:04:38.355025",
     "exception": false,
     "start_time": "2023-04-04T03:04:37.876600",
     "status": "completed"
    },
    "tags": []
   },
   "outputs": [
    {
     "data": {
      "application/javascript": [
       "parent.postMessage({\"jupyterEvent\": \"custom.exercise_interaction\", \"data\": {\"outcomeType\": 1, \"valueTowardsCompletion\": 0.3333333333333333, \"interactionType\": 1, \"questionType\": 2, \"questionId\": \"3_Q3\", \"learnToolsVersion\": \"0.3.4\", \"failureMessage\": \"\", \"exceptionClass\": \"\", \"trace\": \"\"}}, \"*\")"
      ],
      "text/plain": [
       "<IPython.core.display.Javascript object>"
      ]
     },
     "metadata": {},
     "output_type": "display_data"
    },
    {
     "data": {
      "text/markdown": [
       "<span style=\"color:#33cc33\">Correct</span>"
      ],
      "text/plain": [
       "Correct"
      ]
     },
     "metadata": {},
     "output_type": "display_data"
    }
   ],
   "source": [
    "# Your code here\n",
    "PHL_loans = world_loans.loc[world_loans.country.isin(['Philippines'])]\n",
    "\n",
    "# Check your answer\n",
    "q_3.check()"
   ]
  },
  {
   "cell_type": "code",
   "execution_count": 9,
   "id": "cc08ecf4",
   "metadata": {
    "execution": {
     "iopub.execute_input": "2023-04-04T03:04:38.377456Z",
     "iopub.status.busy": "2023-04-04T03:04:38.376257Z",
     "iopub.status.idle": "2023-04-04T03:04:38.398135Z",
     "shell.execute_reply": "2023-04-04T03:04:38.396754Z"
    },
    "papermill": {
     "duration": 0.036368,
     "end_time": "2023-04-04T03:04:38.401293",
     "exception": false,
     "start_time": "2023-04-04T03:04:38.364925",
     "status": "completed"
    },
    "tags": []
   },
   "outputs": [
    {
     "data": {
      "text/html": [
       "<div>\n",
       "<style scoped>\n",
       "    .dataframe tbody tr th:only-of-type {\n",
       "        vertical-align: middle;\n",
       "    }\n",
       "\n",
       "    .dataframe tbody tr th {\n",
       "        vertical-align: top;\n",
       "    }\n",
       "\n",
       "    .dataframe thead th {\n",
       "        text-align: right;\n",
       "    }\n",
       "</style>\n",
       "<table border=\"1\" class=\"dataframe\">\n",
       "  <thead>\n",
       "    <tr style=\"text-align: right;\">\n",
       "      <th></th>\n",
       "      <th>Partner ID</th>\n",
       "      <th>Field Part</th>\n",
       "      <th>sector</th>\n",
       "      <th>Loan Theme</th>\n",
       "      <th>country</th>\n",
       "      <th>amount</th>\n",
       "      <th>geometry</th>\n",
       "    </tr>\n",
       "  </thead>\n",
       "  <tbody>\n",
       "    <tr>\n",
       "      <th>2859</th>\n",
       "      <td>123</td>\n",
       "      <td>Alalay sa Kaunlaran (ASKI)</td>\n",
       "      <td>General Financial Inclusion</td>\n",
       "      <td>General</td>\n",
       "      <td>Philippines</td>\n",
       "      <td>400</td>\n",
       "      <td>POINT (121.73961 17.64228)</td>\n",
       "    </tr>\n",
       "    <tr>\n",
       "      <th>2860</th>\n",
       "      <td>123</td>\n",
       "      <td>Alalay sa Kaunlaran (ASKI)</td>\n",
       "      <td>General Financial Inclusion</td>\n",
       "      <td>General</td>\n",
       "      <td>Philippines</td>\n",
       "      <td>400</td>\n",
       "      <td>POINT (121.74169 17.63235)</td>\n",
       "    </tr>\n",
       "    <tr>\n",
       "      <th>2861</th>\n",
       "      <td>123</td>\n",
       "      <td>Alalay sa Kaunlaran (ASKI)</td>\n",
       "      <td>General Financial Inclusion</td>\n",
       "      <td>General</td>\n",
       "      <td>Philippines</td>\n",
       "      <td>400</td>\n",
       "      <td>POINT (121.46667 16.60000)</td>\n",
       "    </tr>\n",
       "    <tr>\n",
       "      <th>2862</th>\n",
       "      <td>123</td>\n",
       "      <td>Alalay sa Kaunlaran (ASKI)</td>\n",
       "      <td>General Financial Inclusion</td>\n",
       "      <td>General</td>\n",
       "      <td>Philippines</td>\n",
       "      <td>6050</td>\n",
       "      <td>POINT (121.73333 17.83333)</td>\n",
       "    </tr>\n",
       "    <tr>\n",
       "      <th>2863</th>\n",
       "      <td>123</td>\n",
       "      <td>Alalay sa Kaunlaran (ASKI)</td>\n",
       "      <td>General Financial Inclusion</td>\n",
       "      <td>General</td>\n",
       "      <td>Philippines</td>\n",
       "      <td>625</td>\n",
       "      <td>POINT (121.51800 16.72368)</td>\n",
       "    </tr>\n",
       "  </tbody>\n",
       "</table>\n",
       "</div>"
      ],
      "text/plain": [
       "      Partner ID                  Field Part                       sector  \\\n",
       "2859         123  Alalay sa Kaunlaran (ASKI)  General Financial Inclusion   \n",
       "2860         123  Alalay sa Kaunlaran (ASKI)  General Financial Inclusion   \n",
       "2861         123  Alalay sa Kaunlaran (ASKI)  General Financial Inclusion   \n",
       "2862         123  Alalay sa Kaunlaran (ASKI)  General Financial Inclusion   \n",
       "2863         123  Alalay sa Kaunlaran (ASKI)  General Financial Inclusion   \n",
       "\n",
       "     Loan Theme      country  amount                    geometry  \n",
       "2859    General  Philippines     400  POINT (121.73961 17.64228)  \n",
       "2860    General  Philippines     400  POINT (121.74169 17.63235)  \n",
       "2861    General  Philippines     400  POINT (121.46667 16.60000)  \n",
       "2862    General  Philippines    6050  POINT (121.73333 17.83333)  \n",
       "2863    General  Philippines     625  POINT (121.51800 16.72368)  "
      ]
     },
     "execution_count": 9,
     "metadata": {},
     "output_type": "execute_result"
    }
   ],
   "source": [
    "PHL_loans.head()"
   ]
  },
  {
   "cell_type": "code",
   "execution_count": 10,
   "id": "3676db9c",
   "metadata": {
    "execution": {
     "iopub.execute_input": "2023-04-04T03:04:38.423773Z",
     "iopub.status.busy": "2023-04-04T03:04:38.423269Z",
     "iopub.status.idle": "2023-04-04T03:04:38.438021Z",
     "shell.execute_reply": "2023-04-04T03:04:38.436804Z"
    },
    "papermill": {
     "duration": 0.029234,
     "end_time": "2023-04-04T03:04:38.440791",
     "exception": false,
     "start_time": "2023-04-04T03:04:38.411557",
     "status": "completed"
    },
    "tags": []
   },
   "outputs": [
    {
     "data": {
      "application/javascript": [
       "parent.postMessage({\"jupyterEvent\": \"custom.exercise_interaction\", \"data\": {\"interactionType\": 2, \"questionType\": 2, \"questionId\": \"3_Q3\", \"learnToolsVersion\": \"0.3.4\", \"valueTowardsCompletion\": 0.0, \"failureMessage\": \"\", \"exceptionClass\": \"\", \"trace\": \"\", \"outcomeType\": 4}}, \"*\")"
      ],
      "text/plain": [
       "<IPython.core.display.Javascript object>"
      ]
     },
     "metadata": {},
     "output_type": "display_data"
    },
    {
     "data": {
      "text/markdown": [
       "<span style=\"color:#3366cc\">Hint:</span> Check out [this tutorial](https://www.kaggle.com/residentmario/indexing-selecting-assigning/), if you need to review conditional selection for DataFrames (and GeoDataFrames)."
      ],
      "text/plain": [
       "Hint: Check out [this tutorial](https://www.kaggle.com/residentmario/indexing-selecting-assigning/), if you need to review conditional selection for DataFrames (and GeoDataFrames)."
      ]
     },
     "metadata": {},
     "output_type": "display_data"
    },
    {
     "data": {
      "application/javascript": [
       "parent.postMessage({\"jupyterEvent\": \"custom.exercise_interaction\", \"data\": {\"interactionType\": 3, \"questionType\": 2, \"questionId\": \"3_Q3\", \"learnToolsVersion\": \"0.3.4\", \"valueTowardsCompletion\": 0.0, \"failureMessage\": \"\", \"exceptionClass\": \"\", \"trace\": \"\", \"outcomeType\": 4}}, \"*\")"
      ],
      "text/plain": [
       "<IPython.core.display.Javascript object>"
      ]
     },
     "metadata": {},
     "output_type": "display_data"
    },
    {
     "data": {
      "text/markdown": [
       "<span style=\"color:#33cc99\">Solution:</span> \n",
       "```python\n",
       "PHL_loans = world_loans.loc[world_loans.country==\"Philippines\"].copy()\n",
       "\n",
       "```"
      ],
      "text/plain": [
       "Solution: \n",
       "```python\n",
       "PHL_loans = world_loans.loc[world_loans.country==\"Philippines\"].copy()\n",
       "\n",
       "```"
      ]
     },
     "metadata": {},
     "output_type": "display_data"
    }
   ],
   "source": [
    "# Lines below will give you a hint or solution code\n",
    "q_3.hint()\n",
    "q_3.solution()"
   ]
  },
  {
   "cell_type": "markdown",
   "id": "aeb157d8",
   "metadata": {
    "papermill": {
     "duration": 0.010203,
     "end_time": "2023-04-04T03:04:38.461587",
     "exception": false,
     "start_time": "2023-04-04T03:04:38.451384",
     "status": "completed"
    },
    "tags": []
   },
   "source": [
    "### 4) Understand loans in the Philippines.\n",
    "\n",
    "Run the next code cell without changes to load a GeoDataFrame `PHL` containing boundaries for all islands in the Philippines."
   ]
  },
  {
   "cell_type": "code",
   "execution_count": 11,
   "id": "5a34fe5d",
   "metadata": {
    "execution": {
     "iopub.execute_input": "2023-04-04T03:04:38.484495Z",
     "iopub.status.busy": "2023-04-04T03:04:38.484026Z",
     "iopub.status.idle": "2023-04-04T03:04:43.546882Z",
     "shell.execute_reply": "2023-04-04T03:04:43.545533Z"
    },
    "papermill": {
     "duration": 5.077881,
     "end_time": "2023-04-04T03:04:43.549837",
     "exception": false,
     "start_time": "2023-04-04T03:04:38.471956",
     "status": "completed"
    },
    "tags": []
   },
   "outputs": [
    {
     "data": {
      "text/html": [
       "<div>\n",
       "<style scoped>\n",
       "    .dataframe tbody tr th:only-of-type {\n",
       "        vertical-align: middle;\n",
       "    }\n",
       "\n",
       "    .dataframe tbody tr th {\n",
       "        vertical-align: top;\n",
       "    }\n",
       "\n",
       "    .dataframe thead th {\n",
       "        text-align: right;\n",
       "    }\n",
       "</style>\n",
       "<table border=\"1\" class=\"dataframe\">\n",
       "  <thead>\n",
       "    <tr style=\"text-align: right;\">\n",
       "      <th></th>\n",
       "      <th>Name</th>\n",
       "      <th>Description</th>\n",
       "      <th>geometry</th>\n",
       "    </tr>\n",
       "  </thead>\n",
       "  <tbody>\n",
       "    <tr>\n",
       "      <th>0</th>\n",
       "      <td>Autonomous Region in Muslim Mindanao</td>\n",
       "      <td></td>\n",
       "      <td>MULTIPOLYGON (((119.46690 4.58718, 119.46653 4...</td>\n",
       "    </tr>\n",
       "    <tr>\n",
       "      <th>1</th>\n",
       "      <td>Bicol Region</td>\n",
       "      <td></td>\n",
       "      <td>MULTIPOLYGON (((124.04577 11.57862, 124.04594 ...</td>\n",
       "    </tr>\n",
       "    <tr>\n",
       "      <th>2</th>\n",
       "      <td>Cagayan Valley</td>\n",
       "      <td></td>\n",
       "      <td>MULTIPOLYGON (((122.51581 17.04436, 122.51568 ...</td>\n",
       "    </tr>\n",
       "    <tr>\n",
       "      <th>3</th>\n",
       "      <td>Calabarzon</td>\n",
       "      <td></td>\n",
       "      <td>MULTIPOLYGON (((120.49202 14.05403, 120.49201 ...</td>\n",
       "    </tr>\n",
       "    <tr>\n",
       "      <th>4</th>\n",
       "      <td>Caraga</td>\n",
       "      <td></td>\n",
       "      <td>MULTIPOLYGON (((126.45401 8.24400, 126.45407 8...</td>\n",
       "    </tr>\n",
       "  </tbody>\n",
       "</table>\n",
       "</div>"
      ],
      "text/plain": [
       "                                   Name Description  \\\n",
       "0  Autonomous Region in Muslim Mindanao               \n",
       "1                          Bicol Region               \n",
       "2                        Cagayan Valley               \n",
       "3                            Calabarzon               \n",
       "4                                Caraga               \n",
       "\n",
       "                                            geometry  \n",
       "0  MULTIPOLYGON (((119.46690 4.58718, 119.46653 4...  \n",
       "1  MULTIPOLYGON (((124.04577 11.57862, 124.04594 ...  \n",
       "2  MULTIPOLYGON (((122.51581 17.04436, 122.51568 ...  \n",
       "3  MULTIPOLYGON (((120.49202 14.05403, 120.49201 ...  \n",
       "4  MULTIPOLYGON (((126.45401 8.24400, 126.45407 8...  "
      ]
     },
     "execution_count": 11,
     "metadata": {},
     "output_type": "execute_result"
    }
   ],
   "source": [
    "# Load a KML file containing island boundaries\n",
    "gpd.io.file.fiona.drvsupport.supported_drivers['KML'] = 'rw'\n",
    "PHL = gpd.read_file(\"../input/geospatial-learn-course-data/Philippines_AL258.kml\", driver='KML')\n",
    "PHL.head()"
   ]
  },
  {
   "cell_type": "markdown",
   "id": "bbd02e8f",
   "metadata": {
    "papermill": {
     "duration": 0.010983,
     "end_time": "2023-04-04T03:04:43.571852",
     "exception": false,
     "start_time": "2023-04-04T03:04:43.560869",
     "status": "completed"
    },
    "tags": []
   },
   "source": [
    "Use the `PHL` and `PHL_loans` GeoDataFrames to visualize loans in the Philippines."
   ]
  },
  {
   "cell_type": "code",
   "execution_count": 12,
   "id": "e7922954",
   "metadata": {
    "execution": {
     "iopub.execute_input": "2023-04-04T03:04:43.595984Z",
     "iopub.status.busy": "2023-04-04T03:04:43.595211Z",
     "iopub.status.idle": "2023-04-04T03:04:45.928046Z",
     "shell.execute_reply": "2023-04-04T03:04:45.926717Z"
    },
    "papermill": {
     "duration": 2.34821,
     "end_time": "2023-04-04T03:04:45.930906",
     "exception": false,
     "start_time": "2023-04-04T03:04:43.582696",
     "status": "completed"
    },
    "tags": []
   },
   "outputs": [
    {
     "data": {
      "text/plain": [
       "<AxesSubplot:>"
      ]
     },
     "execution_count": 12,
     "metadata": {},
     "output_type": "execute_result"
    },
    {
     "data": {
      "image/png": "[encoded data removed]",
      "text/plain": [
       "<Figure size 1000x700 with 1 Axes>"
      ]
     },
     "metadata": {},
     "output_type": "display_data"
    }
   ],
   "source": [
    "# Your code here\n",
    "\n",
    "ax = PHL.plot(figsize = (10,7))\n",
    "\n",
    "PHL_loans.plot(color = 'lightgreen', markersize = 2, ax = ax)\n",
    "\n",
    "# Uncomment to see a hint\n",
    "#q_4.a.hint()"
   ]
  },
  {
   "cell_type": "code",
   "execution_count": 13,
   "id": "515fb9f7",
   "metadata": {
    "execution": {
     "iopub.execute_input": "2023-04-04T03:04:45.956656Z",
     "iopub.status.busy": "2023-04-04T03:04:45.956216Z",
     "iopub.status.idle": "2023-04-04T03:04:45.970532Z",
     "shell.execute_reply": "2023-04-04T03:04:45.969299Z"
    },
    "papermill": {
     "duration": 0.030354,
     "end_time": "2023-04-04T03:04:45.973186",
     "exception": false,
     "start_time": "2023-04-04T03:04:45.942832",
     "status": "completed"
    },
    "tags": []
   },
   "outputs": [
    {
     "data": {
      "application/javascript": [
       "parent.postMessage({\"jupyterEvent\": \"custom.exercise_interaction\", \"data\": {\"outcomeType\": 1, \"valueTowardsCompletion\": 0.3333333333333333, \"interactionType\": 1, \"questionType\": 2, \"questionId\": \"4.1_Q4P\", \"learnToolsVersion\": \"0.3.4\", \"failureMessage\": \"\", \"exceptionClass\": \"\", \"trace\": \"\"}}, \"*\")"
      ],
      "text/plain": [
       "<IPython.core.display.Javascript object>"
      ]
     },
     "metadata": {},
     "output_type": "display_data"
    },
    {
     "data": {
      "text/markdown": [
       "<span style=\"color:#33cc33\">Thank you for creating a map!</span>"
      ],
      "text/plain": [
       "Thank you for creating a map!"
      ]
     },
     "metadata": {},
     "output_type": "display_data"
    },
    {
     "data": {
      "application/javascript": [
       "parent.postMessage({\"jupyterEvent\": \"custom.exercise_interaction\", \"data\": {\"interactionType\": 3, \"questionType\": 2, \"questionId\": \"4.1_Q4P\", \"learnToolsVersion\": \"0.3.4\", \"valueTowardsCompletion\": 0.0, \"failureMessage\": \"\", \"exceptionClass\": \"\", \"trace\": \"\", \"outcomeType\": 4}}, \"*\")"
      ],
      "text/plain": [
       "<IPython.core.display.Javascript object>"
      ]
     },
     "metadata": {},
     "output_type": "display_data"
    },
    {
     "data": {
      "text/markdown": [
       "<span style=\"color:#33cc99\">Solution:</span> \n",
       "```python\n",
       "ax = PHL.plot(figsize=(12,12), color='whitesmoke', linestyle=':', edgecolor='lightgray')\n",
       "PHL_loans.plot(ax=ax, markersize=2)\n",
       "\n",
       "```"
      ],
      "text/plain": [
       "Solution: \n",
       "```python\n",
       "ax = PHL.plot(figsize=(12,12), color='whitesmoke', linestyle=':', edgecolor='lightgray')\n",
       "PHL_loans.plot(ax=ax, markersize=2)\n",
       "\n",
       "```"
      ]
     },
     "metadata": {},
     "output_type": "display_data"
    }
   ],
   "source": [
    "# Get credit for your work after you have created a map\n",
    "q_4.a.check()\n",
    "\n",
    "# Uncomment to see our solution (your code may look different!)\n",
    "q_4.a.solution()"
   ]
  },
  {
   "cell_type": "markdown",
   "id": "67e007e9",
   "metadata": {
    "papermill": {
     "duration": 0.012953,
     "end_time": "2023-04-04T03:04:45.999287",
     "exception": false,
     "start_time": "2023-04-04T03:04:45.986334",
     "status": "completed"
    },
    "tags": []
   },
   "source": [
    "Can you identify any islands where it might be useful to recruit new Field Partners?  Do any islands currently look outside of Kiva's reach?\n",
    "\n",
    "You might find [this map](https://bit.ly/2U2G7x7) useful to answer the question."
   ]
  },
  {
   "cell_type": "code",
   "execution_count": 14,
   "id": "e18785e7",
   "metadata": {
    "execution": {
     "iopub.execute_input": "2023-04-04T03:04:46.026731Z",
     "iopub.status.busy": "2023-04-04T03:04:46.025743Z",
     "iopub.status.idle": "2023-04-04T03:04:46.036598Z",
     "shell.execute_reply": "2023-04-04T03:04:46.035381Z"
    },
    "papermill": {
     "duration": 0.0279,
     "end_time": "2023-04-04T03:04:46.039512",
     "exception": false,
     "start_time": "2023-04-04T03:04:46.011612",
     "status": "completed"
    },
    "tags": []
   },
   "outputs": [
    {
     "data": {
      "application/javascript": [
       "parent.postMessage({\"jupyterEvent\": \"custom.exercise_interaction\", \"data\": {\"interactionType\": 3, \"questionType\": 4, \"questionId\": \"4.2_Q4T\", \"learnToolsVersion\": \"0.3.4\", \"valueTowardsCompletion\": 0.0, \"failureMessage\": \"\", \"exceptionClass\": \"\", \"trace\": \"\", \"outcomeType\": 4}}, \"*\")"
      ],
      "text/plain": [
       "<IPython.core.display.Javascript object>"
      ]
     },
     "metadata": {},
     "output_type": "display_data"
    },
    {
     "data": {
      "text/markdown": [
       "<span style=\"color:#33cc99\">Solution:</span> There are a number of potential islands, but **Mindoro** (in the central part of the Philippines) stands out as a relatively large island without any loans in the current dataset.  This island is potentially a good location for recruiting new Field Partners!"
      ],
      "text/plain": [
       "Solution: There are a number of potential islands, but **Mindoro** (in the central part of the Philippines) stands out as a relatively large island without any loans in the current dataset.  This island is potentially a good location for recruiting new Field Partners!"
      ]
     },
     "metadata": {},
     "output_type": "display_data"
    }
   ],
   "source": [
    "# View the solution (Run this code cell to receive credit!)\n",
    "q_4.b.solution()"
   ]
  },
  {
   "cell_type": "markdown",
   "id": "85ce69f8",
   "metadata": {
    "papermill": {
     "duration": 0.017425,
     "end_time": "2023-04-04T03:04:46.077201",
     "exception": false,
     "start_time": "2023-04-04T03:04:46.059776",
     "status": "completed"
    },
    "tags": []
   },
   "source": [
    "# Keep going\n",
    "\n",
    "Continue to learn about **[coordinate reference systems](https://www.kaggle.com/alexisbcook/coordinate-reference-systems)**."
   ]
  },
  {
   "cell_type": "markdown",
   "id": "15b65ffd",
   "metadata": {
    "papermill": {
     "duration": 0.014318,
     "end_time": "2023-04-04T03:04:46.111814",
     "exception": false,
     "start_time": "2023-04-04T03:04:46.097496",
     "status": "completed"
    },
    "tags": []
   },
   "source": [
    "---\n",
    "\n",
    "\n",
    "\n",
    "\n",
    "*Have questions or comments? Visit the [course discussion forum](https://www.kaggle.com/learn/geospatial-analysis/discussion) to chat with other learners.*"
   ]
  }
 ],
 "metadata": {
  "kernelspec": {
   "display_name": "Python 3",
   "language": "python",
   "name": "python3"
  },
  "language_info": {
   "codemirror_mode": {
    "name": "ipython",
    "version": 3
   },
   "file_extension": ".py",
   "mimetype": "text/x-python",
   "name": "python",
   "nbconvert_exporter": "python",
   "pygments_lexer": "ipython3",
   "version": "3.7.12"
  },
  "papermill": {
   "default_parameters": {},
   "duration": 29.647662,
   "end_time": "2023-04-04T03:04:46.957990",
   "environment_variables": {},
   "exception": null,
   "input_path": "__notebook__.ipynb",
   "output_path": "__notebook__.ipynb",
   "parameters": {},
   "start_time": "2023-04-04T03:04:17.310328",
   "version": "2.4.0"
  }
 },
 "nbformat": 4,
 "nbformat_minor": 5
}
