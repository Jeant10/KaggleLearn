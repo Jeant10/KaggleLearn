{
 "cells": [
  {
   "cell_type": "markdown",
   "id": "96db25bf",
   "metadata": {
    "papermill": {
     "duration": 0.005532,
     "end_time": "2023-03-31T23:44:20.997495",
     "exception": false,
     "start_time": "2023-03-31T23:44:20.991963",
     "status": "completed"
    },
    "tags": []
   },
   "source": [
    "**This notebook is an exercise in the [Data Cleaning](https://www.kaggle.com/learn/data-cleaning) course.  You can reference the tutorial at [this link](https://www.kaggle.com/alexisbcook/character-encodings).**\n",
    "\n",
    "---\n"
   ]
  },
  {
   "cell_type": "markdown",
   "id": "aa6e6dcb",
   "metadata": {
    "papermill": {
     "duration": 0.003935,
     "end_time": "2023-03-31T23:44:21.005832",
     "exception": false,
     "start_time": "2023-03-31T23:44:21.001897",
     "status": "completed"
    },
    "tags": []
   },
   "source": [
    "In this exercise, you'll apply what you learned in the **Character encodings** tutorial.\n",
    "\n",
    "# Setup\n",
    "\n",
    "The questions below will give you feedback on your work. Run the following cell to set up the feedback system."
   ]
  },
  {
   "cell_type": "code",
   "execution_count": 1,
   "id": "5d8250ce",
   "metadata": {
    "execution": {
     "iopub.execute_input": "2023-03-31T23:44:21.016173Z",
     "iopub.status.busy": "2023-03-31T23:44:21.015781Z",
     "iopub.status.idle": "2023-03-31T23:44:21.101222Z",
     "shell.execute_reply": "2023-03-31T23:44:21.100045Z"
    },
    "papermill": {
     "duration": 0.093637,
     "end_time": "2023-03-31T23:44:21.103583",
     "exception": false,
     "start_time": "2023-03-31T23:44:21.009946",
     "status": "completed"
    },
    "tags": []
   },
   "outputs": [
    {
     "name": "stdout",
     "output_type": "stream",
     "text": [
      "Setup Complete\n"
     ]
    }
   ],
   "source": [
    "from learntools.core import binder\n",
    "binder.bind(globals())\n",
    "from learntools.data_cleaning.ex4 import *\n",
    "print(\"Setup Complete\")"
   ]
  },
  {
   "cell_type": "markdown",
   "id": "d9ba3219",
   "metadata": {
    "papermill": {
     "duration": 0.004114,
     "end_time": "2023-03-31T23:44:21.112262",
     "exception": false,
     "start_time": "2023-03-31T23:44:21.108148",
     "status": "completed"
    },
    "tags": []
   },
   "source": [
    "# Get our environment set up\n",
    "\n",
    "The first thing we'll need to do is load in the libraries we'll be using."
   ]
  },
  {
   "cell_type": "code",
   "execution_count": 2,
   "id": "69791bb0",
   "metadata": {
    "execution": {
     "iopub.execute_input": "2023-03-31T23:44:21.123318Z",
     "iopub.status.busy": "2023-03-31T23:44:21.122634Z",
     "iopub.status.idle": "2023-03-31T23:44:21.127251Z",
     "shell.execute_reply": "2023-03-31T23:44:21.126203Z"
    },
    "papermill": {
     "duration": 0.01292,
     "end_time": "2023-03-31T23:44:21.129578",
     "exception": false,
     "start_time": "2023-03-31T23:44:21.116658",
     "status": "completed"
    },
    "tags": []
   },
   "outputs": [],
   "source": [
    "# modules we'll use\n",
    "import pandas as pd\n",
    "import numpy as np\n",
    "\n",
    "# helpful character encoding module\n",
    "import charset_normalizer\n",
    "\n",
    "# set seed for reproducibility\n",
    "np.random.seed(0)"
   ]
  },
  {
   "cell_type": "markdown",
   "id": "62373a10",
   "metadata": {
    "papermill": {
     "duration": 0.004028,
     "end_time": "2023-03-31T23:44:21.138026",
     "exception": false,
     "start_time": "2023-03-31T23:44:21.133998",
     "status": "completed"
    },
    "tags": []
   },
   "source": [
    "# 1) What are encodings?\n",
    "\n",
    "You're working with a dataset composed of bytes.  Run the code cell below to print a sample entry."
   ]
  },
  {
   "cell_type": "code",
   "execution_count": 3,
   "id": "c5dd8ecd",
   "metadata": {
    "execution": {
     "iopub.execute_input": "2023-03-31T23:44:21.148382Z",
     "iopub.status.busy": "2023-03-31T23:44:21.148031Z",
     "iopub.status.idle": "2023-03-31T23:44:21.153905Z",
     "shell.execute_reply": "2023-03-31T23:44:21.152284Z"
    },
    "papermill": {
     "duration": 0.01353,
     "end_time": "2023-03-31T23:44:21.155835",
     "exception": false,
     "start_time": "2023-03-31T23:44:21.142305",
     "status": "completed"
    },
    "tags": []
   },
   "outputs": [
    {
     "name": "stdout",
     "output_type": "stream",
     "text": [
      "b'\\xa7A\\xa6n'\n",
      "data type: <class 'bytes'>\n"
     ]
    }
   ],
   "source": [
    "sample_entry = b'\\xa7A\\xa6n'\n",
    "print(sample_entry)\n",
    "print('data type:', type(sample_entry))"
   ]
  },
  {
   "cell_type": "markdown",
   "id": "faf79e2f",
   "metadata": {
    "papermill": {
     "duration": 0.004079,
     "end_time": "2023-03-31T23:44:21.164302",
     "exception": false,
     "start_time": "2023-03-31T23:44:21.160223",
     "status": "completed"
    },
    "tags": []
   },
   "source": [
    "You notice that it doesn't use the standard UTF-8 encoding. \n",
    "\n",
    "Use the next code cell to create a variable `new_entry` that changes the encoding from `\"big5-tw\"` to `\"utf-8\"`.  `new_entry` should have the bytes datatype."
   ]
  },
  {
   "cell_type": "code",
   "execution_count": 4,
   "id": "efd144ff",
   "metadata": {
    "execution": {
     "iopub.execute_input": "2023-03-31T23:44:21.174718Z",
     "iopub.status.busy": "2023-03-31T23:44:21.174321Z",
     "iopub.status.idle": "2023-03-31T23:44:21.183523Z",
     "shell.execute_reply": "2023-03-31T23:44:21.182588Z"
    },
    "papermill": {
     "duration": 0.017107,
     "end_time": "2023-03-31T23:44:21.185819",
     "exception": false,
     "start_time": "2023-03-31T23:44:21.168712",
     "status": "completed"
    },
    "tags": []
   },
   "outputs": [
    {
     "data": {
      "application/javascript": [
       "parent.postMessage({\"jupyterEvent\": \"custom.exercise_interaction\", \"data\": {\"outcomeType\": 1, \"valueTowardsCompletion\": 0.3333333333333333, \"interactionType\": 1, \"questionType\": 1, \"questionId\": \"1_EncodingsIntro\", \"learnToolsVersion\": \"0.3.4\", \"failureMessage\": \"\", \"exceptionClass\": \"\", \"trace\": \"\"}}, \"*\")"
      ],
      "text/plain": [
       "<IPython.core.display.Javascript object>"
      ]
     },
     "metadata": {},
     "output_type": "display_data"
    },
    {
     "data": {
      "text/markdown": [
       "<span style=\"color:#33cc33\">Correct</span>"
      ],
      "text/plain": [
       "Correct"
      ]
     },
     "metadata": {},
     "output_type": "display_data"
    }
   ],
   "source": [
    "before = sample_entry.decode(\"big5-tw\", errors=\"replace\")\n",
    "new_entry = before.encode(\"utf-8\")\n",
    "\n",
    "# Check your answer\n",
    "q1.check()"
   ]
  },
  {
   "cell_type": "code",
   "execution_count": 5,
   "id": "31be9f91",
   "metadata": {
    "execution": {
     "iopub.execute_input": "2023-03-31T23:44:21.196768Z",
     "iopub.status.busy": "2023-03-31T23:44:21.196403Z",
     "iopub.status.idle": "2023-03-31T23:44:21.210227Z",
     "shell.execute_reply": "2023-03-31T23:44:21.209058Z"
    },
    "papermill": {
     "duration": 0.022441,
     "end_time": "2023-03-31T23:44:21.212879",
     "exception": false,
     "start_time": "2023-03-31T23:44:21.190438",
     "status": "completed"
    },
    "tags": []
   },
   "outputs": [
    {
     "data": {
      "application/javascript": [
       "parent.postMessage({\"jupyterEvent\": \"custom.exercise_interaction\", \"data\": {\"interactionType\": 2, \"questionType\": 1, \"questionId\": \"1_EncodingsIntro\", \"learnToolsVersion\": \"0.3.4\", \"valueTowardsCompletion\": 0.0, \"failureMessage\": \"\", \"exceptionClass\": \"\", \"trace\": \"\", \"outcomeType\": 4}}, \"*\")"
      ],
      "text/plain": [
       "<IPython.core.display.Javascript object>"
      ]
     },
     "metadata": {},
     "output_type": "display_data"
    },
    {
     "data": {
      "text/markdown": [
       "<span style=\"color:#3366cc\">Hint:</span> Try using `.decode()` to get the string, then `.encode()` to get the bytes representation, encoded in UTF-8."
      ],
      "text/plain": [
       "Hint: Try using `.decode()` to get the string, then `.encode()` to get the bytes representation, encoded in UTF-8."
      ]
     },
     "metadata": {},
     "output_type": "display_data"
    },
    {
     "data": {
      "application/javascript": [
       "parent.postMessage({\"jupyterEvent\": \"custom.exercise_interaction\", \"data\": {\"interactionType\": 3, \"questionType\": 1, \"questionId\": \"1_EncodingsIntro\", \"learnToolsVersion\": \"0.3.4\", \"valueTowardsCompletion\": 0.0, \"failureMessage\": \"\", \"exceptionClass\": \"\", \"trace\": \"\", \"outcomeType\": 4}}, \"*\")"
      ],
      "text/plain": [
       "<IPython.core.display.Javascript object>"
      ]
     },
     "metadata": {},
     "output_type": "display_data"
    },
    {
     "data": {
      "text/markdown": [
       "<span style=\"color:#33cc99\">Solution:</span> \n",
       "```python\n",
       "before = sample_entry.decode(\"big5-tw\")\n",
       "new_entry = before.encode()\n",
       "\n",
       "```"
      ],
      "text/plain": [
       "Solution: \n",
       "```python\n",
       "before = sample_entry.decode(\"big5-tw\")\n",
       "new_entry = before.encode()\n",
       "\n",
       "```"
      ]
     },
     "metadata": {},
     "output_type": "display_data"
    }
   ],
   "source": [
    "# Lines below will give you a hint or solution code\n",
    "q1.hint()\n",
    "q1.solution()"
   ]
  },
  {
   "cell_type": "markdown",
   "id": "7dcac76f",
   "metadata": {
    "papermill": {
     "duration": 0.004831,
     "end_time": "2023-03-31T23:44:21.223035",
     "exception": false,
     "start_time": "2023-03-31T23:44:21.218204",
     "status": "completed"
    },
    "tags": []
   },
   "source": [
    "# 2) Reading in files with encoding problems\n",
    "\n",
    "Use the code cell below to read in this file at path `\"../input/fatal-police-shootings-in-the-us/PoliceKillingsUS.csv\"`.  \n",
    "\n",
    "Figure out what the correct encoding should be and read in the file to a DataFrame `police_killings`."
   ]
  },
  {
   "cell_type": "code",
   "execution_count": 6,
   "id": "2fa8685d",
   "metadata": {
    "execution": {
     "iopub.execute_input": "2023-03-31T23:44:21.235308Z",
     "iopub.status.busy": "2023-03-31T23:44:21.234935Z",
     "iopub.status.idle": "2023-03-31T23:44:21.258196Z",
     "shell.execute_reply": "2023-03-31T23:44:21.257206Z"
    },
    "papermill": {
     "duration": 0.032235,
     "end_time": "2023-03-31T23:44:21.260502",
     "exception": false,
     "start_time": "2023-03-31T23:44:21.228267",
     "status": "completed"
    },
    "tags": []
   },
   "outputs": [
    {
     "data": {
      "application/javascript": [
       "parent.postMessage({\"jupyterEvent\": \"custom.exercise_interaction\", \"data\": {\"outcomeType\": 1, \"valueTowardsCompletion\": 0.3333333333333333, \"interactionType\": 1, \"questionType\": 1, \"questionId\": \"2_ReadIn\", \"learnToolsVersion\": \"0.3.4\", \"failureMessage\": \"\", \"exceptionClass\": \"\", \"trace\": \"\"}}, \"*\")"
      ],
      "text/plain": [
       "<IPython.core.display.Javascript object>"
      ]
     },
     "metadata": {},
     "output_type": "display_data"
    },
    {
     "data": {
      "text/markdown": [
       "<span style=\"color:#33cc33\">Correct</span>"
      ],
      "text/plain": [
       "Correct"
      ]
     },
     "metadata": {},
     "output_type": "display_data"
    }
   ],
   "source": [
    "# TODO: Load in the DataFrame correctly.\n",
    "\n",
    "police_killings = pd.read_csv(\"../input/fatal-police-shootings-in-the-us/PoliceKillingsUS.csv\", encoding = 'windows-1250')\n",
    "\n",
    "# Check your answer\n",
    "q2.check()"
   ]
  },
  {
   "cell_type": "markdown",
   "id": "5b17ff19",
   "metadata": {
    "papermill": {
     "duration": 0.004994,
     "end_time": "2023-03-31T23:44:21.270987",
     "exception": false,
     "start_time": "2023-03-31T23:44:21.265993",
     "status": "completed"
    },
    "tags": []
   },
   "source": [
    "Feel free to use any additional code cells for supplemental work.  To get credit for finishing this question, you'll need to run `q2.check()` and get a result of **Correct**."
   ]
  },
  {
   "cell_type": "code",
   "execution_count": 7,
   "id": "c64d11fa",
   "metadata": {
    "execution": {
     "iopub.execute_input": "2023-03-31T23:44:21.283750Z",
     "iopub.status.busy": "2023-03-31T23:44:21.283348Z",
     "iopub.status.idle": "2023-03-31T23:44:21.595445Z",
     "shell.execute_reply": "2023-03-31T23:44:21.592933Z"
    },
    "papermill": {
     "duration": 0.32152,
     "end_time": "2023-03-31T23:44:21.598461",
     "exception": false,
     "start_time": "2023-03-31T23:44:21.276941",
     "status": "completed"
    },
    "tags": []
   },
   "outputs": [
    {
     "name": "stdout",
     "output_type": "stream",
     "text": [
      "{'encoding': 'windows-1250', 'language': 'English', 'confidence': 1.0}\n"
     ]
    }
   ],
   "source": [
    "# (Optional) Use this code cell for any additional work.\n",
    "\n",
    "with open(\"../input/fatal-police-shootings-in-the-us/PoliceKillingsUS.csv\", 'rb') as rawdata:\n",
    "    result = charset_normalizer.detect(rawdata.read(100000))\n",
    "\n",
    "print(result)"
   ]
  },
  {
   "cell_type": "code",
   "execution_count": 8,
   "id": "6a9f83cf",
   "metadata": {
    "execution": {
     "iopub.execute_input": "2023-03-31T23:44:21.611928Z",
     "iopub.status.busy": "2023-03-31T23:44:21.611503Z",
     "iopub.status.idle": "2023-03-31T23:44:21.622796Z",
     "shell.execute_reply": "2023-03-31T23:44:21.621652Z"
    },
    "papermill": {
     "duration": 0.020507,
     "end_time": "2023-03-31T23:44:21.625014",
     "exception": false,
     "start_time": "2023-03-31T23:44:21.604507",
     "status": "completed"
    },
    "tags": []
   },
   "outputs": [
    {
     "data": {
      "application/javascript": [
       "parent.postMessage({\"jupyterEvent\": \"custom.exercise_interaction\", \"data\": {\"interactionType\": 2, \"questionType\": 1, \"questionId\": \"2_ReadIn\", \"learnToolsVersion\": \"0.3.4\", \"valueTowardsCompletion\": 0.0, \"failureMessage\": \"\", \"exceptionClass\": \"\", \"trace\": \"\", \"outcomeType\": 4}}, \"*\")"
      ],
      "text/plain": [
       "<IPython.core.display.Javascript object>"
      ]
     },
     "metadata": {},
     "output_type": "display_data"
    },
    {
     "data": {
      "text/markdown": [
       "<span style=\"color:#3366cc\">Hint:</span> If you try to guess the encoding with the first 10,000 bytes of the file, it might give you the wrong answer.  Try using 100,000 or more lines of the file."
      ],
      "text/plain": [
       "Hint: If you try to guess the encoding with the first 10,000 bytes of the file, it might give you the wrong answer.  Try using 100,000 or more lines of the file."
      ]
     },
     "metadata": {},
     "output_type": "display_data"
    },
    {
     "data": {
      "application/javascript": [
       "parent.postMessage({\"jupyterEvent\": \"custom.exercise_interaction\", \"data\": {\"interactionType\": 3, \"questionType\": 1, \"questionId\": \"2_ReadIn\", \"learnToolsVersion\": \"0.3.4\", \"valueTowardsCompletion\": 0.0, \"failureMessage\": \"\", \"exceptionClass\": \"\", \"trace\": \"\", \"outcomeType\": 4}}, \"*\")"
      ],
      "text/plain": [
       "<IPython.core.display.Javascript object>"
      ]
     },
     "metadata": {},
     "output_type": "display_data"
    },
    {
     "data": {
      "text/markdown": [
       "<span style=\"color:#33cc99\">Solution:</span> \n",
       "```python\n",
       "police_killings = pd.read_csv(\"../input/fatal-police-shootings-in-the-us/PoliceKillingsUS.csv\", encoding='Windows-1252')\n",
       "\n",
       "```"
      ],
      "text/plain": [
       "Solution: \n",
       "```python\n",
       "police_killings = pd.read_csv(\"../input/fatal-police-shootings-in-the-us/PoliceKillingsUS.csv\", encoding='Windows-1252')\n",
       "\n",
       "```"
      ]
     },
     "metadata": {},
     "output_type": "display_data"
    }
   ],
   "source": [
    "# Lines below will give you a hint or solution code\n",
    "q2.hint()\n",
    "q2.solution()"
   ]
  },
  {
   "cell_type": "markdown",
   "id": "88efd6d3",
   "metadata": {
    "papermill": {
     "duration": 0.005629,
     "end_time": "2023-03-31T23:44:21.636560",
     "exception": false,
     "start_time": "2023-03-31T23:44:21.630931",
     "status": "completed"
    },
    "tags": []
   },
   "source": [
    "# 3) Saving your files with UTF-8 encoding\n",
    "\n",
    "Save a version of the police killings dataset to CSV with UTF-8 encoding.  Your answer will be marked correct after saving this file.  \n",
    "\n",
    "Note: When using the `to_csv()` method, supply only the name of the file (e.g., `\"my_file.csv\"`).  This saves the file at the filepath `\"/kaggle/working/my_file.csv\"`."
   ]
  },
  {
   "cell_type": "code",
   "execution_count": 9,
   "id": "f599b7cf",
   "metadata": {
    "execution": {
     "iopub.execute_input": "2023-03-31T23:44:21.650332Z",
     "iopub.status.busy": "2023-03-31T23:44:21.649928Z",
     "iopub.status.idle": "2023-03-31T23:44:21.680127Z",
     "shell.execute_reply": "2023-03-31T23:44:21.679183Z"
    },
    "papermill": {
     "duration": 0.039599,
     "end_time": "2023-03-31T23:44:21.682059",
     "exception": false,
     "start_time": "2023-03-31T23:44:21.642460",
     "status": "completed"
    },
    "tags": []
   },
   "outputs": [
    {
     "data": {
      "application/javascript": [
       "parent.postMessage({\"jupyterEvent\": \"custom.exercise_interaction\", \"data\": {\"outcomeType\": 1, \"valueTowardsCompletion\": 0.3333333333333333, \"interactionType\": 1, \"questionType\": 2, \"questionId\": \"3_SaveCSV\", \"learnToolsVersion\": \"0.3.4\", \"failureMessage\": \"\", \"exceptionClass\": \"\", \"trace\": \"\"}}, \"*\")"
      ],
      "text/plain": [
       "<IPython.core.display.Javascript object>"
      ]
     },
     "metadata": {},
     "output_type": "display_data"
    },
    {
     "data": {
      "text/markdown": [
       "<span style=\"color:#33cc33\">Correct</span>"
      ],
      "text/plain": [
       "Correct"
      ]
     },
     "metadata": {},
     "output_type": "display_data"
    }
   ],
   "source": [
    "# TODO: Save the police killings dataset to CSV\n",
    "police_killings.to_csv('my_file.csv')\n",
    "\n",
    "# Check your answer\n",
    "q3.check()"
   ]
  },
  {
   "cell_type": "code",
   "execution_count": 10,
   "id": "e9281d2e",
   "metadata": {
    "execution": {
     "iopub.execute_input": "2023-03-31T23:44:21.696082Z",
     "iopub.status.busy": "2023-03-31T23:44:21.695737Z",
     "iopub.status.idle": "2023-03-31T23:44:21.706895Z",
     "shell.execute_reply": "2023-03-31T23:44:21.706114Z"
    },
    "papermill": {
     "duration": 0.0205,
     "end_time": "2023-03-31T23:44:21.708752",
     "exception": false,
     "start_time": "2023-03-31T23:44:21.688252",
     "status": "completed"
    },
    "tags": []
   },
   "outputs": [
    {
     "data": {
      "application/javascript": [
       "parent.postMessage({\"jupyterEvent\": \"custom.exercise_interaction\", \"data\": {\"interactionType\": 2, \"questionType\": 2, \"questionId\": \"3_SaveCSV\", \"learnToolsVersion\": \"0.3.4\", \"valueTowardsCompletion\": 0.0, \"failureMessage\": \"\", \"exceptionClass\": \"\", \"trace\": \"\", \"outcomeType\": 4}}, \"*\")"
      ],
      "text/plain": [
       "<IPython.core.display.Javascript object>"
      ]
     },
     "metadata": {},
     "output_type": "display_data"
    },
    {
     "data": {
      "text/markdown": [
       "<span style=\"color:#3366cc\">Hint:</span> Use `.to_csv().`"
      ],
      "text/plain": [
       "Hint: Use `.to_csv().`"
      ]
     },
     "metadata": {},
     "output_type": "display_data"
    },
    {
     "data": {
      "application/javascript": [
       "parent.postMessage({\"jupyterEvent\": \"custom.exercise_interaction\", \"data\": {\"interactionType\": 3, \"questionType\": 2, \"questionId\": \"3_SaveCSV\", \"learnToolsVersion\": \"0.3.4\", \"valueTowardsCompletion\": 0.0, \"failureMessage\": \"\", \"exceptionClass\": \"\", \"trace\": \"\", \"outcomeType\": 4}}, \"*\")"
      ],
      "text/plain": [
       "<IPython.core.display.Javascript object>"
      ]
     },
     "metadata": {},
     "output_type": "display_data"
    },
    {
     "data": {
      "text/markdown": [
       "<span style=\"color:#33cc99\">Solution:</span> \n",
       "```python\n",
       "\n",
       "police_killings.to_csv(\"my_file.csv\")\n",
       "\n",
       "```"
      ],
      "text/plain": [
       "Solution: \n",
       "```python\n",
       "\n",
       "police_killings.to_csv(\"my_file.csv\")\n",
       "\n",
       "```"
      ]
     },
     "metadata": {},
     "output_type": "display_data"
    }
   ],
   "source": [
    "# Lines below will give you a hint or solution code\n",
    "q3.hint()\n",
    "q3.solution()"
   ]
  },
  {
   "cell_type": "markdown",
   "id": "58d8e081",
   "metadata": {
    "papermill": {
     "duration": 0.006049,
     "end_time": "2023-03-31T23:44:21.721301",
     "exception": false,
     "start_time": "2023-03-31T23:44:21.715252",
     "status": "completed"
    },
    "tags": []
   },
   "source": [
    "# (Optional) More practice\n",
    "\n",
    "Check out [this dataset of files in different character encodings](https://www.kaggle.com/rtatman/character-encoding-examples). Can you read in all the files with their original encodings and them save them out as UTF-8 files?\n",
    "\n",
    "If you have a file that's in UTF-8 but has just a couple of weird-looking characters in it, you can try out the [ftfy module](https://ftfy.readthedocs.io/en/latest/#) and see if it helps. \n",
    "\n",
    "# Keep going\n",
    "\n",
    "In the final lesson, learn how to [**clean up inconsistent text entries**](https://www.kaggle.com/alexisbcook/inconsistent-data-entry) in your dataset."
   ]
  },
  {
   "cell_type": "markdown",
   "id": "cbc32be2",
   "metadata": {
    "papermill": {
     "duration": 0.00608,
     "end_time": "2023-03-31T23:44:21.733824",
     "exception": false,
     "start_time": "2023-03-31T23:44:21.727744",
     "status": "completed"
    },
    "tags": []
   },
   "source": [
    "---\n",
    "\n",
    "\n",
    "\n",
    "\n",
    "*Have questions or comments? Visit the [course discussion forum](https://www.kaggle.com/learn/data-cleaning/discussion) to chat with other learners.*"
   ]
  }
 ],
 "metadata": {
  "kernelspec": {
   "display_name": "Python 3",
   "language": "python",
   "name": "python3"
  },
  "language_info": {
   "codemirror_mode": {
    "name": "ipython",
    "version": 3
   },
   "file_extension": ".py",
   "mimetype": "text/x-python",
   "name": "python",
   "nbconvert_exporter": "python",
   "pygments_lexer": "ipython3",
   "version": "3.7.12"
  },
  "papermill": {
   "default_parameters": {},
   "duration": 10.948828,
   "end_time": "2023-03-31T23:44:22.362014",
   "environment_variables": {},
   "exception": null,
   "input_path": "__notebook__.ipynb",
   "output_path": "__notebook__.ipynb",
   "parameters": {},
   "start_time": "2023-03-31T23:44:11.413186",
   "version": "2.4.0"
  }
 },
 "nbformat": 4,
 "nbformat_minor": 5
}
