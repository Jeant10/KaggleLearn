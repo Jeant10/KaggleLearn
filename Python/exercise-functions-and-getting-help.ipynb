{
 "cells": [
  {
   "cell_type": "markdown",
   "id": "f08dcc53",
   "metadata": {
    "papermill": {
     "duration": 0.005194,
     "end_time": "2023-03-20T20:05:13.799800",
     "exception": false,
     "start_time": "2023-03-20T20:05:13.794606",
     "status": "completed"
    },
    "tags": []
   },
   "source": [
    "**This notebook is an exercise in the [Python](https://www.kaggle.com/learn/python) course.  You can reference the tutorial at [this link](https://www.kaggle.com/colinmorris/functions-and-getting-help).**\n",
    "\n",
    "---\n"
   ]
  },
  {
   "cell_type": "markdown",
   "id": "326e0166",
   "metadata": {
    "papermill": {
     "duration": 0.003781,
     "end_time": "2023-03-20T20:05:13.807759",
     "exception": false,
     "start_time": "2023-03-20T20:05:13.803978",
     "status": "completed"
    },
    "tags": []
   },
   "source": [
    "Functions are powerful. Try writing some yourself.\n",
    "\n",
    "As before, don't forget to run the setup code below before jumping into question 1."
   ]
  },
  {
   "cell_type": "code",
   "execution_count": 1,
   "id": "b65db2c9",
   "metadata": {
    "_kg_hide-input": true,
    "_kg_hide-output": true,
    "execution": {
     "iopub.execute_input": "2023-03-20T20:05:13.817884Z",
     "iopub.status.busy": "2023-03-20T20:05:13.817493Z",
     "iopub.status.idle": "2023-03-20T20:05:13.870463Z",
     "shell.execute_reply": "2023-03-20T20:05:13.868972Z"
    },
    "papermill": {
     "duration": 0.061547,
     "end_time": "2023-03-20T20:05:13.873351",
     "exception": false,
     "start_time": "2023-03-20T20:05:13.811804",
     "status": "completed"
    },
    "tags": []
   },
   "outputs": [
    {
     "name": "stdout",
     "output_type": "stream",
     "text": [
      "Setup complete.\n"
     ]
    }
   ],
   "source": [
    "# SETUP. You don't need to worry for now about what this code does or how it works.\n",
    "from learntools.core import binder; binder.bind(globals())\n",
    "from learntools.python.ex2 import *\n",
    "print('Setup complete.')"
   ]
  },
  {
   "cell_type": "markdown",
   "id": "e39faf7d",
   "metadata": {
    "papermill": {
     "duration": 0.003884,
     "end_time": "2023-03-20T20:05:13.881460",
     "exception": false,
     "start_time": "2023-03-20T20:05:13.877576",
     "status": "completed"
    },
    "tags": []
   },
   "source": [
    "# 1.\n",
    "\n",
    "Complete the body of the following function according to its docstring.\n",
    "\n",
    "HINT: Python has a built-in function `round`."
   ]
  },
  {
   "cell_type": "code",
   "execution_count": 2,
   "id": "81c3c948",
   "metadata": {
    "execution": {
     "iopub.execute_input": "2023-03-20T20:05:13.891945Z",
     "iopub.status.busy": "2023-03-20T20:05:13.890667Z",
     "iopub.status.idle": "2023-03-20T20:05:13.903176Z",
     "shell.execute_reply": "2023-03-20T20:05:13.901457Z"
    },
    "papermill": {
     "duration": 0.020221,
     "end_time": "2023-03-20T20:05:13.905615",
     "exception": false,
     "start_time": "2023-03-20T20:05:13.885394",
     "status": "completed"
    },
    "tags": []
   },
   "outputs": [
    {
     "data": {
      "application/javascript": [
       "parent.postMessage({\"jupyterEvent\": \"custom.exercise_interaction\", \"data\": {\"outcomeType\": 1, \"valueTowardsCompletion\": 0.16666666666666666, \"interactionType\": 1, \"questionType\": 2, \"questionId\": \"1_RoundFunctionProblem\", \"learnToolsVersion\": \"0.3.4\", \"failureMessage\": \"\", \"exceptionClass\": \"\", \"trace\": \"\"}}, \"*\")"
      ],
      "text/plain": [
       "<IPython.core.display.Javascript object>"
      ]
     },
     "metadata": {},
     "output_type": "display_data"
    },
    {
     "data": {
      "text/markdown": [
       "<span style=\"color:#33cc33\">Correct</span>"
      ],
      "text/plain": [
       "Correct"
      ]
     },
     "metadata": {},
     "output_type": "display_data"
    }
   ],
   "source": [
    "def round_to_two_places(num):\n",
    "    \"\"\"Return the given number rounded to two decimal places. \n",
    "    \n",
    "    >>> round_to_two_places(3.14159)\n",
    "    3.14\n",
    "    \"\"\"\n",
    "    \n",
    "    num = round(num,2)\n",
    "    \n",
    "    return num\n",
    "\n",
    "# Check your answer\n",
    "q1.check()"
   ]
  },
  {
   "cell_type": "code",
   "execution_count": 3,
   "id": "088ea122",
   "metadata": {
    "execution": {
     "iopub.execute_input": "2023-03-20T20:05:13.916057Z",
     "iopub.status.busy": "2023-03-20T20:05:13.915719Z",
     "iopub.status.idle": "2023-03-20T20:05:13.924362Z",
     "shell.execute_reply": "2023-03-20T20:05:13.923374Z"
    },
    "papermill": {
     "duration": 0.016709,
     "end_time": "2023-03-20T20:05:13.926878",
     "exception": false,
     "start_time": "2023-03-20T20:05:13.910169",
     "status": "completed"
    },
    "tags": []
   },
   "outputs": [
    {
     "data": {
      "application/javascript": [
       "parent.postMessage({\"jupyterEvent\": \"custom.exercise_interaction\", \"data\": {\"interactionType\": 3, \"questionType\": 2, \"questionId\": \"1_RoundFunctionProblem\", \"learnToolsVersion\": \"0.3.4\", \"valueTowardsCompletion\": 0.0, \"failureMessage\": \"\", \"exceptionClass\": \"\", \"trace\": \"\", \"outcomeType\": 4}}, \"*\")"
      ],
      "text/plain": [
       "<IPython.core.display.Javascript object>"
      ]
     },
     "metadata": {},
     "output_type": "display_data"
    },
    {
     "data": {
      "text/markdown": [
       "<span style=\"color:#33cc99\">Solution:</span> \n",
       "```python\n",
       "return round(num, 2)\n",
       "```"
      ],
      "text/plain": [
       "Solution: \n",
       "```python\n",
       "return round(num, 2)\n",
       "```"
      ]
     },
     "metadata": {},
     "output_type": "display_data"
    }
   ],
   "source": [
    "# Uncomment the following for a hint\n",
    "#q1.hint()\n",
    "# Or uncomment the following to peek at the solution\n",
    "q1.solution()"
   ]
  },
  {
   "cell_type": "markdown",
   "id": "98e095e1",
   "metadata": {
    "papermill": {
     "duration": 0.004436,
     "end_time": "2023-03-20T20:05:13.936277",
     "exception": false,
     "start_time": "2023-03-20T20:05:13.931841",
     "status": "completed"
    },
    "tags": []
   },
   "source": [
    "# 2.\n",
    "The help for `round` says that `ndigits` (the second argument) may be negative.\n",
    "What do you think will happen when it is? Try some examples in the following cell."
   ]
  },
  {
   "cell_type": "code",
   "execution_count": 4,
   "id": "4aae096b",
   "metadata": {
    "execution": {
     "iopub.execute_input": "2023-03-20T20:05:13.946908Z",
     "iopub.status.busy": "2023-03-20T20:05:13.946537Z",
     "iopub.status.idle": "2023-03-20T20:05:13.953222Z",
     "shell.execute_reply": "2023-03-20T20:05:13.952396Z"
    },
    "papermill": {
     "duration": 0.014029,
     "end_time": "2023-03-20T20:05:13.954855",
     "exception": false,
     "start_time": "2023-03-20T20:05:13.940826",
     "status": "completed"
    },
    "tags": []
   },
   "outputs": [
    {
     "data": {
      "text/plain": [
       "235000"
      ]
     },
     "execution_count": 4,
     "metadata": {},
     "output_type": "execute_result"
    }
   ],
   "source": [
    "# Put your test code here\n",
    "round(234565, -3)"
   ]
  },
  {
   "cell_type": "markdown",
   "id": "bce85780",
   "metadata": {
    "papermill": {
     "duration": 0.004382,
     "end_time": "2023-03-20T20:05:13.963767",
     "exception": false,
     "start_time": "2023-03-20T20:05:13.959385",
     "status": "completed"
    },
    "tags": []
   },
   "source": [
    "Can you think of a case where this would be useful?  Once you're ready, run the code cell below to see the answer and to receive credit for completing the problem."
   ]
  },
  {
   "cell_type": "code",
   "execution_count": 5,
   "id": "d3e5ec27",
   "metadata": {
    "execution": {
     "iopub.execute_input": "2023-03-20T20:05:13.975016Z",
     "iopub.status.busy": "2023-03-20T20:05:13.974671Z",
     "iopub.status.idle": "2023-03-20T20:05:13.983033Z",
     "shell.execute_reply": "2023-03-20T20:05:13.981935Z"
    },
    "papermill": {
     "duration": 0.017133,
     "end_time": "2023-03-20T20:05:13.985446",
     "exception": false,
     "start_time": "2023-03-20T20:05:13.968313",
     "status": "completed"
    },
    "tags": []
   },
   "outputs": [
    {
     "data": {
      "application/javascript": [
       "parent.postMessage({\"jupyterEvent\": \"custom.exercise_interaction\", \"data\": {\"interactionType\": 3, \"questionType\": 4, \"questionId\": \"2_RoundNdigitsProblem\", \"learnToolsVersion\": \"0.3.4\", \"valueTowardsCompletion\": 0.0, \"failureMessage\": \"\", \"exceptionClass\": \"\", \"trace\": \"\", \"outcomeType\": 4}}, \"*\")"
      ],
      "text/plain": [
       "<IPython.core.display.Javascript object>"
      ]
     },
     "metadata": {},
     "output_type": "display_data"
    },
    {
     "data": {
      "text/markdown": [
       "<span style=\"color:#33cc99\">Solution:</span> As you've seen, `ndigits=-1` rounds to the nearest 10, `ndigits=-2` rounds to the nearest 100 and so on. Where might this be useful? Suppose we're dealing with large numbers:\n",
       "\n",
       "> The area of Finland is 338,424 km²  \n",
       "> The area of Greenland is 2,166,086 km²\n",
       "\n",
       "We probably don't care whether it's really 338,424, or 338,425, or 338,177. All those digits of accuracy are just distracting. We can chop them off by calling `round()` with `ndigits=-3`:\n",
       "\n",
       "> The area of Finland is 338,000 km²  \n",
       "> The area of Greenland is 2,166,000 km²\n",
       "\n",
       "(We'll talk about how we would get the commas later when we talk about string formatting :))\n"
      ],
      "text/plain": [
       "Solution: As you've seen, `ndigits=-1` rounds to the nearest 10, `ndigits=-2` rounds to the nearest 100 and so on. Where might this be useful? Suppose we're dealing with large numbers:\n",
       "\n",
       "> The area of Finland is 338,424 km²  \n",
       "> The area of Greenland is 2,166,086 km²\n",
       "\n",
       "We probably don't care whether it's really 338,424, or 338,425, or 338,177. All those digits of accuracy are just distracting. We can chop them off by calling `round()` with `ndigits=-3`:\n",
       "\n",
       "> The area of Finland is 338,000 km²  \n",
       "> The area of Greenland is 2,166,000 km²\n",
       "\n",
       "(We'll talk about how we would get the commas later when we talk about string formatting :))"
      ]
     },
     "metadata": {},
     "output_type": "display_data"
    }
   ],
   "source": [
    "# Check your answer (Run this code cell to receive credit!)\n",
    "q2.solution()"
   ]
  },
  {
   "cell_type": "markdown",
   "id": "e248f5fc",
   "metadata": {
    "papermill": {
     "duration": 0.004967,
     "end_time": "2023-03-20T20:05:13.995802",
     "exception": false,
     "start_time": "2023-03-20T20:05:13.990835",
     "status": "completed"
    },
    "tags": []
   },
   "source": [
    "# 3.\n",
    "\n",
    "In the previous exercise, the candy-sharing friends Alice, Bob and Carol tried to split candies evenly. For the sake of their friendship, any candies left over would be smashed. For example, if they collectively bring home 91 candies, they'll take 30 each and smash 1.\n",
    "\n",
    "Below is a simple function that will calculate the number of candies to smash for *any* number of total candies.\n",
    "\n",
    "Modify it so that it optionally takes a second argument representing the number of friends the candies are being split between. If no second argument is provided, it should assume 3 friends, as before.\n",
    "\n",
    "Update the docstring to reflect this new behaviour."
   ]
  },
  {
   "cell_type": "code",
   "execution_count": 6,
   "id": "e2b30ffd",
   "metadata": {
    "execution": {
     "iopub.execute_input": "2023-03-20T20:05:14.008464Z",
     "iopub.status.busy": "2023-03-20T20:05:14.008118Z",
     "iopub.status.idle": "2023-03-20T20:05:14.017241Z",
     "shell.execute_reply": "2023-03-20T20:05:14.015900Z"
    },
    "papermill": {
     "duration": 0.018926,
     "end_time": "2023-03-20T20:05:14.019888",
     "exception": false,
     "start_time": "2023-03-20T20:05:14.000962",
     "status": "completed"
    },
    "tags": []
   },
   "outputs": [
    {
     "data": {
      "application/javascript": [
       "parent.postMessage({\"jupyterEvent\": \"custom.exercise_interaction\", \"data\": {\"outcomeType\": 1, \"valueTowardsCompletion\": 0.16666666666666666, \"interactionType\": 1, \"questionType\": 2, \"questionId\": \"3_CandySmashingFunctionProblem\", \"learnToolsVersion\": \"0.3.4\", \"failureMessage\": \"\", \"exceptionClass\": \"\", \"trace\": \"\"}}, \"*\")"
      ],
      "text/plain": [
       "<IPython.core.display.Javascript object>"
      ]
     },
     "metadata": {},
     "output_type": "display_data"
    },
    {
     "data": {
      "text/markdown": [
       "<span style=\"color:#33cc33\">Correct</span>"
      ],
      "text/plain": [
       "Correct"
      ]
     },
     "metadata": {},
     "output_type": "display_data"
    }
   ],
   "source": [
    "def to_smash(total_candies, num_friends = 3):\n",
    "    \"\"\"Return the number of leftover candies that must be smashed after distributing\n",
    "    the given number of candies evenly between 3 friends.\n",
    "    \n",
    "    >>> to_smash(91)\n",
    "    1\n",
    "    \"\"\"\n",
    "    return (total_candies)% num_friends\n",
    "\n",
    "# Check your answer\n",
    "q3.check()"
   ]
  },
  {
   "cell_type": "code",
   "execution_count": 7,
   "id": "f43ef6cc",
   "metadata": {
    "execution": {
     "iopub.execute_input": "2023-03-20T20:05:14.032217Z",
     "iopub.status.busy": "2023-03-20T20:05:14.031616Z",
     "iopub.status.idle": "2023-03-20T20:05:14.039576Z",
     "shell.execute_reply": "2023-03-20T20:05:14.038480Z"
    },
    "papermill": {
     "duration": 0.016909,
     "end_time": "2023-03-20T20:05:14.042054",
     "exception": false,
     "start_time": "2023-03-20T20:05:14.025145",
     "status": "completed"
    },
    "tags": []
   },
   "outputs": [
    {
     "data": {
      "application/javascript": [
       "parent.postMessage({\"jupyterEvent\": \"custom.exercise_interaction\", \"data\": {\"interactionType\": 2, \"questionType\": 2, \"questionId\": \"3_CandySmashingFunctionProblem\", \"learnToolsVersion\": \"0.3.4\", \"valueTowardsCompletion\": 0.0, \"failureMessage\": \"\", \"exceptionClass\": \"\", \"trace\": \"\", \"outcomeType\": 4}}, \"*\")"
      ],
      "text/plain": [
       "<IPython.core.display.Javascript object>"
      ]
     },
     "metadata": {},
     "output_type": "display_data"
    },
    {
     "data": {
      "text/markdown": [
       "<span style=\"color:#3366cc\">Hint:</span> Refer to the section of the last tutorial notebook where we talked about default arguments"
      ],
      "text/plain": [
       "Hint: Refer to the section of the last tutorial notebook where we talked about default arguments"
      ]
     },
     "metadata": {},
     "output_type": "display_data"
    }
   ],
   "source": [
    "q3.hint()"
   ]
  },
  {
   "cell_type": "code",
   "execution_count": 8,
   "id": "72a93150",
   "metadata": {
    "execution": {
     "iopub.execute_input": "2023-03-20T20:05:14.054828Z",
     "iopub.status.busy": "2023-03-20T20:05:14.054283Z",
     "iopub.status.idle": "2023-03-20T20:05:14.061776Z",
     "shell.execute_reply": "2023-03-20T20:05:14.060299Z"
    },
    "papermill": {
     "duration": 0.016742,
     "end_time": "2023-03-20T20:05:14.064326",
     "exception": false,
     "start_time": "2023-03-20T20:05:14.047584",
     "status": "completed"
    },
    "tags": []
   },
   "outputs": [
    {
     "data": {
      "application/javascript": [
       "parent.postMessage({\"jupyterEvent\": \"custom.exercise_interaction\", \"data\": {\"interactionType\": 3, \"questionType\": 2, \"questionId\": \"3_CandySmashingFunctionProblem\", \"learnToolsVersion\": \"0.3.4\", \"valueTowardsCompletion\": 0.0, \"failureMessage\": \"\", \"exceptionClass\": \"\", \"trace\": \"\", \"outcomeType\": 4}}, \"*\")"
      ],
      "text/plain": [
       "<IPython.core.display.Javascript object>"
      ]
     },
     "metadata": {},
     "output_type": "display_data"
    },
    {
     "data": {
      "text/markdown": [
       "<span style=\"color:#33cc99\">Solution:</span> \n",
       "```python\n",
       "def to_smash(total_candies, n_friends=3):\n",
       "    return total_candies % n_friends\n",
       "```"
      ],
      "text/plain": [
       "Solution: \n",
       "```python\n",
       "def to_smash(total_candies, n_friends=3):\n",
       "    return total_candies % n_friends\n",
       "```"
      ]
     },
     "metadata": {},
     "output_type": "display_data"
    }
   ],
   "source": [
    "q3.solution()"
   ]
  },
  {
   "cell_type": "markdown",
   "id": "32cb5f9f",
   "metadata": {
    "papermill": {
     "duration": 0.005437,
     "end_time": "2023-03-20T20:05:14.076055",
     "exception": false,
     "start_time": "2023-03-20T20:05:14.070618",
     "status": "completed"
    },
    "tags": []
   },
   "source": [
    "# 4. (Optional)\n",
    "\n",
    "It may not be fun, but reading and understanding error messages will be an important part of your Python career.\n",
    "\n",
    "Each code cell below contains some commented buggy code. For each cell...\n",
    "\n",
    "1. Read the code and predict what you think will happen when it's run.\n",
    "2. Then uncomment the code and run it to see what happens. (**Tip**: In the kernel editor, you can highlight several lines and press `ctrl`+`/` to toggle commenting.)\n",
    "3. Fix the code (so that it accomplishes its intended purpose without throwing an exception)\n",
    "\n",
    "<!-- TODO: should this be autochecked? Delta is probably pretty small. -->"
   ]
  },
  {
   "cell_type": "code",
   "execution_count": 9,
   "id": "74db458c",
   "metadata": {
    "execution": {
     "iopub.execute_input": "2023-03-20T20:05:14.090292Z",
     "iopub.status.busy": "2023-03-20T20:05:14.089922Z",
     "iopub.status.idle": "2023-03-20T20:05:14.096095Z",
     "shell.execute_reply": "2023-03-20T20:05:14.095140Z"
    },
    "papermill": {
     "duration": 0.016599,
     "end_time": "2023-03-20T20:05:14.098488",
     "exception": false,
     "start_time": "2023-03-20T20:05:14.081889",
     "status": "completed"
    },
    "tags": []
   },
   "outputs": [
    {
     "data": {
      "text/plain": [
       "10.0"
      ]
     },
     "execution_count": 9,
     "metadata": {},
     "output_type": "execute_result"
    }
   ],
   "source": [
    "round_to_two_places(9.9999)"
   ]
  },
  {
   "cell_type": "code",
   "execution_count": 10,
   "id": "c6bc1b5d",
   "metadata": {
    "execution": {
     "iopub.execute_input": "2023-03-20T20:05:14.113034Z",
     "iopub.status.busy": "2023-03-20T20:05:14.112608Z",
     "iopub.status.idle": "2023-03-20T20:05:14.118488Z",
     "shell.execute_reply": "2023-03-20T20:05:14.117057Z"
    },
    "papermill": {
     "duration": 0.016282,
     "end_time": "2023-03-20T20:05:14.120732",
     "exception": false,
     "start_time": "2023-03-20T20:05:14.104450",
     "status": "completed"
    },
    "tags": []
   },
   "outputs": [
    {
     "name": "stdout",
     "output_type": "stream",
     "text": [
      "5\n"
     ]
    }
   ],
   "source": [
    "x = -10\n",
    "y = 5\n",
    "# # Which of the two variables above has the smallest absolute value?\n",
    "smallest_abs = min(abs(x),abs(y))\n",
    "print(smallest_abs)"
   ]
  },
  {
   "cell_type": "code",
   "execution_count": 11,
   "id": "d2f80284",
   "metadata": {
    "execution": {
     "iopub.execute_input": "2023-03-20T20:05:14.134279Z",
     "iopub.status.busy": "2023-03-20T20:05:14.133937Z",
     "iopub.status.idle": "2023-03-20T20:05:14.140819Z",
     "shell.execute_reply": "2023-03-20T20:05:14.138617Z"
    },
    "papermill": {
     "duration": 0.016284,
     "end_time": "2023-03-20T20:05:14.142957",
     "exception": false,
     "start_time": "2023-03-20T20:05:14.126673",
     "status": "completed"
    },
    "tags": []
   },
   "outputs": [
    {
     "name": "stdout",
     "output_type": "stream",
     "text": [
      "5\n"
     ]
    }
   ],
   "source": [
    "def f(x):\n",
    "    y = abs(x)\n",
    "    return y\n",
    "\n",
    "print(f(5))"
   ]
  },
  {
   "cell_type": "markdown",
   "id": "f0883903",
   "metadata": {
    "papermill": {
     "duration": 0.005334,
     "end_time": "2023-03-20T20:05:14.154210",
     "exception": false,
     "start_time": "2023-03-20T20:05:14.148876",
     "status": "completed"
    },
    "tags": []
   },
   "source": [
    "# Keep Going\n",
    "\n",
    "Nice job with the code. Next up, you'll learn about *conditionals*, which you'll need to **[write interesting programs](https://www.kaggle.com/colinmorris/booleans-and-conditionals)**. "
   ]
  },
  {
   "cell_type": "markdown",
   "id": "9ea46960",
   "metadata": {
    "papermill": {
     "duration": 0.005365,
     "end_time": "2023-03-20T20:05:14.165263",
     "exception": false,
     "start_time": "2023-03-20T20:05:14.159898",
     "status": "completed"
    },
    "tags": []
   },
   "source": [
    "---\n",
    "\n",
    "\n",
    "\n",
    "\n",
    "*Have questions or comments? Visit the [course discussion forum](https://www.kaggle.com/learn/python/discussion) to chat with other learners.*"
   ]
  }
 ],
 "metadata": {
  "kernelspec": {
   "display_name": "Python 3",
   "language": "python",
   "name": "python3"
  },
  "language_info": {
   "codemirror_mode": {
    "name": "ipython",
    "version": 3
   },
   "file_extension": ".py",
   "mimetype": "text/x-python",
   "name": "python",
   "nbconvert_exporter": "python",
   "pygments_lexer": "ipython3",
   "version": "3.7.12"
  },
  "papermill": {
   "default_parameters": {},
   "duration": 11.57154,
   "end_time": "2023-03-20T20:05:14.391378",
   "environment_variables": {},
   "exception": null,
   "input_path": "__notebook__.ipynb",
   "output_path": "__notebook__.ipynb",
   "parameters": {},
   "start_time": "2023-03-20T20:05:02.819838",
   "version": "2.4.0"
  }
 },
 "nbformat": 4,
 "nbformat_minor": 5
}
