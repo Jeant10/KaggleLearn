{
 "cells": [
  {
   "cell_type": "markdown",
   "id": "259f2ee3",
   "metadata": {
    "papermill": {
     "duration": 0.010509,
     "end_time": "2023-03-20T18:45:38.400865",
     "exception": false,
     "start_time": "2023-03-20T18:45:38.390356",
     "status": "completed"
    },
    "tags": []
   },
   "source": [
    "**This notebook is an exercise in the [Python](https://www.kaggle.com/learn/python) course.  You can reference the tutorial at [this link](https://www.kaggle.com/colinmorris/hello-python).**\n",
    "\n",
    "---\n"
   ]
  },
  {
   "cell_type": "markdown",
   "id": "73eb8e80",
   "metadata": {
    "papermill": {
     "duration": 0.006504,
     "end_time": "2023-03-20T18:45:38.416122",
     "exception": false,
     "start_time": "2023-03-20T18:45:38.409618",
     "status": "completed"
    },
    "tags": []
   },
   "source": [
    "Welcome to your first set of Python coding problems.  If this is your first time using Kaggle Notebooks, welcome! \n",
    "\n",
    "Notebooks are composed of blocks (called \"cells\") of text and code. Each of these is editable, though you'll mainly be editing the code cells to answer some questions.\n",
    "\n",
    "To get started, try running the code cell below (by pressing the ► button, or clicking on the cell and pressing ctrl+enter on your keyboard)."
   ]
  },
  {
   "cell_type": "code",
   "execution_count": null,
   "id": "46c2678d",
   "metadata": {
    "papermill": {
     "duration": 0.007881,
     "end_time": "2023-03-20T18:45:38.430834",
     "exception": false,
     "start_time": "2023-03-20T18:45:38.422953",
     "status": "completed"
    },
    "tags": []
   },
   "outputs": [],
   "source": []
  },
  {
   "cell_type": "code",
   "execution_count": 1,
   "id": "49614035",
   "metadata": {
    "execution": {
     "iopub.execute_input": "2023-03-20T18:45:38.449926Z",
     "iopub.status.busy": "2023-03-20T18:45:38.449492Z",
     "iopub.status.idle": "2023-03-20T18:45:38.459642Z",
     "shell.execute_reply": "2023-03-20T18:45:38.458816Z"
    },
    "papermill": {
     "duration": 0.022534,
     "end_time": "2023-03-20T18:45:38.462565",
     "exception": false,
     "start_time": "2023-03-20T18:45:38.440031",
     "status": "completed"
    },
    "tags": []
   },
   "outputs": [
    {
     "name": "stdout",
     "output_type": "stream",
     "text": [
      "You've successfully run some Python code\n",
      "Congratulations!\n"
     ]
    }
   ],
   "source": [
    "print(\"You've successfully run some Python code\")\n",
    "print(\"Congratulations!\") "
   ]
  },
  {
   "cell_type": "markdown",
   "id": "2af811d8",
   "metadata": {
    "papermill": {
     "duration": 0.006602,
     "end_time": "2023-03-20T18:45:38.477155",
     "exception": false,
     "start_time": "2023-03-20T18:45:38.470553",
     "status": "completed"
    },
    "tags": []
   },
   "source": [
    "Try adding another line of code in the cell above and re-running it. \n",
    "\n",
    "Now let's get a little fancier:  Add a new code cell by clicking on an existing code cell, hitting the escape key, and then hitting the `a` or `b` key.  The `a` key will add a cell above the current cell, and `b` adds a cell below.\n",
    "\n",
    "Great! Now you know how to use Notebooks.\n",
    "\n",
    "Each hands-on exercise starts by setting up our feedback and code checking mechanism. Run the code cell below to do that. Then you'll be ready to move on to question 0."
   ]
  },
  {
   "cell_type": "code",
   "execution_count": 2,
   "id": "63eff14e",
   "metadata": {
    "_kg_hide-input": true,
    "_kg_hide-output": true,
    "execution": {
     "iopub.execute_input": "2023-03-20T18:45:38.492305Z",
     "iopub.status.busy": "2023-03-20T18:45:38.491895Z",
     "iopub.status.idle": "2023-03-20T18:45:38.524588Z",
     "shell.execute_reply": "2023-03-20T18:45:38.523203Z"
    },
    "papermill": {
     "duration": 0.043042,
     "end_time": "2023-03-20T18:45:38.526974",
     "exception": false,
     "start_time": "2023-03-20T18:45:38.483932",
     "status": "completed"
    },
    "tags": []
   },
   "outputs": [
    {
     "name": "stdout",
     "output_type": "stream",
     "text": [
      "Setup complete! You're ready to start question 0.\n"
     ]
    }
   ],
   "source": [
    "from learntools.core import binder; binder.bind(globals())\n",
    "from learntools.python.ex1 import *\n",
    "print(\"Setup complete! You're ready to start question 0.\")"
   ]
  },
  {
   "cell_type": "markdown",
   "id": "b15bd27c",
   "metadata": {
    "papermill": {
     "duration": 0.006367,
     "end_time": "2023-03-20T18:45:38.540326",
     "exception": false,
     "start_time": "2023-03-20T18:45:38.533959",
     "status": "completed"
    },
    "tags": []
   },
   "source": [
    "# 0.\n",
    "\n",
    "*This is a silly question intended as an introduction to the format we use for hands-on exercises throughout all Kaggle courses.*\n",
    "\n",
    "**What is your favorite color? **\n",
    "\n",
    "To complete this question, create a variable called `color` in the cell below with an appropriate value. The function call `q0.check()` (which we've already provided in the cell below) will check your answer."
   ]
  },
  {
   "cell_type": "code",
   "execution_count": 3,
   "id": "fc335e27",
   "metadata": {
    "execution": {
     "iopub.execute_input": "2023-03-20T18:45:38.555934Z",
     "iopub.status.busy": "2023-03-20T18:45:38.555511Z",
     "iopub.status.idle": "2023-03-20T18:45:38.564662Z",
     "shell.execute_reply": "2023-03-20T18:45:38.563657Z"
    },
    "papermill": {
     "duration": 0.019607,
     "end_time": "2023-03-20T18:45:38.566824",
     "exception": false,
     "start_time": "2023-03-20T18:45:38.547217",
     "status": "completed"
    },
    "tags": []
   },
   "outputs": [
    {
     "data": {
      "application/javascript": [
       "parent.postMessage({\"jupyterEvent\": \"custom.exercise_interaction\", \"data\": {\"outcomeType\": 1, \"valueTowardsCompletion\": 0.25, \"interactionType\": 1, \"questionType\": 2, \"questionId\": \"0_ExerciseFormatTutorial\", \"learnToolsVersion\": \"0.3.4\", \"failureMessage\": \"\", \"exceptionClass\": \"\", \"trace\": \"\"}}, \"*\")"
      ],
      "text/plain": [
       "<IPython.core.display.Javascript object>"
      ]
     },
     "metadata": {},
     "output_type": "display_data"
    },
    {
     "data": {
      "text/markdown": [
       "<span style=\"color:#33cc33\">Correct:</span> What?! You got it right without needing a hint or anything? Drats. Well hey, you should still continue to the next step to get some practice asking for a hint and checking solutions. (Even though you obviously don't need any help here.)"
      ],
      "text/plain": [
       "Correct: What?! You got it right without needing a hint or anything? Drats. Well hey, you should still continue to the next step to get some practice asking for a hint and checking solutions. (Even though you obviously don't need any help here.)"
      ]
     },
     "metadata": {},
     "output_type": "display_data"
    }
   ],
   "source": [
    "# create a variable called color with an appropriate value on the line below\n",
    "# (Remember, strings in Python must be enclosed in 'single' or \"double\" quotes)\n",
    "color = \"blue\"\n",
    "# Check your answer\n",
    "q0.check()"
   ]
  },
  {
   "cell_type": "markdown",
   "id": "eb052774",
   "metadata": {
    "papermill": {
     "duration": 0.006991,
     "end_time": "2023-03-20T18:45:38.581801",
     "exception": false,
     "start_time": "2023-03-20T18:45:38.574810",
     "status": "completed"
    },
    "tags": []
   },
   "source": [
    "Didn't get the right answer? How do you not even know your own favorite color?!\n",
    "\n",
    "Delete the `#` in the line below to make one of the lines run. You can choose between getting a hint or the full answer by choosing which line to remove the `#` from. \n",
    "\n",
    "Removing the `#` is called uncommenting, because it changes that line from a \"comment\" which Python doesn't run to code, which Python does run."
   ]
  },
  {
   "cell_type": "code",
   "execution_count": 4,
   "id": "23d659ee",
   "metadata": {
    "execution": {
     "iopub.execute_input": "2023-03-20T18:45:38.598184Z",
     "iopub.status.busy": "2023-03-20T18:45:38.597370Z",
     "iopub.status.idle": "2023-03-20T18:45:38.605785Z",
     "shell.execute_reply": "2023-03-20T18:45:38.604695Z"
    },
    "papermill": {
     "duration": 0.019182,
     "end_time": "2023-03-20T18:45:38.608095",
     "exception": false,
     "start_time": "2023-03-20T18:45:38.588913",
     "status": "completed"
    },
    "tags": []
   },
   "outputs": [
    {
     "data": {
      "application/javascript": [
       "parent.postMessage({\"jupyterEvent\": \"custom.exercise_interaction\", \"data\": {\"interactionType\": 2, \"questionType\": 2, \"questionId\": \"0_ExerciseFormatTutorial\", \"learnToolsVersion\": \"0.3.4\", \"valueTowardsCompletion\": 0.0, \"failureMessage\": \"\", \"exceptionClass\": \"\", \"trace\": \"\", \"outcomeType\": 4}}, \"*\")"
      ],
      "text/plain": [
       "<IPython.core.display.Javascript object>"
      ]
     },
     "metadata": {},
     "output_type": "display_data"
    },
    {
     "data": {
      "text/markdown": [
       "<span style=\"color:#3366cc\">Hint:</span> Your favorite color rhymes with *glue*."
      ],
      "text/plain": [
       "Hint: Your favorite color rhymes with *glue*."
      ]
     },
     "metadata": {},
     "output_type": "display_data"
    }
   ],
   "source": [
    "q0.hint()\n",
    "#q0.solution()"
   ]
  },
  {
   "cell_type": "markdown",
   "id": "6f53a2d2",
   "metadata": {
    "papermill": {
     "duration": 0.00717,
     "end_time": "2023-03-20T18:45:38.622878",
     "exception": false,
     "start_time": "2023-03-20T18:45:38.615708",
     "status": "completed"
    },
    "tags": []
   },
   "source": [
    "The upcoming questions work the same way. The only thing that will change are the question numbers. For the next question, you'll call `q1.check()`, `q1.hint()`, `q1.solution()`, for question 2, you'll call `q2.check()`, and so on."
   ]
  },
  {
   "cell_type": "markdown",
   "id": "15a2e9d9",
   "metadata": {
    "papermill": {
     "duration": 0.006926,
     "end_time": "2023-03-20T18:45:38.637104",
     "exception": false,
     "start_time": "2023-03-20T18:45:38.630178",
     "status": "completed"
    },
    "tags": []
   },
   "source": [
    "<hr/>\n",
    "\n",
    "# 1.\n",
    "\n",
    "Complete the code below. In case it's helpful, here is the table of available arithmetic operations:\n",
    "\n",
    "\n",
    "\n",
    "| Operator     | Name           | Description                                            |\n",
    "|--------------|----------------|--------------------------------------------------------|\n",
    "| ``a + b``    | Addition       | Sum of ``a`` and ``b``                                 |\n",
    "| ``a - b``    | Subtraction    | Difference of ``a`` and ``b``                          |\n",
    "| ``a * b``    | Multiplication | Product of ``a`` and ``b``                             |\n",
    "| ``a / b``    | True division  | Quotient of ``a`` and ``b``                            |\n",
    "| ``a // b``   | Floor division | Quotient of ``a`` and ``b``, removing fractional parts |\n",
    "| ``a % b``    | Modulus        | Integer remainder after division of ``a`` by ``b``     |\n",
    "| ``a ** b``   | Exponentiation | ``a`` raised to the power of ``b``                     |\n",
    "| ``-a``       | Negation       | The negative of ``a``                                  |\n",
    "\n",
    "<span style=\"display:none\"></span>\n"
   ]
  },
  {
   "cell_type": "code",
   "execution_count": 5,
   "id": "d30a0af8",
   "metadata": {
    "execution": {
     "iopub.execute_input": "2023-03-20T18:45:38.653385Z",
     "iopub.status.busy": "2023-03-20T18:45:38.652963Z",
     "iopub.status.idle": "2023-03-20T18:45:38.662534Z",
     "shell.execute_reply": "2023-03-20T18:45:38.661538Z"
    },
    "papermill": {
     "duration": 0.020415,
     "end_time": "2023-03-20T18:45:38.664682",
     "exception": false,
     "start_time": "2023-03-20T18:45:38.644267",
     "status": "completed"
    },
    "tags": []
   },
   "outputs": [
    {
     "data": {
      "application/javascript": [
       "parent.postMessage({\"jupyterEvent\": \"custom.exercise_interaction\", \"data\": {\"outcomeType\": 1, \"valueTowardsCompletion\": 0.25, \"interactionType\": 1, \"questionType\": 1, \"questionId\": \"1_CircleArea\", \"learnToolsVersion\": \"0.3.4\", \"failureMessage\": \"\", \"exceptionClass\": \"\", \"trace\": \"\"}}, \"*\")"
      ],
      "text/plain": [
       "<IPython.core.display.Javascript object>"
      ]
     },
     "metadata": {},
     "output_type": "display_data"
    },
    {
     "data": {
      "text/markdown": [
       "<span style=\"color:#33cc33\">Correct</span>"
      ],
      "text/plain": [
       "Correct"
      ]
     },
     "metadata": {},
     "output_type": "display_data"
    }
   ],
   "source": [
    "pi = 3.14159 # approximate\n",
    "diameter = 3\n",
    "\n",
    "# Create a variable called 'radius' equal to half the diameter\n",
    "radius = diameter / 2\n",
    "\n",
    "# Create a variable called 'area', using the formula for the area of a circle: pi times the radius squared\n",
    "area = pi*(radius**2)\n",
    "\n",
    "# Check your answer\n",
    "q1.check()"
   ]
  },
  {
   "cell_type": "code",
   "execution_count": 6,
   "id": "d3c3c268",
   "metadata": {
    "execution": {
     "iopub.execute_input": "2023-03-20T18:45:38.681292Z",
     "iopub.status.busy": "2023-03-20T18:45:38.680893Z",
     "iopub.status.idle": "2023-03-20T18:45:38.689600Z",
     "shell.execute_reply": "2023-03-20T18:45:38.688778Z"
    },
    "papermill": {
     "duration": 0.019298,
     "end_time": "2023-03-20T18:45:38.691723",
     "exception": false,
     "start_time": "2023-03-20T18:45:38.672425",
     "status": "completed"
    },
    "tags": []
   },
   "outputs": [
    {
     "data": {
      "application/javascript": [
       "parent.postMessage({\"jupyterEvent\": \"custom.exercise_interaction\", \"data\": {\"interactionType\": 3, \"questionType\": 1, \"questionId\": \"1_CircleArea\", \"learnToolsVersion\": \"0.3.4\", \"valueTowardsCompletion\": 0.0, \"failureMessage\": \"\", \"exceptionClass\": \"\", \"trace\": \"\", \"outcomeType\": 4}}, \"*\")"
      ],
      "text/plain": [
       "<IPython.core.display.Javascript object>"
      ]
     },
     "metadata": {},
     "output_type": "display_data"
    },
    {
     "data": {
      "text/markdown": [
       "<span style=\"color:#33cc99\">Solution:</span> \n",
       "```python\n",
       "radius = diameter / 2\n",
       "area = pi * radius ** 2\n",
       "```"
      ],
      "text/plain": [
       "Solution: \n",
       "```python\n",
       "radius = diameter / 2\n",
       "area = pi * radius ** 2\n",
       "```"
      ]
     },
     "metadata": {},
     "output_type": "display_data"
    }
   ],
   "source": [
    "# Uncomment and run the lines below if you need help.\n",
    "#q1.hint()\n",
    "q1.solution()"
   ]
  },
  {
   "cell_type": "markdown",
   "id": "97ce946f",
   "metadata": {
    "papermill": {
     "duration": 0.007563,
     "end_time": "2023-03-20T18:45:38.707039",
     "exception": false,
     "start_time": "2023-03-20T18:45:38.699476",
     "status": "completed"
    },
    "tags": []
   },
   "source": [
    "<hr/>\n",
    "\n",
    "# 2.\n",
    "\n",
    "Add code to the following cell to swap variables `a` and `b` (so that `a` refers to the object previously referred to by `b` and vice versa)."
   ]
  },
  {
   "cell_type": "code",
   "execution_count": 7,
   "id": "cabfc4a4",
   "metadata": {
    "execution": {
     "iopub.execute_input": "2023-03-20T18:45:38.725034Z",
     "iopub.status.busy": "2023-03-20T18:45:38.724617Z",
     "iopub.status.idle": "2023-03-20T18:45:38.733781Z",
     "shell.execute_reply": "2023-03-20T18:45:38.732966Z"
    },
    "papermill": {
     "duration": 0.020506,
     "end_time": "2023-03-20T18:45:38.735926",
     "exception": false,
     "start_time": "2023-03-20T18:45:38.715420",
     "status": "completed"
    },
    "tags": []
   },
   "outputs": [
    {
     "data": {
      "application/javascript": [
       "parent.postMessage({\"jupyterEvent\": \"custom.exercise_interaction\", \"data\": {\"outcomeType\": 1, \"valueTowardsCompletion\": 0.25, \"interactionType\": 1, \"questionType\": 2, \"questionId\": \"2_VariableSwap\", \"learnToolsVersion\": \"0.3.4\", \"failureMessage\": \"\", \"exceptionClass\": \"\", \"trace\": \"\"}}, \"*\")"
      ],
      "text/plain": [
       "<IPython.core.display.Javascript object>"
      ]
     },
     "metadata": {},
     "output_type": "display_data"
    },
    {
     "data": {
      "text/markdown": [
       "<span style=\"color:#33cc33\">Correct:</span> \n",
       "\n",
       "The most straightforward solution is to use a third variable to temporarily store one of the old values. e.g.:\n",
       "\n",
       "    tmp = a\n",
       "    a = b\n",
       "    b = tmp\n",
       "\n",
       "If you've read lots of Python code, you might have seen the following trick to swap two variables in one line:\n",
       "\n",
       "    a, b = b, a\n",
       "\n",
       "We'll demystify this bit of Python magic later when we talk about *tuples*."
      ],
      "text/plain": [
       "Correct: \n",
       "\n",
       "The most straightforward solution is to use a third variable to temporarily store one of the old values. e.g.:\n",
       "\n",
       "    tmp = a\n",
       "    a = b\n",
       "    b = tmp\n",
       "\n",
       "If you've read lots of Python code, you might have seen the following trick to swap two variables in one line:\n",
       "\n",
       "    a, b = b, a\n",
       "\n",
       "We'll demystify this bit of Python magic later when we talk about *tuples*."
      ]
     },
     "metadata": {},
     "output_type": "display_data"
    }
   ],
   "source": [
    "########### Setup code - don't touch this part ######################\n",
    "# If you're curious, these are examples of lists. We'll talk about \n",
    "# them in depth a few lessons from now. For now, just know that they're\n",
    "# yet another type of Python object, like int or float.\n",
    "a = [1, 2, 3]\n",
    "b = [3, 2, 1]\n",
    "q2.store_original_ids()\n",
    "######################################################################\n",
    "\n",
    "# Your code goes here. Swap the values to which a and b refer.\n",
    "# If you get stuck, you can always uncomment one or both of the lines in\n",
    "# the next cell for a hint, or to peek at the solution.\n",
    "\n",
    "c = a\n",
    "a = b\n",
    "b = c\n",
    "\n",
    "######################################################################\n",
    "\n",
    "# Check your answer\n",
    "q2.check()"
   ]
  },
  {
   "cell_type": "code",
   "execution_count": 8,
   "id": "c492f714",
   "metadata": {
    "execution": {
     "iopub.execute_input": "2023-03-20T18:45:38.753638Z",
     "iopub.status.busy": "2023-03-20T18:45:38.753229Z",
     "iopub.status.idle": "2023-03-20T18:45:38.757977Z",
     "shell.execute_reply": "2023-03-20T18:45:38.756901Z"
    },
    "papermill": {
     "duration": 0.016233,
     "end_time": "2023-03-20T18:45:38.760254",
     "exception": false,
     "start_time": "2023-03-20T18:45:38.744021",
     "status": "completed"
    },
    "tags": []
   },
   "outputs": [],
   "source": [
    "#q2.hint()"
   ]
  },
  {
   "cell_type": "markdown",
   "id": "6d008199",
   "metadata": {
    "papermill": {
     "duration": 0.008336,
     "end_time": "2023-03-20T18:45:38.776660",
     "exception": false,
     "start_time": "2023-03-20T18:45:38.768324",
     "status": "completed"
    },
    "tags": []
   },
   "source": []
  },
  {
   "cell_type": "code",
   "execution_count": 9,
   "id": "cbcb8b6b",
   "metadata": {
    "execution": {
     "iopub.execute_input": "2023-03-20T18:45:38.794479Z",
     "iopub.status.busy": "2023-03-20T18:45:38.794082Z",
     "iopub.status.idle": "2023-03-20T18:45:38.798738Z",
     "shell.execute_reply": "2023-03-20T18:45:38.797725Z"
    },
    "papermill": {
     "duration": 0.01645,
     "end_time": "2023-03-20T18:45:38.801071",
     "exception": false,
     "start_time": "2023-03-20T18:45:38.784621",
     "status": "completed"
    },
    "tags": []
   },
   "outputs": [],
   "source": [
    "#q2.solution()"
   ]
  },
  {
   "cell_type": "markdown",
   "id": "f506d476",
   "metadata": {
    "papermill": {
     "duration": 0.00783,
     "end_time": "2023-03-20T18:45:38.817609",
     "exception": false,
     "start_time": "2023-03-20T18:45:38.809779",
     "status": "completed"
    },
    "tags": []
   },
   "source": [
    "<hr/>\n",
    "\n",
    "# 3a.\n",
    "\n",
    "Add parentheses to the following expression so that it evaluates to 1."
   ]
  },
  {
   "cell_type": "code",
   "execution_count": 10,
   "id": "86b2c0ca",
   "metadata": {
    "execution": {
     "iopub.execute_input": "2023-03-20T18:45:38.835897Z",
     "iopub.status.busy": "2023-03-20T18:45:38.835270Z",
     "iopub.status.idle": "2023-03-20T18:45:38.842358Z",
     "shell.execute_reply": "2023-03-20T18:45:38.841273Z"
    },
    "papermill": {
     "duration": 0.019008,
     "end_time": "2023-03-20T18:45:38.844721",
     "exception": false,
     "start_time": "2023-03-20T18:45:38.825713",
     "status": "completed"
    },
    "tags": []
   },
   "outputs": [
    {
     "data": {
      "text/plain": [
       "1"
      ]
     },
     "execution_count": 10,
     "metadata": {},
     "output_type": "execute_result"
    }
   ],
   "source": [
    "(5 - 3) // 2"
   ]
  },
  {
   "cell_type": "code",
   "execution_count": 11,
   "id": "1374fd6a",
   "metadata": {
    "execution": {
     "iopub.execute_input": "2023-03-20T18:45:38.862919Z",
     "iopub.status.busy": "2023-03-20T18:45:38.862513Z",
     "iopub.status.idle": "2023-03-20T18:45:38.869783Z",
     "shell.execute_reply": "2023-03-20T18:45:38.868047Z"
    },
    "papermill": {
     "duration": 0.020779,
     "end_time": "2023-03-20T18:45:38.873764",
     "exception": false,
     "start_time": "2023-03-20T18:45:38.852985",
     "status": "completed"
    },
    "tags": []
   },
   "outputs": [],
   "source": [
    "#q3.a.hint()"
   ]
  },
  {
   "cell_type": "code",
   "execution_count": 12,
   "id": "b4b87c6e",
   "metadata": {
    "execution": {
     "iopub.execute_input": "2023-03-20T18:45:38.900519Z",
     "iopub.status.busy": "2023-03-20T18:45:38.900035Z",
     "iopub.status.idle": "2023-03-20T18:45:38.909624Z",
     "shell.execute_reply": "2023-03-20T18:45:38.908545Z"
    },
    "papermill": {
     "duration": 0.024722,
     "end_time": "2023-03-20T18:45:38.912479",
     "exception": false,
     "start_time": "2023-03-20T18:45:38.887757",
     "status": "completed"
    },
    "tags": []
   },
   "outputs": [
    {
     "data": {
      "application/javascript": [
       "parent.postMessage({\"jupyterEvent\": \"custom.exercise_interaction\", \"data\": {\"interactionType\": 3, \"questionType\": 4, \"questionId\": \"3.1_ArithmeticParensEasy\", \"learnToolsVersion\": \"0.3.4\", \"valueTowardsCompletion\": 0.0, \"failureMessage\": \"\", \"exceptionClass\": \"\", \"trace\": \"\", \"outcomeType\": 4}}, \"*\")"
      ],
      "text/plain": [
       "<IPython.core.display.Javascript object>"
      ]
     },
     "metadata": {},
     "output_type": "display_data"
    },
    {
     "data": {
      "text/markdown": [
       "<span style=\"color:#33cc99\">Solution:</span> \n",
       "```python\n",
       "(5 - 3) // 2\n",
       "```"
      ],
      "text/plain": [
       "Solution: \n",
       "```python\n",
       "(5 - 3) // 2\n",
       "```"
      ]
     },
     "metadata": {},
     "output_type": "display_data"
    }
   ],
   "source": [
    "# Check your answer (Run this code cell to receive credit!)\n",
    "q3.a.solution()"
   ]
  },
  {
   "cell_type": "markdown",
   "id": "cbe6431f",
   "metadata": {
    "papermill": {
     "duration": 0.008397,
     "end_time": "2023-03-20T18:45:38.929611",
     "exception": false,
     "start_time": "2023-03-20T18:45:38.921214",
     "status": "completed"
    },
    "tags": []
   },
   "source": [
    "# 3b.  <span title=\"A bit spicy\" style=\"color: darkgreen \">🌶️</span>\n",
    "\n",
    "<small>Questions, like this one, marked a spicy pepper are a bit harder.</small>\n",
    "\n",
    "Add parentheses to the following expression so that it evaluates to 0."
   ]
  },
  {
   "cell_type": "code",
   "execution_count": 13,
   "id": "0cc8088b",
   "metadata": {
    "execution": {
     "iopub.execute_input": "2023-03-20T18:45:38.949700Z",
     "iopub.status.busy": "2023-03-20T18:45:38.948796Z",
     "iopub.status.idle": "2023-03-20T18:45:38.957095Z",
     "shell.execute_reply": "2023-03-20T18:45:38.955915Z"
    },
    "papermill": {
     "duration": 0.020444,
     "end_time": "2023-03-20T18:45:38.959126",
     "exception": false,
     "start_time": "2023-03-20T18:45:38.938682",
     "status": "completed"
    },
    "tags": []
   },
   "outputs": [
    {
     "data": {
      "text/plain": [
       "0"
      ]
     },
     "execution_count": 13,
     "metadata": {},
     "output_type": "execute_result"
    }
   ],
   "source": [
    "8 - 1 - ((3 * 2) + 1)"
   ]
  },
  {
   "cell_type": "code",
   "execution_count": 14,
   "id": "9082808e",
   "metadata": {
    "execution": {
     "iopub.execute_input": "2023-03-20T18:45:38.980929Z",
     "iopub.status.busy": "2023-03-20T18:45:38.980529Z",
     "iopub.status.idle": "2023-03-20T18:45:38.989163Z",
     "shell.execute_reply": "2023-03-20T18:45:38.988202Z"
    },
    "papermill": {
     "duration": 0.022019,
     "end_time": "2023-03-20T18:45:38.991373",
     "exception": false,
     "start_time": "2023-03-20T18:45:38.969354",
     "status": "completed"
    },
    "tags": []
   },
   "outputs": [
    {
     "data": {
      "application/javascript": [
       "parent.postMessage({\"jupyterEvent\": \"custom.exercise_interaction\", \"data\": {\"interactionType\": 2, \"questionType\": 4, \"questionId\": \"3.2_ArithmeticParensHard\", \"learnToolsVersion\": \"0.3.4\", \"valueTowardsCompletion\": 0.0, \"failureMessage\": \"\", \"exceptionClass\": \"\", \"trace\": \"\", \"outcomeType\": 4}}, \"*\")"
      ],
      "text/plain": [
       "<IPython.core.display.Javascript object>"
      ]
     },
     "metadata": {},
     "output_type": "display_data"
    },
    {
     "data": {
      "text/markdown": [
       "<span style=\"color:#3366cc\">Hint:</span> You may need to use several pairs of parentheses."
      ],
      "text/plain": [
       "Hint: You may need to use several pairs of parentheses."
      ]
     },
     "metadata": {},
     "output_type": "display_data"
    }
   ],
   "source": [
    "q3.b.hint()"
   ]
  },
  {
   "cell_type": "code",
   "execution_count": 15,
   "id": "a0c052b9",
   "metadata": {
    "execution": {
     "iopub.execute_input": "2023-03-20T18:45:39.011943Z",
     "iopub.status.busy": "2023-03-20T18:45:39.010870Z",
     "iopub.status.idle": "2023-03-20T18:45:39.019714Z",
     "shell.execute_reply": "2023-03-20T18:45:39.018560Z"
    },
    "papermill": {
     "duration": 0.021554,
     "end_time": "2023-03-20T18:45:39.022102",
     "exception": false,
     "start_time": "2023-03-20T18:45:39.000548",
     "status": "completed"
    },
    "tags": []
   },
   "outputs": [
    {
     "data": {
      "application/javascript": [
       "parent.postMessage({\"jupyterEvent\": \"custom.exercise_interaction\", \"data\": {\"interactionType\": 3, \"questionType\": 4, \"questionId\": \"3.2_ArithmeticParensHard\", \"learnToolsVersion\": \"0.3.4\", \"valueTowardsCompletion\": 0.0, \"failureMessage\": \"\", \"exceptionClass\": \"\", \"trace\": \"\", \"outcomeType\": 4}}, \"*\")"
      ],
      "text/plain": [
       "<IPython.core.display.Javascript object>"
      ]
     },
     "metadata": {},
     "output_type": "display_data"
    },
    {
     "data": {
      "text/markdown": [
       "<span style=\"color:#33cc99\">Solution:</span> `(8 - 3) * (2 - (1 + 1))` is one solution. There may be others."
      ],
      "text/plain": [
       "Solution: `(8 - 3) * (2 - (1 + 1))` is one solution. There may be others."
      ]
     },
     "metadata": {},
     "output_type": "display_data"
    }
   ],
   "source": [
    "# Check your answer (Run this code cell to receive credit!)\n",
    "q3.b.solution()"
   ]
  },
  {
   "cell_type": "markdown",
   "id": "981bc092",
   "metadata": {
    "papermill": {
     "duration": 0.008796,
     "end_time": "2023-03-20T18:45:39.040251",
     "exception": false,
     "start_time": "2023-03-20T18:45:39.031455",
     "status": "completed"
    },
    "tags": []
   },
   "source": [
    "<hr/>\n",
    "\n",
    "# 4. \n",
    "Alice, Bob and Carol have agreed to pool their Halloween candy and split it evenly among themselves.\n",
    "For the sake of their friendship, any candies left over will be smashed. For example, if they collectively\n",
    "bring home 91 candies, they'll take 30 each and smash 1.\n",
    "\n",
    "Write an arithmetic expression below to calculate how many candies they must smash for a given haul."
   ]
  },
  {
   "cell_type": "code",
   "execution_count": 16,
   "id": "5d51600a",
   "metadata": {
    "execution": {
     "iopub.execute_input": "2023-03-20T18:45:39.060538Z",
     "iopub.status.busy": "2023-03-20T18:45:39.059657Z",
     "iopub.status.idle": "2023-03-20T18:45:39.069342Z",
     "shell.execute_reply": "2023-03-20T18:45:39.068430Z"
    },
    "papermill": {
     "duration": 0.022265,
     "end_time": "2023-03-20T18:45:39.071588",
     "exception": false,
     "start_time": "2023-03-20T18:45:39.049323",
     "status": "completed"
    },
    "tags": []
   },
   "outputs": [
    {
     "data": {
      "application/javascript": [
       "parent.postMessage({\"jupyterEvent\": \"custom.exercise_interaction\", \"data\": {\"outcomeType\": 1, \"valueTowardsCompletion\": 0.25, \"interactionType\": 1, \"questionType\": 1, \"questionId\": \"4_CandySplitting\", \"learnToolsVersion\": \"0.3.4\", \"failureMessage\": \"\", \"exceptionClass\": \"\", \"trace\": \"\"}}, \"*\")"
      ],
      "text/plain": [
       "<IPython.core.display.Javascript object>"
      ]
     },
     "metadata": {},
     "output_type": "display_data"
    },
    {
     "data": {
      "text/markdown": [
       "<span style=\"color:#33cc33\">Correct</span>"
      ],
      "text/plain": [
       "Correct"
      ]
     },
     "metadata": {},
     "output_type": "display_data"
    }
   ],
   "source": [
    "# Variables representing the number of candies collected by alice, bob, and carol\n",
    "alice_candies = 121\n",
    "bob_candies = 77\n",
    "carol_candies = 109\n",
    "\n",
    "# Your code goes here! Replace the right-hand side of this assignment with an expression\n",
    "# involving alice_candies, bob_candies, and carol_candies\n",
    "total_candies = alice_candies + bob_candies + carol_candies\n",
    "to_smash = total_candies%3\n",
    "\n",
    "# Check your answer\n",
    "q4.check()"
   ]
  },
  {
   "cell_type": "code",
   "execution_count": 17,
   "id": "6f1a6352",
   "metadata": {
    "execution": {
     "iopub.execute_input": "2023-03-20T18:45:39.092686Z",
     "iopub.status.busy": "2023-03-20T18:45:39.091783Z",
     "iopub.status.idle": "2023-03-20T18:45:39.100374Z",
     "shell.execute_reply": "2023-03-20T18:45:39.099305Z"
    },
    "papermill": {
     "duration": 0.021745,
     "end_time": "2023-03-20T18:45:39.102822",
     "exception": false,
     "start_time": "2023-03-20T18:45:39.081077",
     "status": "completed"
    },
    "tags": []
   },
   "outputs": [
    {
     "data": {
      "application/javascript": [
       "parent.postMessage({\"jupyterEvent\": \"custom.exercise_interaction\", \"data\": {\"interactionType\": 3, \"questionType\": 1, \"questionId\": \"4_CandySplitting\", \"learnToolsVersion\": \"0.3.4\", \"valueTowardsCompletion\": 0.0, \"failureMessage\": \"\", \"exceptionClass\": \"\", \"trace\": \"\", \"outcomeType\": 4}}, \"*\")"
      ],
      "text/plain": [
       "<IPython.core.display.Javascript object>"
      ]
     },
     "metadata": {},
     "output_type": "display_data"
    },
    {
     "data": {
      "text/markdown": [
       "<span style=\"color:#33cc99\">Solution:</span> \n",
       "```python\n",
       "(alice_candies + bob_candies + carol_candies) % 3\n",
       "```"
      ],
      "text/plain": [
       "Solution: \n",
       "```python\n",
       "(alice_candies + bob_candies + carol_candies) % 3\n",
       "```"
      ]
     },
     "metadata": {},
     "output_type": "display_data"
    }
   ],
   "source": [
    "#q4.hint()\n",
    "q4.solution()"
   ]
  },
  {
   "cell_type": "markdown",
   "id": "414714f3",
   "metadata": {
    "papermill": {
     "duration": 0.009156,
     "end_time": "2023-03-20T18:45:39.121470",
     "exception": false,
     "start_time": "2023-03-20T18:45:39.112314",
     "status": "completed"
    },
    "tags": []
   },
   "source": [
    "# Keep Going\n",
    "\n",
    "Next up, you'll **[learn to write new functions and understand functions others write](https://www.kaggle.com/colinmorris/functions-and-getting-help)**. This will make you at least 10 times more productive as a Python programmer. "
   ]
  },
  {
   "cell_type": "markdown",
   "id": "0078f320",
   "metadata": {
    "papermill": {
     "duration": 0.009284,
     "end_time": "2023-03-20T18:45:39.140309",
     "exception": false,
     "start_time": "2023-03-20T18:45:39.131025",
     "status": "completed"
    },
    "tags": []
   },
   "source": [
    "---\n",
    "\n",
    "\n",
    "\n",
    "\n",
    "*Have questions or comments? Visit the [course discussion forum](https://www.kaggle.com/learn/python/discussion) to chat with other learners.*"
   ]
  }
 ],
 "metadata": {
  "kernelspec": {
   "display_name": "Python 3",
   "language": "python",
   "name": "python3"
  },
  "language_info": {
   "codemirror_mode": {
    "name": "ipython",
    "version": 3
   },
   "file_extension": ".py",
   "mimetype": "text/x-python",
   "name": "python",
   "nbconvert_exporter": "python",
   "pygments_lexer": "ipython3",
   "version": "3.7.12"
  },
  "papermill": {
   "default_parameters": {},
   "duration": 10.651917,
   "end_time": "2023-03-20T18:45:39.771608",
   "environment_variables": {},
   "exception": null,
   "input_path": "__notebook__.ipynb",
   "output_path": "__notebook__.ipynb",
   "parameters": {},
   "start_time": "2023-03-20T18:45:29.119691",
   "version": "2.4.0"
  }
 },
 "nbformat": 4,
 "nbformat_minor": 5
}
